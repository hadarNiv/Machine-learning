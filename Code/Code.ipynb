{
 "cells": [
  {
   "cell_type": "code",
   "execution_count": 1,
   "id": "64050c70-870a-4442-b06b-54ac66431687",
   "metadata": {
    "executionInfo": {
     "elapsed": 15091,
     "status": "ok",
     "timestamp": 1736767592850,
     "user": {
      "displayName": "יואב כהן",
      "userId": "11310514616825726202"
     },
     "user_tz": -120
    },
    "id": "64050c70-870a-4442-b06b-54ac66431687"
   },
   "outputs": [],
   "source": [
    "import pandas as pd\n",
    "import numpy as np\n",
    "import matplotlib.pyplot as plt\n",
    "import seaborn as sns\n",
    "import warnings\n",
    "warnings.filterwarnings(\"ignore\")\n",
    "from sklearn.preprocessing import StandardScaler, PolynomialFeatures, LabelEncoder\n",
    "from sklearn.model_selection import GridSearchCV"
   ]
  },
  {
   "cell_type": "code",
   "execution_count": 2,
   "id": "af9293d0-5376-4bae-bbbf-613627bc714a",
   "metadata": {
    "colab": {
     "base_uri": "https://localhost:8080/",
     "height": 424
    },
    "executionInfo": {
     "elapsed": 25,
     "status": "ok",
     "timestamp": 1736767592851,
     "user": {
      "displayName": "יואב כהן",
      "userId": "11310514616825726202"
     },
     "user_tz": -120
    },
    "id": "af9293d0-5376-4bae-bbbf-613627bc714a",
    "outputId": "0b972f50-16dd-4769-b164-f08af8d66224"
   },
   "outputs": [
    {
     "data": {
      "text/html": [
       "<div>\n",
       "<style scoped>\n",
       "    .dataframe tbody tr th:only-of-type {\n",
       "        vertical-align: middle;\n",
       "    }\n",
       "\n",
       "    .dataframe tbody tr th {\n",
       "        vertical-align: top;\n",
       "    }\n",
       "\n",
       "    .dataframe thead th {\n",
       "        text-align: right;\n",
       "    }\n",
       "</style>\n",
       "<table border=\"1\" class=\"dataframe\">\n",
       "  <thead>\n",
       "    <tr style=\"text-align: right;\">\n",
       "      <th></th>\n",
       "      <th>year</th>\n",
       "      <th>id</th>\n",
       "      <th>קוד_סקר</th>\n",
       "      <th>קודביתחולים</th>\n",
       "      <th>קוד</th>\n",
       "      <th>code_hospital</th>\n",
       "      <th>מגדר</th>\n",
       "      <th>מחלקת_אשפוז</th>\n",
       "      <th>קופת_חולים_בה_מבוטח</th>\n",
       "      <th>הגעה_מהמיון_דחוף__אלקטיבי</th>\n",
       "      <th>...</th>\n",
       "      <th>Q31_5down</th>\n",
       "      <th>AGE_TODAY</th>\n",
       "      <th>KUPAT_HOLIM</th>\n",
       "      <th>baalut</th>\n",
       "      <th>weightKlali</th>\n",
       "      <th>weightPnimi</th>\n",
       "      <th>weightChirurg</th>\n",
       "      <th>weightOther</th>\n",
       "      <th>accredit</th>\n",
       "      <th>age</th>\n",
       "    </tr>\n",
       "  </thead>\n",
       "  <tbody>\n",
       "    <tr>\n",
       "      <th>0</th>\n",
       "      <td>2016</td>\n",
       "      <td>600001</td>\n",
       "      <td>1</td>\n",
       "      <td>1101</td>\n",
       "      <td>A</td>\n",
       "      <td>1.0</td>\n",
       "      <td>נקבה</td>\n",
       "      <td>10013</td>\n",
       "      <td>כללית</td>\n",
       "      <td>דחוף</td>\n",
       "      <td>...</td>\n",
       "      <td>NaN</td>\n",
       "      <td>66</td>\n",
       "      <td>1.0</td>\n",
       "      <td>1</td>\n",
       "      <td>2.03</td>\n",
       "      <td>1.39</td>\n",
       "      <td>NaN</td>\n",
       "      <td>NaN</td>\n",
       "      <td>NaN</td>\n",
       "      <td>3</td>\n",
       "    </tr>\n",
       "    <tr>\n",
       "      <th>1</th>\n",
       "      <td>2016</td>\n",
       "      <td>600002</td>\n",
       "      <td>1</td>\n",
       "      <td>1101</td>\n",
       "      <td>A</td>\n",
       "      <td>1.0</td>\n",
       "      <td>נקבה</td>\n",
       "      <td>13102</td>\n",
       "      <td>מכבי</td>\n",
       "      <td>אלקטיבי</td>\n",
       "      <td>...</td>\n",
       "      <td>0.0</td>\n",
       "      <td>69</td>\n",
       "      <td>4.0</td>\n",
       "      <td>1</td>\n",
       "      <td>2.03</td>\n",
       "      <td>NaN</td>\n",
       "      <td>0.29</td>\n",
       "      <td>NaN</td>\n",
       "      <td>NaN</td>\n",
       "      <td>3</td>\n",
       "    </tr>\n",
       "    <tr>\n",
       "      <th>2</th>\n",
       "      <td>2016</td>\n",
       "      <td>600003</td>\n",
       "      <td>1</td>\n",
       "      <td>1101</td>\n",
       "      <td>A</td>\n",
       "      <td>1.0</td>\n",
       "      <td>זכר</td>\n",
       "      <td>13003</td>\n",
       "      <td>כללית</td>\n",
       "      <td>הגעה ממיון</td>\n",
       "      <td>...</td>\n",
       "      <td>1.0</td>\n",
       "      <td>26</td>\n",
       "      <td>1.0</td>\n",
       "      <td>1</td>\n",
       "      <td>2.03</td>\n",
       "      <td>NaN</td>\n",
       "      <td>0.29</td>\n",
       "      <td>NaN</td>\n",
       "      <td>NaN</td>\n",
       "      <td>1</td>\n",
       "    </tr>\n",
       "    <tr>\n",
       "      <th>3</th>\n",
       "      <td>2016</td>\n",
       "      <td>600004</td>\n",
       "      <td>1</td>\n",
       "      <td>1101</td>\n",
       "      <td>A</td>\n",
       "      <td>1.0</td>\n",
       "      <td>נקבה</td>\n",
       "      <td>13102</td>\n",
       "      <td>לאומית</td>\n",
       "      <td>אלקטיבי</td>\n",
       "      <td>...</td>\n",
       "      <td>0.0</td>\n",
       "      <td>70</td>\n",
       "      <td>2.0</td>\n",
       "      <td>1</td>\n",
       "      <td>2.03</td>\n",
       "      <td>NaN</td>\n",
       "      <td>0.29</td>\n",
       "      <td>NaN</td>\n",
       "      <td>NaN</td>\n",
       "      <td>3</td>\n",
       "    </tr>\n",
       "    <tr>\n",
       "      <th>4</th>\n",
       "      <td>2016</td>\n",
       "      <td>600005</td>\n",
       "      <td>1</td>\n",
       "      <td>1101</td>\n",
       "      <td>A</td>\n",
       "      <td>1.0</td>\n",
       "      <td>זכר</td>\n",
       "      <td>13102</td>\n",
       "      <td>מכבי</td>\n",
       "      <td>אלקטיבי</td>\n",
       "      <td>...</td>\n",
       "      <td>0.0</td>\n",
       "      <td>59</td>\n",
       "      <td>4.0</td>\n",
       "      <td>1</td>\n",
       "      <td>2.03</td>\n",
       "      <td>NaN</td>\n",
       "      <td>0.29</td>\n",
       "      <td>NaN</td>\n",
       "      <td>NaN</td>\n",
       "      <td>2</td>\n",
       "    </tr>\n",
       "    <tr>\n",
       "      <th>...</th>\n",
       "      <td>...</td>\n",
       "      <td>...</td>\n",
       "      <td>...</td>\n",
       "      <td>...</td>\n",
       "      <td>...</td>\n",
       "      <td>...</td>\n",
       "      <td>...</td>\n",
       "      <td>...</td>\n",
       "      <td>...</td>\n",
       "      <td>...</td>\n",
       "      <td>...</td>\n",
       "      <td>...</td>\n",
       "      <td>...</td>\n",
       "      <td>...</td>\n",
       "      <td>...</td>\n",
       "      <td>...</td>\n",
       "      <td>...</td>\n",
       "      <td>...</td>\n",
       "      <td>...</td>\n",
       "      <td>...</td>\n",
       "      <td>...</td>\n",
       "    </tr>\n",
       "    <tr>\n",
       "      <th>11094</th>\n",
       "      <td>2016</td>\n",
       "      <td>611095</td>\n",
       "      <td>1</td>\n",
       "      <td>1103</td>\n",
       "      <td>AB</td>\n",
       "      <td>2.7</td>\n",
       "      <td>זכר</td>\n",
       "      <td>13101</td>\n",
       "      <td>כללית</td>\n",
       "      <td>דחוף</td>\n",
       "      <td>...</td>\n",
       "      <td>NaN</td>\n",
       "      <td>78</td>\n",
       "      <td>1.0</td>\n",
       "      <td>1</td>\n",
       "      <td>1.07</td>\n",
       "      <td>NaN</td>\n",
       "      <td>NaN</td>\n",
       "      <td>NaN</td>\n",
       "      <td>NaN</td>\n",
       "      <td>3</td>\n",
       "    </tr>\n",
       "    <tr>\n",
       "      <th>11095</th>\n",
       "      <td>2016</td>\n",
       "      <td>611096</td>\n",
       "      <td>1</td>\n",
       "      <td>1103</td>\n",
       "      <td>AB</td>\n",
       "      <td>2.7</td>\n",
       "      <td>זכר</td>\n",
       "      <td>13200</td>\n",
       "      <td>מאוחדת</td>\n",
       "      <td>אלקטיבי</td>\n",
       "      <td>...</td>\n",
       "      <td>NaN</td>\n",
       "      <td>62</td>\n",
       "      <td>3.0</td>\n",
       "      <td>1</td>\n",
       "      <td>1.07</td>\n",
       "      <td>NaN</td>\n",
       "      <td>NaN</td>\n",
       "      <td>NaN</td>\n",
       "      <td>NaN</td>\n",
       "      <td>2</td>\n",
       "    </tr>\n",
       "    <tr>\n",
       "      <th>11096</th>\n",
       "      <td>2016</td>\n",
       "      <td>611097</td>\n",
       "      <td>1</td>\n",
       "      <td>1103</td>\n",
       "      <td>AB</td>\n",
       "      <td>2.7</td>\n",
       "      <td>נקבה</td>\n",
       "      <td>13002</td>\n",
       "      <td>מאוחדת</td>\n",
       "      <td>דחוף</td>\n",
       "      <td>...</td>\n",
       "      <td>0.0</td>\n",
       "      <td>84</td>\n",
       "      <td>3.0</td>\n",
       "      <td>1</td>\n",
       "      <td>1.07</td>\n",
       "      <td>NaN</td>\n",
       "      <td>NaN</td>\n",
       "      <td>NaN</td>\n",
       "      <td>NaN</td>\n",
       "      <td>3</td>\n",
       "    </tr>\n",
       "    <tr>\n",
       "      <th>11097</th>\n",
       "      <td>2016</td>\n",
       "      <td>611098</td>\n",
       "      <td>1</td>\n",
       "      <td>1103</td>\n",
       "      <td>AB</td>\n",
       "      <td>2.7</td>\n",
       "      <td>נקבה</td>\n",
       "      <td>13002</td>\n",
       "      <td>כללית</td>\n",
       "      <td>דחוף</td>\n",
       "      <td>...</td>\n",
       "      <td>0.0</td>\n",
       "      <td>80</td>\n",
       "      <td>1.0</td>\n",
       "      <td>1</td>\n",
       "      <td>1.07</td>\n",
       "      <td>NaN</td>\n",
       "      <td>NaN</td>\n",
       "      <td>NaN</td>\n",
       "      <td>NaN</td>\n",
       "      <td>3</td>\n",
       "    </tr>\n",
       "    <tr>\n",
       "      <th>11098</th>\n",
       "      <td>2016</td>\n",
       "      <td>611099</td>\n",
       "      <td>1</td>\n",
       "      <td>1103</td>\n",
       "      <td>AB</td>\n",
       "      <td>2.7</td>\n",
       "      <td>זכר</td>\n",
       "      <td>10018</td>\n",
       "      <td>מאוחדת</td>\n",
       "      <td>דחוף</td>\n",
       "      <td>...</td>\n",
       "      <td>0.0</td>\n",
       "      <td>69</td>\n",
       "      <td>3.0</td>\n",
       "      <td>1</td>\n",
       "      <td>1.07</td>\n",
       "      <td>NaN</td>\n",
       "      <td>NaN</td>\n",
       "      <td>NaN</td>\n",
       "      <td>NaN</td>\n",
       "      <td>3</td>\n",
       "    </tr>\n",
       "  </tbody>\n",
       "</table>\n",
       "<p>11099 rows × 143 columns</p>\n",
       "</div>"
      ],
      "text/plain": [
       "       year      id  קוד_סקר  קודביתחולים קוד  code_hospital  מגדר  \\\n",
       "0      2016  600001        1         1101   A            1.0  נקבה   \n",
       "1      2016  600002        1         1101   A            1.0  נקבה   \n",
       "2      2016  600003        1         1101   A            1.0   זכר   \n",
       "3      2016  600004        1         1101   A            1.0  נקבה   \n",
       "4      2016  600005        1         1101   A            1.0   זכר   \n",
       "...     ...     ...      ...          ...  ..            ...   ...   \n",
       "11094  2016  611095        1         1103  AB            2.7   זכר   \n",
       "11095  2016  611096        1         1103  AB            2.7   זכר   \n",
       "11096  2016  611097        1         1103  AB            2.7  נקבה   \n",
       "11097  2016  611098        1         1103  AB            2.7  נקבה   \n",
       "11098  2016  611099        1         1103  AB            2.7   זכר   \n",
       "\n",
       "       מחלקת_אשפוז קופת_חולים_בה_מבוטח הגעה_מהמיון_דחוף__אלקטיבי  ...  \\\n",
       "0            10013               כללית                      דחוף  ...   \n",
       "1            13102                מכבי                   אלקטיבי  ...   \n",
       "2            13003               כללית                הגעה ממיון  ...   \n",
       "3            13102              לאומית                   אלקטיבי  ...   \n",
       "4            13102                מכבי                   אלקטיבי  ...   \n",
       "...            ...                 ...                       ...  ...   \n",
       "11094        13101               כללית                      דחוף  ...   \n",
       "11095        13200              מאוחדת                   אלקטיבי  ...   \n",
       "11096        13002              מאוחדת                      דחוף  ...   \n",
       "11097        13002               כללית                      דחוף  ...   \n",
       "11098        10018              מאוחדת                      דחוף  ...   \n",
       "\n",
       "      Q31_5down  AGE_TODAY  KUPAT_HOLIM  baalut  weightKlali  weightPnimi  \\\n",
       "0           NaN         66          1.0       1         2.03         1.39   \n",
       "1           0.0         69          4.0       1         2.03          NaN   \n",
       "2           1.0         26          1.0       1         2.03          NaN   \n",
       "3           0.0         70          2.0       1         2.03          NaN   \n",
       "4           0.0         59          4.0       1         2.03          NaN   \n",
       "...         ...        ...          ...     ...          ...          ...   \n",
       "11094       NaN         78          1.0       1         1.07          NaN   \n",
       "11095       NaN         62          3.0       1         1.07          NaN   \n",
       "11096       0.0         84          3.0       1         1.07          NaN   \n",
       "11097       0.0         80          1.0       1         1.07          NaN   \n",
       "11098       0.0         69          3.0       1         1.07          NaN   \n",
       "\n",
       "       weightChirurg  weightOther  accredit  age  \n",
       "0                NaN          NaN       NaN    3  \n",
       "1               0.29          NaN       NaN    3  \n",
       "2               0.29          NaN       NaN    1  \n",
       "3               0.29          NaN       NaN    3  \n",
       "4               0.29          NaN       NaN    2  \n",
       "...              ...          ...       ...  ...  \n",
       "11094            NaN          NaN       NaN    3  \n",
       "11095            NaN          NaN       NaN    2  \n",
       "11096            NaN          NaN       NaN    3  \n",
       "11097            NaN          NaN       NaN    3  \n",
       "11098            NaN          NaN       NaN    3  \n",
       "\n",
       "[11099 rows x 143 columns]"
      ]
     },
     "execution_count": 2,
     "metadata": {},
     "output_type": "execute_result"
    }
   ],
   "source": [
    "data= pd.read_csv(\"data.csv\")\n",
    "data"
   ]
  },
  {
   "cell_type": "markdown",
   "id": "c4dce70f-526f-4dbd-a2fe-f736af7f76ed",
   "metadata": {
    "id": "c4dce70f-526f-4dbd-a2fe-f736af7f76ed"
   },
   "source": [
    "# Deleting columns"
   ]
  },
  {
   "cell_type": "markdown",
   "id": "d8e90a79-8735-42b3-9bed-287237bbaa1c",
   "metadata": {},
   "source": [
    "#### Empty columns"
   ]
  },
  {
   "cell_type": "code",
   "execution_count": 3,
   "id": "fcb28c22-56d7-4b30-bc9e-de2a370662fa",
   "metadata": {
    "colab": {
     "base_uri": "https://localhost:8080/"
    },
    "executionInfo": {
     "elapsed": 20,
     "status": "ok",
     "timestamp": 1736767592852,
     "user": {
      "displayName": "יואב כהן",
      "userId": "11310514616825726202"
     },
     "user_tz": -120
    },
    "id": "fcb28c22-56d7-4b30-bc9e-de2a370662fa",
    "outputId": "716e0534-7f68-4d3c-fe18-f96265945201"
   },
   "outputs": [
    {
     "name": "stdout",
     "output_type": "stream",
     "text": [
      "[nan]\n",
      "[nan]\n",
      "[nan]\n"
     ]
    }
   ],
   "source": [
    "print(data['Q21'].unique())\n",
    "print(data['Q39'].unique())\n",
    "print(data['accredit'].unique())\n",
    "data.drop(columns=['Q21', 'Q39','accredit'], inplace=True)"
   ]
  },
  {
   "cell_type": "markdown",
   "id": "621cd828-2c16-4583-9fa7-bee636602a39",
   "metadata": {},
   "source": [
    "#### Duplicate and irrelevant columns\n",
    "For example-\n",
    "* year- Not relevant because all data is based on 2016\n",
    "* Survey code- No relevant information\n",
    "* age- There is an additional column that is already divided into age range categories\n",
    "* Gender, ID, Language, Age, Education, Health Insurance Fund, Hospital Code, Department, Code, Hospitalization Department and Health Status- Duplicate columns"
   ]
  },
  {
   "cell_type": "code",
   "execution_count": 4,
   "id": "1c1478a3-e45f-49b1-ba2e-324569fdbdc5",
   "metadata": {
    "executionInfo": {
     "elapsed": 18,
     "status": "ok",
     "timestamp": 1736767592853,
     "user": {
      "displayName": "יואב כהן",
      "userId": "11310514616825726202"
     },
     "user_tz": -120
    },
    "id": "1c1478a3-e45f-49b1-ba2e-324569fdbdc5"
   },
   "outputs": [],
   "source": [
    "data.drop(columns=['year', 'age', 'מגדר', 'קודביתחולים', 'קוד_סקר', 'קופת_חולים_בה_מבוטח','lang', 'HEALTH_STATUS', 'education', 'id', 'קוד', 'מחלקה','AGE_TODAY_G','מחלקת_אשפוז'], inplace=True)"
   ]
  },
  {
   "cell_type": "markdown",
   "id": "c600360f-9b89-4368-8423-e727f4d1e74e",
   "metadata": {
    "id": "c600360f-9b89-4368-8423-e727f4d1e74e"
   },
   "source": [
    "#### Per columns\n",
    "From a report we found on the ministry's website, these columns are cross-cluster score columns, which combine several questions and weight them according to the ministry's preference.\n",
    "This is irrelevant to us because it is not described to us which columns were taken into account, and according to what weight, so we decided to delete them."
   ]
  },
  {
   "cell_type": "code",
   "execution_count": 5,
   "id": "da8678f0-791a-4c36-8736-da33ea7621f5",
   "metadata": {
    "executionInfo": {
     "elapsed": 17,
     "status": "ok",
     "timestamp": 1736767592853,
     "user": {
      "displayName": "יואב כהן",
      "userId": "11310514616825726202"
     },
     "user_tz": -120
    },
    "id": "da8678f0-791a-4c36-8736-da33ea7621f5"
   },
   "outputs": [],
   "source": [
    "data.drop(columns=['NURSESPER', 'DOCTORSPER', 'TIPULIPER', 'MEIDAPER_right','SHICHRURPER','ENVIRPER','YACHASPER','MEIDALATPER','RETZEFPER','HAATZAMAPER','TNAYMPER','YAYILUTPER','GoodHandsPER','TIPULI4PER'], inplace=True)"
   ]
  },
  {
   "cell_type": "markdown",
   "id": "f0c255cd-6631-45de-ab42-fbba4e4521bf",
   "metadata": {
    "id": "f0c255cd-6631-45de-ab42-fbba4e4521bf"
   },
   "source": [
    "#### Weight columns\n",
    "According to the website, the weight columns are the weight columns of each patient for the benefit of the national score/hospital score. There are 4 weight columns given - general, internal department, surgical department, and all the rest. Here too, we did not understand which columns were taken into account and according to what, so we decided to delete them."
   ]
  },
  {
   "cell_type": "code",
   "execution_count": 6,
   "id": "075ce17d-80c9-4313-a935-c29b4b1a6684",
   "metadata": {
    "executionInfo": {
     "elapsed": 17,
     "status": "ok",
     "timestamp": 1736767592853,
     "user": {
      "displayName": "יואב כהן",
      "userId": "11310514616825726202"
     },
     "user_tz": -120
    },
    "id": "075ce17d-80c9-4313-a935-c29b4b1a6684"
   },
   "outputs": [],
   "source": [
    "data.drop(columns=['weightPnimi', 'weightChirurg', 'weightOther', 'weightKlali'], inplace=True)"
   ]
  },
  {
   "cell_type": "markdown",
   "id": "c7651118-0008-413f-9744-e46387573361",
   "metadata": {
    "id": "c7651118-0008-413f-9744-e46387573361"
   },
   "source": [
    "#### Binary columns- created by the Ministry of Health\n",
    "The data was divided into two categories (dichotomous columns). Above a certain threshold, one category received a 1 and below that threshold, the other category received a 0. Because we chose to do Feature Engineering differently, these columns are not useful, so we deleted them."
   ]
  },
  {
   "cell_type": "markdown",
   "id": "9e71b43f-691d-4d93-9ae6-b46dd7847d1a",
   "metadata": {
    "id": "9e71b43f-691d-4d93-9ae6-b46dd7847d1a"
   },
   "source": [
    "##### Dicho columns"
   ]
  },
  {
   "cell_type": "code",
   "execution_count": 7,
   "id": "2d4394b8-b809-49bd-96e7-d728c8465126",
   "metadata": {
    "executionInfo": {
     "elapsed": 16,
     "status": "ok",
     "timestamp": 1736767592853,
     "user": {
      "displayName": "יואב כהן",
      "userId": "11310514616825726202"
     },
     "user_tz": -120
    },
    "id": "2d4394b8-b809-49bd-96e7-d728c8465126"
   },
   "outputs": [],
   "source": [
    "data.drop(columns=['Q3_Dicho', 'q4r_Dicho', 'q5r_Dicho', 'q6r_Dicho', 'q7r_Dicho', 'q8r_Dicho', 'q9r_Dicho', 'q10r_Dicho', 'q11r_Dicho', 'q12r_dicho', 'q13r_Dicho', 'q14r_Dicho', 'q15r_Dicho', 'q16r_Dicho', 'q17r_Dicho', 'q18r_Dicho', 'q19r_Dicho', 'q20r_dicho', 'q21r_Dicho', 'q22r_Dicho', 'q23r_Dicho', 'q24r_Dicho', 'q25r_dicho', 'q26r_dicho', 'q27r_Dicho', 'q28r_Dicho', 'q29r_Dicho', 'q30r_Dicho', 'Q31_Dicho'], inplace=True)"
   ]
  },
  {
   "cell_type": "markdown",
   "id": "c18c9917-cadc-45aa-9d03-edf4043ceb7c",
   "metadata": {
    "id": "c18c9917-cadc-45aa-9d03-edf4043ceb7c"
   },
   "source": [
    "##### G columns"
   ]
  },
  {
   "cell_type": "code",
   "execution_count": 8,
   "id": "c656102d-a146-423b-a098-4a3b8f0ab239",
   "metadata": {
    "executionInfo": {
     "elapsed": 16,
     "status": "ok",
     "timestamp": 1736767592854,
     "user": {
      "displayName": "יואב כהן",
      "userId": "11310514616825726202"
     },
     "user_tz": -120
    },
    "id": "c656102d-a146-423b-a098-4a3b8f0ab239"
   },
   "outputs": [],
   "source": [
    "data.drop(columns=['Q3_G', 'q31_G'], inplace=True)"
   ]
  },
  {
   "cell_type": "markdown",
   "id": "7ce88594-b224-423f-9ee0-564045f49297",
   "metadata": {
    "executionInfo": {
     "elapsed": 4,
     "status": "ok",
     "timestamp": 1733661102212,
     "user": {
      "displayName": "יואב כהן",
      "userId": "11310514616825726202"
     },
     "user_tz": -120
    },
    "id": "7ce88594-b224-423f-9ee0-564045f49297"
   },
   "source": [
    "##### Down columns"
   ]
  },
  {
   "cell_type": "code",
   "execution_count": 9,
   "id": "9bb3b4a7-5a8d-4836-9637-d5ee7bca5128",
   "metadata": {
    "executionInfo": {
     "elapsed": 16,
     "status": "ok",
     "timestamp": 1736767592854,
     "user": {
      "displayName": "יואב כהן",
      "userId": "11310514616825726202"
     },
     "user_tz": -120
    },
    "id": "9bb3b4a7-5a8d-4836-9637-d5ee7bca5128"
   },
   "outputs": [],
   "source": [
    "data.drop(columns=['Q3_5down', 'Q31_5down'], inplace=True)"
   ]
  },
  {
   "cell_type": "markdown",
   "id": "6aa28993-53bd-49d8-85cf-91ce1c6e91e9",
   "metadata": {
    "id": "6aa28993-53bd-49d8-85cf-91ce1c6e91e9"
   },
   "source": [
    "### Outlier values\n",
    "Meaning of these values ​​from the patient's perspective - irrelevant, we will turn them into missing values ​​and deal with them at a later stage.\n",
    "99- Don't know/not relevant/refuse to answer"
   ]
  },
  {
   "cell_type": "code",
   "execution_count": 10,
   "id": "34171970-66d4-47ef-b3fc-f02b35d8e616",
   "metadata": {
    "executionInfo": {
     "elapsed": 15,
     "status": "ok",
     "timestamp": 1736767592854,
     "user": {
      "displayName": "יואב כהן",
      "userId": "11310514616825726202"
     },
     "user_tz": -120
    },
    "id": "34171970-66d4-47ef-b3fc-f02b35d8e616"
   },
   "outputs": [],
   "source": [
    "data.replace(99, np.nan, inplace=True)"
   ]
  },
  {
   "cell_type": "markdown",
   "id": "13c1e92b-8d7d-4af9-acf1-a55dacf3ef93",
   "metadata": {},
   "source": [
    "Choice column- We found outlier values. This column describes whether the caregiver was given the option to choose a hospital where they would be treated. The answers to the survey are 1 given, 0 not given. We saw that an outlier value 3 also appears, which constitutes a few rows from the data, so we chose to remove them."
   ]
  },
  {
   "cell_type": "code",
   "execution_count": 11,
   "id": "0b25cf25-e5f5-4364-8a63-748c08aec893",
   "metadata": {},
   "outputs": [],
   "source": [
    "data = data[data['CHOICE'] != 3]"
   ]
  },
  {
   "cell_type": "markdown",
   "id": "df545b4c-dfbf-40f2-a5ca-49e6d5d907aa",
   "metadata": {
    "id": "df545b4c-dfbf-40f2-a5ca-49e6d5d907aa"
   },
   "source": [
    "### Correlation between variables\n",
    "We will make a correlation between 2 variables that seem to us to have a high correlation. And if there is a strong relationship between 2 variables, one of them will be deleted"
   ]
  },
  {
   "cell_type": "markdown",
   "id": "6928825e-0b6c-4855-a620-7871ed2700dc",
   "metadata": {
    "id": "6928825e-0b6c-4855-a620-7871ed2700dc"
   },
   "source": [
    "#### r columns\n",
    "We noticed that many of the questions with the prefix r were repetitive, so we checked the correlation between them to understand the connection and whether they were necessary. The correlation came out to be strongly negative (exactly -1), meaning that it was the same information that added no value to us, so we decided to remove these columns from the data."
   ]
  },
  {
   "cell_type": "code",
   "execution_count": 12,
   "id": "b5b4bcb4-f908-4282-9b7c-3dc9949537a0",
   "metadata": {
    "colab": {
     "base_uri": "https://localhost:8080/",
     "height": 837
    },
    "executionInfo": {
     "elapsed": 10745,
     "status": "ok",
     "timestamp": 1736767603585,
     "user": {
      "displayName": "יואב כהן",
      "userId": "11310514616825726202"
     },
     "user_tz": -120
    },
    "id": "b5b4bcb4-f908-4282-9b7c-3dc9949537a0",
    "outputId": "98eca17a-fc0d-49b2-abe3-44d11221a651"
   },
   "outputs": [
    {
     "data": {
      "image/png": "[encoded data removed]",
      "text/plain": [
       "<Figure size 1440x576 with 10 Axes>"
      ]
     },
     "metadata": {
      "needs_background": "light"
     },
     "output_type": "display_data"
    }
   ],
   "source": [
    "###GPT###\n",
    "#We will check a different column each time.\n",
    "correlationQ4_q4r = data['Q4'].corr(data['q4r']) #-1\n",
    "# Conclusion - The relationship between the regular columns and the r columns shows a strong negative relationship\n",
    "\n",
    "#We will represent this on a graph by a regular column against the r column.\n",
    "column_pairs = [\n",
    "    ('Q5', 'q5r'), ('Q6', 'q6r'), ('Q7', 'q7r'), ('Q8', 'q8r'), ('Q9', 'q9r'),\n",
    "    ('Q10', 'q10r'), ('Q11', 'q11r'), ('Q12', 'q12r'), ('Q13', 'q13r'), ('Q14', 'q14r')\n",
    "]\n",
    "\n",
    "fig, axes = plt.subplots(2, 5, figsize=(20, 8))\n",
    "for idx, (q_col, qr_col) in enumerate(column_pairs):\n",
    "    i, j = divmod(idx, 5)\n",
    "    axes[i, j].scatter(data[q_col], data[qr_col], alpha=0.6, edgecolors='k')\n",
    "    axes[i, j].set_title(f'{q_col} vs {qr_col}', fontsize=8)\n",
    "    axes[i, j].tick_params(axis='both', which='major', labelsize=6)\n",
    "plt.tight_layout()\n",
    "plt.suptitle('Correlation Matrix (Q_ VS q_r Pairs)', y=1.02, fontsize=20)\n",
    "plt.show()\n",
    "####"
   ]
  },
  {
   "cell_type": "markdown",
   "id": "b0760182-3366-454b-9e73-6f965142221a",
   "metadata": {
    "id": "b0760182-3366-454b-9e73-6f965142221a"
   },
   "source": [
    "Following the strong negative correlation of -1, meaning there is no new information in the column - it is the same information that does not add value to us, so we decided to remove these columns from the data.\n",
    "We noticed that the inverse columns are the columns called qNUMr"
   ]
  },
  {
   "cell_type": "code",
   "execution_count": 13,
   "id": "926f85c2-c9c4-4921-bdff-5524d8f650d7",
   "metadata": {
    "executionInfo": {
     "elapsed": 7,
     "status": "ok",
     "timestamp": 1736767603585,
     "user": {
      "displayName": "יואב כהן",
      "userId": "11310514616825726202"
     },
     "user_tz": -120
    },
    "id": "926f85c2-c9c4-4921-bdff-5524d8f650d7"
   },
   "outputs": [],
   "source": [
    "data.drop(columns=[ 'q4r','q5r','q6r','q7r','q8r','q9r','q10r','q11r','q12r','q13r','q14r','q15r','q16r','q17r','q18r','q19r','q20r','Q21R','q21r_2016','q22r','q23r','q24r','q25r','q26r','q27r','q28r','q29r','q30r'], inplace=True)"
   ]
  },
  {
   "cell_type": "code",
   "execution_count": 14,
   "id": "9769f9af-5e1a-415e-ac87-ef16ddcadcb0",
   "metadata": {
    "executionInfo": {
     "elapsed": 6,
     "status": "ok",
     "timestamp": 1736767603585,
     "user": {
      "displayName": "יואב כהן",
      "userId": "11310514616825726202"
     },
     "user_tz": -120
    },
    "id": "9769f9af-5e1a-415e-ac87-ef16ddcadcb0"
   },
   "outputs": [],
   "source": [
    "correlation_CORR = data['corridor1'].corr(data['Q34']) #0.94"
   ]
  },
  {
   "cell_type": "markdown",
   "id": "562416a4-a892-4bca-922a-a359aaac90db",
   "metadata": {
    "id": "562416a4-a892-4bca-922a-a359aaac90db"
   },
   "source": [
    "Due to a strong positive correlation, this is identical information, so we deleted one of the columns."
   ]
  },
  {
   "cell_type": "code",
   "execution_count": 15,
   "id": "cced4ace-c5f6-4981-a4bd-84287108baf9",
   "metadata": {
    "executionInfo": {
     "elapsed": 6,
     "status": "ok",
     "timestamp": 1736767603585,
     "user": {
      "displayName": "יואב כהן",
      "userId": "11310514616825726202"
     },
     "user_tz": -120
    },
    "id": "cced4ace-c5f6-4981-a4bd-84287108baf9"
   },
   "outputs": [],
   "source": [
    "data.drop(columns=['Q34'], inplace=True)"
   ]
  },
  {
   "cell_type": "markdown",
   "id": "c612092d-7994-4ad9-8569-350a4aebb0f8",
   "metadata": {
    "id": "c612092d-7994-4ad9-8569-350a4aebb0f8"
   },
   "source": [
    "# Missing values"
   ]
  },
  {
   "cell_type": "code",
   "execution_count": 16,
   "id": "b4c74382-5244-4f5e-af1d-7bdd79c174df",
   "metadata": {
    "colab": {
     "base_uri": "https://localhost:8080/"
    },
    "executionInfo": {
     "elapsed": 5,
     "status": "ok",
     "timestamp": 1736767603585,
     "user": {
      "displayName": "יואב כהן",
      "userId": "11310514616825726202"
     },
     "user_tz": -120
    },
    "id": "b4c74382-5244-4f5e-af1d-7bdd79c174df",
    "outputId": "88006c30-39f9-44d2-ba75-c1423e395519"
   },
   "outputs": [
    {
     "data": {
      "text/plain": [
       "Index(['Miyun_or_Electiv', 'Education_2', 'CHRONIC_2', 'HEALTH_Status_2', 'Q3',\n",
       "       'Q31', 'Q4', 'Q5', 'Q6', 'Q7', 'Q8', 'Q9', 'Q10', 'Q11', 'Q12', 'Q13',\n",
       "       'Q14', 'Q15', 'Q16', 'Q17', 'Q18', 'Q19', 'Q20', 'Q21_2016', 'Q22',\n",
       "       'Q23', 'Q24', 'Q25', 'Q26', 'Q27', 'Q28', 'Q29', 'Q30', 'Q33',\n",
       "       'AGE_TODAY', 'KUPAT_HOLIM'],\n",
       "      dtype='object')"
      ]
     },
     "execution_count": 16,
     "metadata": {},
     "output_type": "execute_result"
    }
   ],
   "source": [
    "data.columns[data.isnull().any()]"
   ]
  },
  {
   "cell_type": "markdown",
   "id": "77e8715f-8c3c-4791-8f72-5a6be64c1c4c",
   "metadata": {
    "id": "77e8715f-8c3c-4791-8f72-5a6be64c1c4c"
   },
   "source": [
    "#### 'Miyun_or_Electiv' column\n",
    "* We saw that this column constitutes categorical values ​​for the column \"arrival_from_emergency_urgent__elective\" so that 1- urgent/emergency, 0- elective.\n",
    "* We saw that all the values ​​for \"Rami- ward\" are missing values, they do not have a value of 0/1.\n",
    "* We have no information whether Rami's columns were left empty on purpose or not - it is possible that these values ​​do not belong to any category, that is, they belong to a third category or belong to one of them. We decided to remove them because we do not understand medicine, and because this is a small number of rows (26)\n",
    "* In addition, we will delete the column \"arrival_from_emergency_urgent__elective\" which is identical to"
   ]
  },
  {
   "cell_type": "code",
   "execution_count": 17,
   "id": "879c3ebb-876c-4ce1-9d1a-d2bed2328cd3",
   "metadata": {
    "executionInfo": {
     "elapsed": 5,
     "status": "ok",
     "timestamp": 1736767603586,
     "user": {
      "displayName": "יואב כהן",
      "userId": "11310514616825726202"
     },
     "user_tz": -120
    },
    "id": "879c3ebb-876c-4ce1-9d1a-d2bed2328cd3"
   },
   "outputs": [],
   "source": [
    "data['Miyun_or_Electiv'].isna().sum() #26\n",
    "data.dropna(subset=['Miyun_or_Electiv'], inplace=True)\n",
    "data.drop(columns=['הגעה_מהמיון_דחוף__אלקטיבי'], inplace=True)"
   ]
  },
  {
   "cell_type": "markdown",
   "id": "c8e477da-850a-4819-b97a-a738d311a25e",
   "metadata": {
    "id": "c8e477da-850a-4819-b97a-a738d311a25e"
   },
   "source": [
    "#### 'Education_2' column\n",
    "We conducted an online search and saw that 47% of people in Israel are academics and 53% are non-academics, so we decided to fill in the missing values ​​according to this proportion."
   ]
  },
  {
   "cell_type": "code",
   "execution_count": 18,
   "id": "02950190-42cf-4203-b3ea-1ccbcbde3643",
   "metadata": {
    "executionInfo": {
     "elapsed": 1002,
     "status": "ok",
     "timestamp": 1736767604584,
     "user": {
      "displayName": "יואב כהן",
      "userId": "11310514616825726202"
     },
     "user_tz": -120
    },
    "id": "02950190-42cf-4203-b3ea-1ccbcbde3643"
   },
   "outputs": [],
   "source": [
    "academic_ratio = 0.47  # 47% academics\n",
    "non_academic_ratio = 0.53  # 53% non-academics \n",
    "data['Education_2'] = data['Education_2'].apply(\n",
    "    lambda x: np.random.choice([1, 0], p=[academic_ratio, non_academic_ratio])\n",
    ")"
   ]
  },
  {
   "cell_type": "markdown",
   "id": "8f1f9afa-31b7-4d21-a532-413a4e7b4e1d",
   "metadata": {
    "id": "8f1f9afa-31b7-4d21-a532-413a4e7b4e1d"
   },
   "source": [
    "#### 'CHRONIC_2' column\n",
    "Filling missing values with 0 in this column, meaning - do not suffer from chronic diseases. Because we assumed that most people do not have chronic diseases."
   ]
  },
  {
   "cell_type": "code",
   "execution_count": 19,
   "id": "957e2891-1efe-4f08-bfe3-34ca41a52d0b",
   "metadata": {
    "executionInfo": {
     "elapsed": 6,
     "status": "ok",
     "timestamp": 1736767604584,
     "user": {
      "displayName": "יואב כהן",
      "userId": "11310514616825726202"
     },
     "user_tz": -120
    },
    "id": "957e2891-1efe-4f08-bfe3-34ca41a52d0b"
   },
   "outputs": [],
   "source": [
    "data['CHRONIC_2'].fillna(0, inplace=True)"
   ]
  },
  {
   "cell_type": "markdown",
   "id": "eb8d74f7-e6db-42e4-be44-13d78e932a62",
   "metadata": {
    "id": "eb8d74f7-e6db-42e4-be44-13d78e932a62"
   },
   "source": [
    "#### 'HEALTH_Status_2' column\n",
    "We saw that the values were distributed almost equally, so we decided to fill in the missing values in a proportion of 50% each"
   ]
  },
  {
   "cell_type": "code",
   "execution_count": 20,
   "id": "28b0c495-fa09-4cc0-a3d9-1ce31b27c877",
   "metadata": {
    "executionInfo": {
     "elapsed": 1068,
     "status": "ok",
     "timestamp": 1736767605647,
     "user": {
      "displayName": "יואב כהן",
      "userId": "11310514616825726202"
     },
     "user_tz": -120
    },
    "id": "28b0c495-fa09-4cc0-a3d9-1ce31b27c877"
   },
   "outputs": [],
   "source": [
    "data['HEALTH_Status_2'].value_counts() #1-5631, 0-5214\n",
    "\n",
    "HEALTH_ratio = 0.5\n",
    "non_HEALTH_ratio = 0.5\n",
    "data['HEALTH_Status_2'] = data['HEALTH_Status_2'].apply(\n",
    "    lambda x: np.random.choice([1, 0], p=[HEALTH_ratio, non_HEALTH_ratio]))"
   ]
  },
  {
   "cell_type": "markdown",
   "id": "50dd2df5-80ea-4d57-a8f2-26784957bb15",
   "metadata": {
    "id": "50dd2df5-80ea-4d57-a8f2-26784957bb15"
   },
   "source": [
    "#### 'Q3' column- satisfaction\n",
    "The main column that we want to predict, so filling in the missing values can change our results. We decided to delete the rows where the missing values exist."
   ]
  },
  {
   "cell_type": "code",
   "execution_count": 21,
   "id": "8ea26c3d-c88b-4e08-a982-404da5c637b2",
   "metadata": {
    "executionInfo": {
     "elapsed": 6,
     "status": "ok",
     "timestamp": 1736767605648,
     "user": {
      "displayName": "יואב כהן",
      "userId": "11310514616825726202"
     },
     "user_tz": -120
    },
    "id": "8ea26c3d-c88b-4e08-a982-404da5c637b2"
   },
   "outputs": [],
   "source": [
    "data['Q3'].isna().sum() #159\n",
    "data.dropna(subset=['Q3'], inplace=True)"
   ]
  },
  {
   "cell_type": "markdown",
   "id": "deb90020-2585-4bdc-b7c1-471ade19e051",
   "metadata": {
    "id": "deb90020-2585-4bdc-b7c1-471ade19e051"
   },
   "source": [
    "#### 'Q31' column- Recommendation for relatives to be hospitalized in the same hospital\n",
    "We decided to fill in the median value."
   ]
  },
  {
   "cell_type": "code",
   "execution_count": 22,
   "id": "a0539afd-0142-4b37-950a-1a6b87c0f6e8",
   "metadata": {
    "executionInfo": {
     "elapsed": 6,
     "status": "ok",
     "timestamp": 1736767605648,
     "user": {
      "displayName": "יואב כהן",
      "userId": "11310514616825726202"
     },
     "user_tz": -120
    },
    "id": "a0539afd-0142-4b37-950a-1a6b87c0f6e8"
   },
   "outputs": [],
   "source": [
    "data['Q31'].median() #9- אמליץ\n",
    "data['Q31'].fillna(9, inplace=True)"
   ]
  },
  {
   "cell_type": "markdown",
   "id": "b875cf10-1e97-40f5-8de4-aae7bfc00511",
   "metadata": {
    "id": "b875cf10-1e97-40f5-8de4-aae7bfc00511"
   },
   "source": [
    "#### 'KUPAT_HOLIM' column\n",
    "We saw that there were 23 missing values, we decided to fill them in with the most common value - 'Klalit' (1)"
   ]
  },
  {
   "cell_type": "code",
   "execution_count": 23,
   "id": "b98ec300-83cb-47e0-8969-90b7d2e961b9",
   "metadata": {
    "executionInfo": {
     "elapsed": 5,
     "status": "ok",
     "timestamp": 1736767605648,
     "user": {
      "displayName": "יואב כהן",
      "userId": "11310514616825726202"
     },
     "user_tz": -120
    },
    "id": "b98ec300-83cb-47e0-8969-90b7d2e961b9"
   },
   "outputs": [],
   "source": [
    "data['KUPAT_HOLIM'].isna().sum() #23\n",
    "data['KUPAT_HOLIM'].mode()[0] #1- כללית\n",
    "data['KUPAT_HOLIM'].fillna(1, inplace=True)"
   ]
  },
  {
   "cell_type": "markdown",
   "id": "1859f54d-c6e2-4ea0-8cc5-dfcf0a85abdb",
   "metadata": {
    "id": "1859f54d-c6e2-4ea0-8cc5-dfcf0a85abdb"
   },
   "source": [
    "#### 'Q' column\n",
    "In the data, there are special values- numbered 98,97 - which mean not relevant/refuse to answer. We moved them to another and final category, numbered 6."
   ]
  },
  {
   "cell_type": "code",
   "execution_count": 24,
   "id": "f1121e6e-a288-41f0-8043-4e0a9dedd898",
   "metadata": {
    "executionInfo": {
     "elapsed": 5,
     "status": "ok",
     "timestamp": 1736767605648,
     "user": {
      "displayName": "יואב כהן",
      "userId": "11310514616825726202"
     },
     "user_tz": -120
    },
    "id": "f1121e6e-a288-41f0-8043-4e0a9dedd898"
   },
   "outputs": [],
   "source": [
    "data['Q4'] = data['Q4'].replace(98, 6) \n",
    "data['Q13'] = data['Q13'].replace(98, 6) \n",
    "data['Q16'] = data['Q16'].replace(98, 6)\n",
    "data['Q18'] = data['Q18'].replace({97: 6, 98: 7})\n",
    "data['Q29'] = data['Q29'].replace(98, 6)\n",
    "data['Q30'] = data['Q30'].replace(98, 6)\n",
    "data['Q36'] = data['Q36'].replace(7, np.nan)\n",
    "data['Q37'] = data['Q37'].replace(7, np.nan)"
   ]
  },
  {
   "cell_type": "markdown",
   "id": "5ebb5129-fe20-437d-b27f-87ec891bf553",
   "metadata": {},
   "source": [
    "Function that replaces missing values with the common value"
   ]
  },
  {
   "cell_type": "code",
   "execution_count": 25,
   "id": "46fccb43-ce9d-4390-8dd3-76416b03dfce",
   "metadata": {
    "executionInfo": {
     "elapsed": 5,
     "status": "ok",
     "timestamp": 1736767605648,
     "user": {
      "displayName": "יואב כהן",
      "userId": "11310514616825726202"
     },
     "user_tz": -120
    },
    "id": "46fccb43-ce9d-4390-8dd3-76416b03dfce"
   },
   "outputs": [],
   "source": [
    "####GPT###\n",
    "def fill_missing_with_most_common(data, columns):\n",
    "    for column in columns:\n",
    "        most_common_value = data[column].mode()[0]  #The most common value\n",
    "        data[column].fillna(most_common_value, inplace=True)\n",
    "    return data\n",
    "# List of columns with missing values\n",
    "columns_to_check = ['AGE_TODAY', 'Q4', 'Q5', 'Q6', 'Q7', 'Q8', 'Q9', 'Q10', 'Q11', 'Q12', 'Q13', 'Q14', 'Q15', 'Q16', 'Q17', 'Q18',\n",
    "                    'Q19', 'Q20', 'Q21_2016', 'Q22', 'Q23', 'Q24', 'Q25', 'Q26', 'Q27', 'Q28', 'Q29', 'Q30', 'Q33', 'Q36']\n",
    "\n",
    "data = fill_missing_with_most_common(data, columns_to_check)\n",
    "####"
   ]
  },
  {
   "cell_type": "markdown",
   "id": "d35fa949-65e9-4c31-ad45-45463ed12c73",
   "metadata": {
    "id": "d35fa949-65e9-4c31-ad45-45463ed12c73"
   },
   "source": [
    "# Renaming columns"
   ]
  },
  {
   "cell_type": "code",
   "execution_count": 26,
   "id": "cebfe944-fcc5-45d9-8fd7-22ff3289f06c",
   "metadata": {
    "executionInfo": {
     "elapsed": 5,
     "status": "ok",
     "timestamp": 1736767605648,
     "user": {
      "displayName": "יואב כהן",
      "userId": "11310514616825726202"
     },
     "user_tz": -120
    },
    "id": "cebfe944-fcc5-45d9-8fd7-22ff3289f06c"
   },
   "outputs": [],
   "source": [
    "#2 We will unite values that describe the same hospital - Assaf Harofeh\n",
    "data['code_hospital'] = data['code_hospital'].replace(2.70, 27)"
   ]
  },
  {
   "cell_type": "code",
   "execution_count": 27,
   "id": "1ae13b13-b47e-40e6-937a-f178fbcd64e3",
   "metadata": {
    "executionInfo": {
     "elapsed": 4,
     "status": "ok",
     "timestamp": 1736767605648,
     "user": {
      "displayName": "יואב כהן",
      "userId": "11310514616825726202"
     },
     "user_tz": -120
    },
    "id": "1ae13b13-b47e-40e6-937a-f178fbcd64e3"
   },
   "outputs": [],
   "source": [
    "def rename_columns_with_defaults(data):\n",
    "    new_column_names = {\n",
    "        'code_hospital': 'Hospital',\n",
    "        'Code_ward': 'Ward',\n",
    "        'SIZE_new': 'Size_hospital',\n",
    "        'Miyun_or_Electiv': 'Is_electiv',\n",
    "        'CHOICE': 'Choice',\n",
    "        'corridor1': 'Is_corridor',\n",
    "        'AGE_TODAY': 'Age',\n",
    "        'Education_2': 'Education',\n",
    "        'CHRONIC_2': 'Chronic',\n",
    "        'HEALTH_Status_2': 'Health_status',\n",
    "        'Q3': 'Satisfaction',\n",
    "        'Q31': 'Recommendation',\n",
    "        \"Q4\": \"ER_Treatment_Satisfaction\",\n",
    "        \"Q5\": \"Admission_Efficiency\",\n",
    "        \"Q6\": \"Nurse_Respect\",\n",
    "        \"Q7\": \"Nurse_Listening\",\n",
    "        \"Q8\": \"Nurse_Explanation_Clarity\",\n",
    "        \"Q9\": \"Doctor_Respect\",\n",
    "        \"Q10\": \"Doctor_Personal_Care\",\n",
    "        \"Q11\": \"Doctor_Listening\",\n",
    "        \"Q12\": \"Doctor_Explanation_Clarity\",\n",
    "        \"Q13\": \"Staff_Knowledge\",\n",
    "        \"Q14\": \"Proactive_Communication\",\n",
    "        \"Q15\": \"Team_Coordination\",\n",
    "        \"Q16\": \"Pain_Management\",\n",
    "        \"Q17\": \"Safety_Measures\",\n",
    "        \"Q18\": \"Patient_Involvement\",\n",
    "        \"Q19\": \"Alternative_Treatments\",\n",
    "        \"Q20\": \"Next_Steps_Clarity\",\n",
    "        \"Q21_2016\": \"Response_Ease\",\n",
    "        \"Q22\": \"Safe_Hands_Feeling\",\n",
    "        \"Q23\": \"Discharge_Efficiency\",\n",
    "        \"Q24\": \"Discharge_Problem_Explanation\",\n",
    "        \"Q25\": \"Discharge_Followup_Clarity\",\n",
    "        \"Q26\": \"Room_Cleanliness\",\n",
    "        \"Q27\": \"Room_Conditions\",\n",
    "        \"Q28\": \"Night_Quietness\",\n",
    "        \"Q29\": \"Food_Satisfaction\",\n",
    "        \"Q30\": \"Visitor_Comfort\",\n",
    "        \"Q33\": \"Primary_Language\",\n",
    "        \"Q36\": \"Living_Situation\",\n",
    "        \"Q37\": \"Religious_Affiliation\",\n",
    "        'baalut': 'Ownership',\n",
    "        'KUPAT_HOLIM': 'Health insurance',\n",
    "        'gender': 'Gender'\n",
    "    }\n",
    "\n",
    "    return data.rename(columns=new_column_names)\n",
    "\n",
    "data = rename_columns_with_defaults(data)"
   ]
  },
  {
   "cell_type": "markdown",
   "id": "e4b48150-445e-4c75-bf4b-b07d07257b2a",
   "metadata": {
    "id": "e4b48150-445e-4c75-bf4b-b07d07257b2a"
   },
   "source": [
    "# Categorization of the columns"
   ]
  },
  {
   "cell_type": "code",
   "execution_count": 28,
   "id": "61a093c9-b947-443f-81a2-796c67ea3504",
   "metadata": {
    "colab": {
     "base_uri": "https://localhost:8080/",
     "height": 424
    },
    "executionInfo": {
     "elapsed": 1064,
     "status": "ok",
     "timestamp": 1736767606708,
     "user": {
      "displayName": "יואב כהן",
      "userId": "11310514616825726202"
     },
     "user_tz": -120
    },
    "id": "61a093c9-b947-443f-81a2-796c67ea3504",
    "outputId": "2fd611cf-953d-438e-e365-7b4fb588c106"
   },
   "outputs": [
    {
     "data": {
      "text/html": [
       "<div>\n",
       "<style scoped>\n",
       "    .dataframe tbody tr th:only-of-type {\n",
       "        vertical-align: middle;\n",
       "    }\n",
       "\n",
       "    .dataframe tbody tr th {\n",
       "        vertical-align: top;\n",
       "    }\n",
       "\n",
       "    .dataframe thead th {\n",
       "        text-align: right;\n",
       "    }\n",
       "</style>\n",
       "<table border=\"1\" class=\"dataframe\">\n",
       "  <thead>\n",
       "    <tr style=\"text-align: right;\">\n",
       "      <th></th>\n",
       "      <th>Hospital</th>\n",
       "      <th>Ward</th>\n",
       "      <th>Size_hospital</th>\n",
       "      <th>Is_electiv</th>\n",
       "      <th>Choice</th>\n",
       "      <th>Is_corridor</th>\n",
       "      <th>Gender</th>\n",
       "      <th>Education</th>\n",
       "      <th>Chronic</th>\n",
       "      <th>Health_status</th>\n",
       "      <th>...</th>\n",
       "      <th>Room_Conditions</th>\n",
       "      <th>Night_Quietness</th>\n",
       "      <th>Food_Satisfaction</th>\n",
       "      <th>Visitor_Comfort</th>\n",
       "      <th>Primary_Language</th>\n",
       "      <th>Living_Situation</th>\n",
       "      <th>Religious_Affiliation</th>\n",
       "      <th>Age</th>\n",
       "      <th>Health insurance</th>\n",
       "      <th>Ownership</th>\n",
       "    </tr>\n",
       "  </thead>\n",
       "  <tbody>\n",
       "    <tr>\n",
       "      <th>2</th>\n",
       "      <td>1</td>\n",
       "      <td>2</td>\n",
       "      <td>3</td>\n",
       "      <td>1</td>\n",
       "      <td>0</td>\n",
       "      <td>0</td>\n",
       "      <td>1</td>\n",
       "      <td>0</td>\n",
       "      <td>1</td>\n",
       "      <td>1</td>\n",
       "      <td>...</td>\n",
       "      <td>4</td>\n",
       "      <td>4</td>\n",
       "      <td>4</td>\n",
       "      <td>5</td>\n",
       "      <td>3</td>\n",
       "      <td>6</td>\n",
       "      <td>6</td>\n",
       "      <td>26</td>\n",
       "      <td>1</td>\n",
       "      <td>1</td>\n",
       "    </tr>\n",
       "    <tr>\n",
       "      <th>3</th>\n",
       "      <td>1</td>\n",
       "      <td>2</td>\n",
       "      <td>3</td>\n",
       "      <td>0</td>\n",
       "      <td>1</td>\n",
       "      <td>1</td>\n",
       "      <td>0</td>\n",
       "      <td>0</td>\n",
       "      <td>1</td>\n",
       "      <td>0</td>\n",
       "      <td>...</td>\n",
       "      <td>1</td>\n",
       "      <td>1</td>\n",
       "      <td>1</td>\n",
       "      <td>1</td>\n",
       "      <td>3</td>\n",
       "      <td>2</td>\n",
       "      <td>6</td>\n",
       "      <td>70</td>\n",
       "      <td>2</td>\n",
       "      <td>1</td>\n",
       "    </tr>\n",
       "    <tr>\n",
       "      <th>4</th>\n",
       "      <td>1</td>\n",
       "      <td>2</td>\n",
       "      <td>3</td>\n",
       "      <td>0</td>\n",
       "      <td>1</td>\n",
       "      <td>1</td>\n",
       "      <td>1</td>\n",
       "      <td>0</td>\n",
       "      <td>0</td>\n",
       "      <td>1</td>\n",
       "      <td>...</td>\n",
       "      <td>2</td>\n",
       "      <td>2</td>\n",
       "      <td>6</td>\n",
       "      <td>2</td>\n",
       "      <td>1</td>\n",
       "      <td>2</td>\n",
       "      <td>6</td>\n",
       "      <td>59</td>\n",
       "      <td>4</td>\n",
       "      <td>1</td>\n",
       "    </tr>\n",
       "    <tr>\n",
       "      <th>7</th>\n",
       "      <td>2</td>\n",
       "      <td>1</td>\n",
       "      <td>3</td>\n",
       "      <td>1</td>\n",
       "      <td>1</td>\n",
       "      <td>1</td>\n",
       "      <td>0</td>\n",
       "      <td>0</td>\n",
       "      <td>1</td>\n",
       "      <td>1</td>\n",
       "      <td>...</td>\n",
       "      <td>1</td>\n",
       "      <td>1</td>\n",
       "      <td>1</td>\n",
       "      <td>1</td>\n",
       "      <td>4</td>\n",
       "      <td>2</td>\n",
       "      <td>6</td>\n",
       "      <td>79</td>\n",
       "      <td>1</td>\n",
       "      <td>1</td>\n",
       "    </tr>\n",
       "    <tr>\n",
       "      <th>8</th>\n",
       "      <td>2</td>\n",
       "      <td>3</td>\n",
       "      <td>3</td>\n",
       "      <td>1</td>\n",
       "      <td>1</td>\n",
       "      <td>1</td>\n",
       "      <td>0</td>\n",
       "      <td>1</td>\n",
       "      <td>0</td>\n",
       "      <td>1</td>\n",
       "      <td>...</td>\n",
       "      <td>1</td>\n",
       "      <td>1</td>\n",
       "      <td>1</td>\n",
       "      <td>1</td>\n",
       "      <td>3</td>\n",
       "      <td>1</td>\n",
       "      <td>6</td>\n",
       "      <td>77</td>\n",
       "      <td>4</td>\n",
       "      <td>1</td>\n",
       "    </tr>\n",
       "    <tr>\n",
       "      <th>...</th>\n",
       "      <td>...</td>\n",
       "      <td>...</td>\n",
       "      <td>...</td>\n",
       "      <td>...</td>\n",
       "      <td>...</td>\n",
       "      <td>...</td>\n",
       "      <td>...</td>\n",
       "      <td>...</td>\n",
       "      <td>...</td>\n",
       "      <td>...</td>\n",
       "      <td>...</td>\n",
       "      <td>...</td>\n",
       "      <td>...</td>\n",
       "      <td>...</td>\n",
       "      <td>...</td>\n",
       "      <td>...</td>\n",
       "      <td>...</td>\n",
       "      <td>...</td>\n",
       "      <td>...</td>\n",
       "      <td>...</td>\n",
       "      <td>...</td>\n",
       "    </tr>\n",
       "    <tr>\n",
       "      <th>11093</th>\n",
       "      <td>27</td>\n",
       "      <td>2</td>\n",
       "      <td>2</td>\n",
       "      <td>1</td>\n",
       "      <td>1</td>\n",
       "      <td>1</td>\n",
       "      <td>0</td>\n",
       "      <td>1</td>\n",
       "      <td>0</td>\n",
       "      <td>0</td>\n",
       "      <td>...</td>\n",
       "      <td>1</td>\n",
       "      <td>4</td>\n",
       "      <td>6</td>\n",
       "      <td>3</td>\n",
       "      <td>4</td>\n",
       "      <td>2</td>\n",
       "      <td>1</td>\n",
       "      <td>67</td>\n",
       "      <td>4</td>\n",
       "      <td>1</td>\n",
       "    </tr>\n",
       "    <tr>\n",
       "      <th>11094</th>\n",
       "      <td>27</td>\n",
       "      <td>2</td>\n",
       "      <td>2</td>\n",
       "      <td>1</td>\n",
       "      <td>1</td>\n",
       "      <td>1</td>\n",
       "      <td>1</td>\n",
       "      <td>1</td>\n",
       "      <td>1</td>\n",
       "      <td>0</td>\n",
       "      <td>...</td>\n",
       "      <td>2</td>\n",
       "      <td>2</td>\n",
       "      <td>6</td>\n",
       "      <td>2</td>\n",
       "      <td>4</td>\n",
       "      <td>2</td>\n",
       "      <td>1</td>\n",
       "      <td>78</td>\n",
       "      <td>1</td>\n",
       "      <td>1</td>\n",
       "    </tr>\n",
       "    <tr>\n",
       "      <th>11095</th>\n",
       "      <td>27</td>\n",
       "      <td>3</td>\n",
       "      <td>2</td>\n",
       "      <td>0</td>\n",
       "      <td>1</td>\n",
       "      <td>0</td>\n",
       "      <td>1</td>\n",
       "      <td>0</td>\n",
       "      <td>0</td>\n",
       "      <td>1</td>\n",
       "      <td>...</td>\n",
       "      <td>1</td>\n",
       "      <td>3</td>\n",
       "      <td>2</td>\n",
       "      <td>1</td>\n",
       "      <td>4</td>\n",
       "      <td>2</td>\n",
       "      <td>1</td>\n",
       "      <td>62</td>\n",
       "      <td>3</td>\n",
       "      <td>1</td>\n",
       "    </tr>\n",
       "    <tr>\n",
       "      <th>11096</th>\n",
       "      <td>27</td>\n",
       "      <td>2</td>\n",
       "      <td>2</td>\n",
       "      <td>1</td>\n",
       "      <td>0</td>\n",
       "      <td>1</td>\n",
       "      <td>0</td>\n",
       "      <td>0</td>\n",
       "      <td>0</td>\n",
       "      <td>0</td>\n",
       "      <td>...</td>\n",
       "      <td>1</td>\n",
       "      <td>2</td>\n",
       "      <td>6</td>\n",
       "      <td>3</td>\n",
       "      <td>4</td>\n",
       "      <td>2</td>\n",
       "      <td>1</td>\n",
       "      <td>84</td>\n",
       "      <td>3</td>\n",
       "      <td>1</td>\n",
       "    </tr>\n",
       "    <tr>\n",
       "      <th>11098</th>\n",
       "      <td>27</td>\n",
       "      <td>1</td>\n",
       "      <td>2</td>\n",
       "      <td>1</td>\n",
       "      <td>1</td>\n",
       "      <td>1</td>\n",
       "      <td>1</td>\n",
       "      <td>0</td>\n",
       "      <td>0</td>\n",
       "      <td>1</td>\n",
       "      <td>...</td>\n",
       "      <td>2</td>\n",
       "      <td>2</td>\n",
       "      <td>2</td>\n",
       "      <td>2</td>\n",
       "      <td>4</td>\n",
       "      <td>2</td>\n",
       "      <td>1</td>\n",
       "      <td>69</td>\n",
       "      <td>3</td>\n",
       "      <td>1</td>\n",
       "    </tr>\n",
       "  </tbody>\n",
       "</table>\n",
       "<p>9732 rows × 45 columns</p>\n",
       "</div>"
      ],
      "text/plain": [
       "       Hospital  Ward  Size_hospital  Is_electiv  Choice  Is_corridor  Gender  \\\n",
       "2             1     2              3           1       0            0       1   \n",
       "3             1     2              3           0       1            1       0   \n",
       "4             1     2              3           0       1            1       1   \n",
       "7             2     1              3           1       1            1       0   \n",
       "8             2     3              3           1       1            1       0   \n",
       "...         ...   ...            ...         ...     ...          ...     ...   \n",
       "11093        27     2              2           1       1            1       0   \n",
       "11094        27     2              2           1       1            1       1   \n",
       "11095        27     3              2           0       1            0       1   \n",
       "11096        27     2              2           1       0            1       0   \n",
       "11098        27     1              2           1       1            1       1   \n",
       "\n",
       "       Education  Chronic  Health_status  ...  Room_Conditions  \\\n",
       "2              0        1              1  ...                4   \n",
       "3              0        1              0  ...                1   \n",
       "4              0        0              1  ...                2   \n",
       "7              0        1              1  ...                1   \n",
       "8              1        0              1  ...                1   \n",
       "...          ...      ...            ...  ...              ...   \n",
       "11093          1        0              0  ...                1   \n",
       "11094          1        1              0  ...                2   \n",
       "11095          0        0              1  ...                1   \n",
       "11096          0        0              0  ...                1   \n",
       "11098          0        0              1  ...                2   \n",
       "\n",
       "       Night_Quietness  Food_Satisfaction  Visitor_Comfort  Primary_Language  \\\n",
       "2                    4                  4                5                 3   \n",
       "3                    1                  1                1                 3   \n",
       "4                    2                  6                2                 1   \n",
       "7                    1                  1                1                 4   \n",
       "8                    1                  1                1                 3   \n",
       "...                ...                ...              ...               ...   \n",
       "11093                4                  6                3                 4   \n",
       "11094                2                  6                2                 4   \n",
       "11095                3                  2                1                 4   \n",
       "11096                2                  6                3                 4   \n",
       "11098                2                  2                2                 4   \n",
       "\n",
       "       Living_Situation  Religious_Affiliation  Age  Health insurance  \\\n",
       "2                     6                      6   26                 1   \n",
       "3                     2                      6   70                 2   \n",
       "4                     2                      6   59                 4   \n",
       "7                     2                      6   79                 1   \n",
       "8                     1                      6   77                 4   \n",
       "...                 ...                    ...  ...               ...   \n",
       "11093                 2                      1   67                 4   \n",
       "11094                 2                      1   78                 1   \n",
       "11095                 2                      1   62                 3   \n",
       "11096                 2                      1   84                 3   \n",
       "11098                 2                      1   69                 3   \n",
       "\n",
       "       Ownership  \n",
       "2              1  \n",
       "3              1  \n",
       "4              1  \n",
       "7              1  \n",
       "8              1  \n",
       "...          ...  \n",
       "11093          1  \n",
       "11094          1  \n",
       "11095          1  \n",
       "11096          1  \n",
       "11098          1  \n",
       "\n",
       "[9732 rows x 45 columns]"
      ]
     },
     "execution_count": 28,
     "metadata": {},
     "output_type": "execute_result"
    }
   ],
   "source": [
    "# Transfer to integers\n",
    "data= data.apply(pd.to_numeric).astype(int)\n",
    "data"
   ]
  },
  {
   "cell_type": "markdown",
   "id": "66883f36-a782-4558-9caf-539869fd1a27",
   "metadata": {
    "id": "66883f36-a782-4558-9caf-539869fd1a27"
   },
   "source": [
    "##### Categories for \"Age\" column:\n",
    "Division into categories by age groups."
   ]
  },
  {
   "cell_type": "code",
   "execution_count": 29,
   "id": "e3a26388-08d0-4b5a-8aed-6841d409a72a",
   "metadata": {
    "executionInfo": {
     "elapsed": 15,
     "status": "ok",
     "timestamp": 1736767606708,
     "user": {
      "displayName": "יואב כהן",
      "userId": "11310514616825726202"
     },
     "user_tz": -120
    },
    "id": "e3a26388-08d0-4b5a-8aed-6841d409a72a"
   },
   "outputs": [],
   "source": [
    "def categorize_age(age):\n",
    "    if 18 <= age <= 24:\n",
    "        return 1\n",
    "    elif 25 <= age <= 34:\n",
    "        return 2\n",
    "    elif 35 <= age <= 44:\n",
    "        return 3\n",
    "    elif 45 <= age <= 54:\n",
    "        return 4\n",
    "    elif 55 <= age <= 64:\n",
    "        return 5\n",
    "    elif 65 <= age <= 74:\n",
    "        return 6\n",
    "    elif 75 <= age <= 84:\n",
    "        return 7\n",
    "    elif age >= 85:\n",
    "        return 8\n",
    "    else:\n",
    "        return None  \n",
    "\n",
    "data['Age'] = data['Age'].apply(categorize_age)"
   ]
  },
  {
   "cell_type": "markdown",
   "id": "989a015d-ab82-4ba3-9712-424cbfefb5ab",
   "metadata": {
    "id": "989a015d-ab82-4ba3-9712-424cbfefb5ab"
   },
   "source": [
    "##### Categories for \"Hospital\" column:\n",
    "Creating a new column for categorizing by regions in the country- periphery=1, or non-periphery=0.\n",
    "We will delete old columns that we replaced with another column that is categorical."
   ]
  },
  {
   "cell_type": "code",
   "execution_count": 30,
   "id": "4f6ee79a-3878-4bff-8540-3dc18d8d2b81",
   "metadata": {
    "executionInfo": {
     "elapsed": 14,
     "status": "ok",
     "timestamp": 1736767606708,
     "user": {
      "displayName": "יואב כהן",
      "userId": "11310514616825726202"
     },
     "user_tz": -120
    },
    "id": "4f6ee79a-3878-4bff-8540-3dc18d8d2b81"
   },
   "outputs": [],
   "source": [
    "###GPT###\n",
    "data['Hospital_Periphery'] = data['Hospital'].apply(lambda x: 0 if x in [\n",
    "    1, 27, 3, 5, 9, 11, 13, 14, 17, 19, 20, 23, 24, 26\n",
    "] else 1)\n",
    "####"
   ]
  },
  {
   "cell_type": "code",
   "execution_count": 31,
   "id": "0f67c60a-bd8f-40df-a3d2-edc6cfb16e4b",
   "metadata": {
    "executionInfo": {
     "elapsed": 14,
     "status": "ok",
     "timestamp": 1736767606708,
     "user": {
      "displayName": "יואב כהן",
      "userId": "11310514616825726202"
     },
     "user_tz": -120
    },
    "id": "0f67c60a-bd8f-40df-a3d2-edc6cfb16e4b"
   },
   "outputs": [],
   "source": [
    "columns_drop_old = ['Hospital']\n",
    "data = data.drop(columns=columns_drop_old)"
   ]
  },
  {
   "cell_type": "markdown",
   "id": "4ab31995-b768-4976-bcc4-61cd6ef519a5",
   "metadata": {
    "id": "4ab31995-b768-4976-bcc4-61cd6ef519a5"
   },
   "source": [
    "##### Categories for \"Satisfaction\" column:\n",
    "Categorized by very satisfied=1, satisfied=2, unsatisfied=3."
   ]
  },
  {
   "cell_type": "code",
   "execution_count": 32,
   "id": "2989bd08-ad1a-4f57-8c8d-915aa917981e",
   "metadata": {
    "executionInfo": {
     "elapsed": 13,
     "status": "ok",
     "timestamp": 1736767606708,
     "user": {
      "displayName": "יואב כהן",
      "userId": "11310514616825726202"
     },
     "user_tz": -120
    },
    "id": "2989bd08-ad1a-4f57-8c8d-915aa917981e"
   },
   "outputs": [],
   "source": [
    "def categorize_Satisfaction(satisfaction):\n",
    "    if 1 <= satisfaction <= 3: #Unsatisfied\n",
    "        return 3\n",
    "    elif 4 <= satisfaction <= 7: #Satisfied\n",
    "        return 2\n",
    "    elif 8 <= satisfaction <= 10: #Very satisfied\n",
    "        return 1\n",
    "    else:\n",
    "        return None\n",
    "\n",
    "data['Satisfaction'] = data['Satisfaction'].apply(categorize_Satisfaction)"
   ]
  },
  {
   "cell_type": "markdown",
   "id": "44dd4617-fe3f-4148-9e1d-1ca96957fef6",
   "metadata": {
    "id": "44dd4617-fe3f-4148-9e1d-1ca96957fef6"
   },
   "source": [
    "# Initial data analysis by visualization"
   ]
  },
  {
   "cell_type": "markdown",
   "id": "f3eadda2-2260-492c-966c-7f082fdfcf50",
   "metadata": {
    "tags": []
   },
   "source": [
    "### Graph of age distribution of those who participated in the survey"
   ]
  },
  {
   "cell_type": "code",
   "execution_count": 33,
   "id": "a3ac5334-b6cd-4218-8ac2-f4660c2e3ac6",
   "metadata": {},
   "outputs": [
    {
     "data": {
      "image/png": "[encoded data removed]",
      "text/plain": [
       "<Figure size 432x432 with 1 Axes>"
      ]
     },
     "metadata": {
      "needs_background": "light"
     },
     "output_type": "display_data"
    }
   ],
   "source": [
    "###GPT###\n",
    "plt.figure(figsize=(6, 6))\n",
    "sns.histplot(data['Age'], bins=20,  color='red', edgecolor='black', kde_kws={'bw_adjust': 1})\n",
    "plt.title(\"Age Distribution\", fontsize=16)\n",
    "plt.xlabel(\"Age\", fontsize=14)\n",
    "plt.ylabel(\"Frequency\", fontsize=14)\n",
    "plt.grid(axis='y', linestyle='--', alpha=0.7)\n",
    "plt.show()\n",
    "####"
   ]
  },
  {
   "cell_type": "markdown",
   "id": "62ceb216-4e7d-4a87-bd3c-05e0ec3f4b5d",
   "metadata": {},
   "source": [
    "Dividing ages into groups:\n",
    "* 1: 18-24\n",
    "* 2: 25-34\n",
    "* 3: 35-44\n",
    "* 4: 45-54\n",
    "* 5: 55-64\n",
    "* 6: 65-74\n",
    "* 7: 75-84\n",
    "* 8: 85+\n",
    "* Most of the patients who participated in the survey were older, between the ages of 55 and 74"
   ]
  },
  {
   "cell_type": "markdown",
   "id": "5b3e377e-199a-4029-9a3d-a5ed83b36cf9",
   "metadata": {},
   "source": [
    "### The graph shows, for each language, whether the patient understood the explanations upon discharge."
   ]
  },
  {
   "cell_type": "markdown",
   "id": "0d876203-4b22-4f94-80ab-6ee5f17c315c",
   "metadata": {},
   "source": [
    "\n"
   ]
  },
  {
   "cell_type": "code",
   "execution_count": 34,
   "id": "5a515bdc-1e63-4382-bc19-ba166701765e",
   "metadata": {},
   "outputs": [
    {
     "data": {
      "image/png": "[encoded data removed]",
      "text/plain": [
       "<Figure size 720x432 with 1 Axes>"
      ]
     },
     "metadata": {
      "needs_background": "light"
     },
     "output_type": "display_data"
    }
   ],
   "source": [
    "###GPT###\n",
    "language_mapping = {\n",
    "    1: 'HEBREW',\n",
    "    2: 'ENGLISH',\n",
    "    3: 'ARABIC',\n",
    "    4: 'RUSSIAN',\n",
    "    5: 'AMHARIC',\n",
    "    6: 'OTHER'}\n",
    "\n",
    "plt.figure(figsize=(10, 6))\n",
    "sns.countplot(\n",
    "    x=data['Primary_Language'].map(language_mapping),\n",
    "    hue='Discharge_Problem_Explanation', \n",
    "    data=data,\n",
    "    palette='coolwarm')\n",
    "\n",
    "plt.title(\"Discharge Problem Explanation by Language\", fontsize=16)\n",
    "plt.xlabel(\"Language\", fontsize=14)\n",
    "plt.ylabel(\"Count of Discharge Problems\", fontsize=14)\n",
    "plt.legend(title=\"Discharge Problem Explanation\", bbox_to_anchor=(1.05, 1), loc=\"upper left\")\n",
    "plt.grid(axis='both', linestyle='--', alpha=0.7)\n",
    "plt.tight_layout()\n",
    "plt.show()\n",
    "####"
   ]
  },
  {
   "cell_type": "markdown",
   "id": "153f6b88-b7f7-444a-a516-b54a96d28d04",
   "metadata": {},
   "source": [
    "It seems that most patients receive a clear explanation before being discharged from the hospital."
   ]
  },
  {
   "cell_type": "markdown",
   "id": "190a945a-52f8-477a-bfc6-e69f1f2e4568",
   "metadata": {},
   "source": [
    "### Satisfaction graph against hospital food & against patient engagement"
   ]
  },
  {
   "cell_type": "code",
   "execution_count": 35,
   "id": "61061df7-88b3-470f-b3fe-815a26ee4e21",
   "metadata": {},
   "outputs": [
    {
     "data": {
      "image/png": "[encoded data removed]",
      "text/plain": [
       "<Figure size 720x720 with 2 Axes>"
      ]
     },
     "metadata": {
      "needs_background": "light"
     },
     "output_type": "display_data"
    }
   ],
   "source": [
    "###GPT###\n",
    "variables = ['Food_Satisfaction', 'Patient_Involvement']\n",
    "\n",
    "plt.figure(figsize=(10, 10))\n",
    "\n",
    "for i, var in enumerate(variables, 1):\n",
    "    plt.subplot(2, 2, i)\n",
    "    sns.scatterplot(x=data[var] + np.random.normal(0, 0.1, len(data)), \n",
    "                    y=data['Satisfaction'] + np.random.normal(0, 0.1, len(data)))\n",
    "    plt.title(f\"Satisfaction vs. {var}\", fontsize=14)\n",
    "    plt.xlabel(var, fontsize=12)\n",
    "    plt.ylabel('Satisfaction', fontsize=12)\n",
    "plt.tight_layout()\n",
    "plt.show()\n",
    "####"
   ]
  },
  {
   "cell_type": "markdown",
   "id": "7627bec9-64db-41a8-8e2c-105989fe64dc",
   "metadata": {},
   "source": [
    "* In the graph on the right we can see that most patients did not feel involved in the treatment, which is why they also scored low.\n",
    "* In the graph on the left it appears that most people are not satisfied with the food served in hospitals."
   ]
  },
  {
   "cell_type": "markdown",
   "id": "bc3de1b3-be0c-499c-a937-47ed55f33ea8",
   "metadata": {},
   "source": [
    "### Graph of patient age against noise at night"
   ]
  },
  {
   "cell_type": "code",
   "execution_count": 36,
   "id": "3abcb325-783b-47b7-a54b-c92faede575c",
   "metadata": {
    "colab": {
     "base_uri": "https://localhost:8080/",
     "height": 571
    },
    "executionInfo": {
     "elapsed": 3002,
     "status": "ok",
     "timestamp": 1736768867950,
     "user": {
      "displayName": "יואב כהן",
      "userId": "11310514616825726202"
     },
     "user_tz": -120
    },
    "id": "3abcb325-783b-47b7-a54b-c92faede575c",
    "outputId": "62843dbc-1025-4872-f09e-ec14e34844b6"
   },
   "outputs": [
    {
     "data": {
      "image/png": "[encoded data removed]",
      "text/plain": [
       "<Figure size 720x432 with 2 Axes>"
      ]
     },
     "metadata": {
      "needs_background": "light"
     },
     "output_type": "display_data"
    }
   ],
   "source": [
    "###GPT###\n",
    "noise_level = 0.2 \n",
    "x = data['Age'] + np.random.normal(0, noise_level, len(data))  \n",
    "y = data['Night_Quietness'] + np.random.normal(0, noise_level, len(data)) \n",
    "\n",
    "plt.figure(figsize=(10, 6))\n",
    "plt.scatter(x, y, alpha=0.7, c=y, cmap='viridis')\n",
    "plt.title('Scatter Plot: Night Quietness vs Satisfaction', fontsize=16)\n",
    "plt.xlabel('Age', fontsize=14)\n",
    "plt.ylabel('Night_Quietness', fontsize=14)\n",
    "\n",
    "cbar = plt.colorbar()\n",
    "cbar.set_label('Satisfaction Score')\n",
    "plt.grid(True, linestyle='--', alpha=0.6)\n",
    "plt.show()\n",
    "####"
   ]
  },
  {
   "cell_type": "markdown",
   "id": "212c85a5-fb75-45f8-aa3e-f581843f39a8",
   "metadata": {},
   "source": [
    "Conclusion - Patients of all ages complained about noise in hospitals, and older people tend to complain more."
   ]
  },
  {
   "cell_type": "code",
   "execution_count": 37,
   "id": "5osl7Xi8dmSn",
   "metadata": {
    "colab": {
     "base_uri": "https://localhost:8080/",
     "height": 727
    },
    "executionInfo": {
     "elapsed": 1094,
     "status": "ok",
     "timestamp": 1736768496168,
     "user": {
      "displayName": "יואב כהן",
      "userId": "11310514616825726202"
     },
     "user_tz": -120
    },
    "id": "5osl7Xi8dmSn",
    "outputId": "86ab04be-4380-47f8-ce6e-1370c5531c54"
   },
   "outputs": [
    {
     "data": {
      "image/png": "[encoded data removed]",
      "text/plain": [
       "<Figure size 432x432 with 1 Axes>"
      ]
     },
     "metadata": {
      "needs_background": "light"
     },
     "output_type": "display_data"
    }
   ],
   "source": [
    "###GPT###\n",
    "periphery_mapping = {\n",
    "    1: 'Periphery',  \n",
    "    0: 'Center' }\n",
    "\n",
    "grouped = data.groupby(['Hospital_Periphery', 'Recommendation']).size().reset_index(name='Count')\n",
    "\n",
    "plt.figure(figsize=(6,6))\n",
    "sns.barplot(\n",
    "    data=grouped,\n",
    "    x=grouped['Hospital_Periphery'].map(periphery_mapping),  # מיפוי ערכי פריפריה\n",
    "    y='Count',\n",
    "    hue='Recommendation',\n",
    "    palette='viridis')\n",
    "\n",
    "plt.title('Distribution of Satisfaction Ratings by Hospital Periphery', fontsize=16)\n",
    "plt.xlabel('Hospital Periphery', fontsize=14)\n",
    "plt.ylabel('Count of Ratings', fontsize=14)\n",
    "plt.legend(title='Satisfaction', loc='upper left', bbox_to_anchor=(0, 1)) \n",
    "plt.xticks(rotation=45)\n",
    "plt.show()\n",
    "####"
   ]
  },
  {
   "cell_type": "markdown",
   "id": "2676decd-da0f-4fbb-b328-6d0b257c40d4",
   "metadata": {},
   "source": [
    "It seems that hospitals in the center are more popular than hospitals in the periphery. Furthermore, the distribution is similar in both areas."
   ]
  },
  {
   "cell_type": "markdown",
   "id": "4b342b4c-f06b-4efa-8e24-a615902d6a69",
   "metadata": {
    "id": "4b342b4c-f06b-4efa-8e24-a615902d6a69"
   },
   "source": [
    "# Classification\n",
    "## Predicting patient satisfaction"
   ]
  },
  {
   "cell_type": "markdown",
   "id": "de9ba6c3-66ac-4eca-bc12-b250e17e360b",
   "metadata": {},
   "source": [
    "#### We will convert the values to int"
   ]
  },
  {
   "cell_type": "code",
   "execution_count": 38,
   "id": "a63f7c4a-fe6c-45e5-916f-567a427dffdb",
   "metadata": {
    "executionInfo": {
     "elapsed": 31,
     "status": "aborted",
     "timestamp": 1736767607918,
     "user": {
      "displayName": "יואב כהן",
      "userId": "11310514616825726202"
     },
     "user_tz": -120
    },
    "id": "a63f7c4a-fe6c-45e5-916f-567a427dffdb"
   },
   "outputs": [],
   "source": [
    "df = data.copy()\n",
    "df= df.apply(pd.to_numeric).astype(int)"
   ]
  },
  {
   "cell_type": "markdown",
   "id": "0fcb706b-9422-44cb-be8f-53b4ddf85c63",
   "metadata": {
    "id": "0fcb706b-9422-44cb-be8f-53b4ddf85c63"
   },
   "source": [
    "#### One-Hot Encoding: We will handle columns that are categorical numeric, but the numbers have no order importance: One-Hot Encoding"
   ]
  },
  {
   "cell_type": "code",
   "execution_count": 39,
   "id": "b5b89abe-c80c-490c-a597-83a089189239",
   "metadata": {
    "executionInfo": {
     "elapsed": 31,
     "status": "aborted",
     "timestamp": 1736767607918,
     "user": {
      "displayName": "יואב כהן",
      "userId": "11310514616825726202"
     },
     "user_tz": -120
    },
    "id": "b5b89abe-c80c-490c-a597-83a089189239"
   },
   "outputs": [],
   "source": [
    "df = pd.get_dummies(df, columns=['Ward','Primary_Language', 'Living_Situation', 'Religious_Affiliation', 'Age',\n",
    "       'Health insurance', 'Ownership'], drop_first=False)\n",
    "df = df.astype(int)"
   ]
  },
  {
   "cell_type": "markdown",
   "id": "c9d08803-f907-4f14-90e4-e34e96c6864d",
   "metadata": {
    "id": "c9d08803-f907-4f14-90e4-e34e96c6864d"
   },
   "source": [
    "#### We will check if there is a high correlation between variables that may lead to excess information."
   ]
  },
  {
   "cell_type": "code",
   "execution_count": 40,
   "id": "7ff12b66-5482-4ea6-b7f0-e1b686c0c014",
   "metadata": {
    "executionInfo": {
     "elapsed": 31,
     "status": "aborted",
     "timestamp": 1736767607918,
     "user": {
      "displayName": "יואב כהן",
      "userId": "11310514616825726202"
     },
     "user_tz": -120
    },
    "id": "7ff12b66-5482-4ea6-b7f0-e1b686c0c014"
   },
   "outputs": [
    {
     "data": {
      "image/png": "[encoded data removed]",
      "text/plain": [
       "<Figure size 720x576 with 2 Axes>"
      ]
     },
     "metadata": {
      "needs_background": "light"
     },
     "output_type": "display_data"
    }
   ],
   "source": [
    "###GPT###\n",
    "import seaborn as sns\n",
    "corr = df.corr()\n",
    "plt.figure(figsize=(10, 8)) \n",
    "sns.heatmap(corr, annot=False, cmap='coolwarm', cbar=True)\n",
    "plt.title(\"Correlation Heatmap\", fontsize=16)\n",
    "plt.show()\n",
    "####"
   ]
  },
  {
   "cell_type": "markdown",
   "id": "f71a2964-69bf-4d42-ab95-44d4f5a19a1b",
   "metadata": {
    "id": "f71a2964-69bf-4d42-ab95-44d4f5a19a1b"
   },
   "source": [
    "#### We will make sure that the data does not contain text columns or uncoded categories, and that there are no missing values."
   ]
  },
  {
   "cell_type": "code",
   "execution_count": 41,
   "id": "87fccd36-60ee-4082-9c51-52914cf78a08",
   "metadata": {
    "executionInfo": {
     "elapsed": 32,
     "status": "aborted",
     "timestamp": 1736767607919,
     "user": {
      "displayName": "יואב כהן",
      "userId": "11310514616825726202"
     },
     "user_tz": -120
    },
    "id": "87fccd36-60ee-4082-9c51-52914cf78a08"
   },
   "outputs": [
    {
     "name": "stdout",
     "output_type": "stream",
     "text": [
      "<class 'pandas.core.frame.DataFrame'>\n",
      "Index: 9732 entries, 2 to 11098\n",
      "Data columns (total 76 columns):\n",
      " #   Column                         Non-Null Count  Dtype\n",
      "---  ------                         --------------  -----\n",
      " 0   Size_hospital                  9732 non-null   int32\n",
      " 1   Is_electiv                     9732 non-null   int32\n",
      " 2   Choice                         9732 non-null   int32\n",
      " 3   Is_corridor                    9732 non-null   int32\n",
      " 4   Gender                         9732 non-null   int32\n",
      " 5   Education                      9732 non-null   int32\n",
      " 6   Chronic                        9732 non-null   int32\n",
      " 7   Health_status                  9732 non-null   int32\n",
      " 8   Satisfaction                   9732 non-null   int32\n",
      " 9   Recommendation                 9732 non-null   int32\n",
      " 10  ER_Treatment_Satisfaction      9732 non-null   int32\n",
      " 11  Admission_Efficiency           9732 non-null   int32\n",
      " 12  Nurse_Respect                  9732 non-null   int32\n",
      " 13  Nurse_Listening                9732 non-null   int32\n",
      " 14  Nurse_Explanation_Clarity      9732 non-null   int32\n",
      " 15  Doctor_Respect                 9732 non-null   int32\n",
      " 16  Doctor_Personal_Care           9732 non-null   int32\n",
      " 17  Doctor_Listening               9732 non-null   int32\n",
      " 18  Doctor_Explanation_Clarity     9732 non-null   int32\n",
      " 19  Staff_Knowledge                9732 non-null   int32\n",
      " 20  Proactive_Communication        9732 non-null   int32\n",
      " 21  Team_Coordination              9732 non-null   int32\n",
      " 22  Pain_Management                9732 non-null   int32\n",
      " 23  Safety_Measures                9732 non-null   int32\n",
      " 24  Patient_Involvement            9732 non-null   int32\n",
      " 25  Alternative_Treatments         9732 non-null   int32\n",
      " 26  Next_Steps_Clarity             9732 non-null   int32\n",
      " 27  Response_Ease                  9732 non-null   int32\n",
      " 28  Safe_Hands_Feeling             9732 non-null   int32\n",
      " 29  Discharge_Efficiency           9732 non-null   int32\n",
      " 30  Discharge_Problem_Explanation  9732 non-null   int32\n",
      " 31  Discharge_Followup_Clarity     9732 non-null   int32\n",
      " 32  Room_Cleanliness               9732 non-null   int32\n",
      " 33  Room_Conditions                9732 non-null   int32\n",
      " 34  Night_Quietness                9732 non-null   int32\n",
      " 35  Food_Satisfaction              9732 non-null   int32\n",
      " 36  Visitor_Comfort                9732 non-null   int32\n",
      " 37  Hospital_Periphery             9732 non-null   int32\n",
      " 38  Ward_1                         9732 non-null   int32\n",
      " 39  Ward_2                         9732 non-null   int32\n",
      " 40  Ward_3                         9732 non-null   int32\n",
      " 41  Primary_Language_1             9732 non-null   int32\n",
      " 42  Primary_Language_2             9732 non-null   int32\n",
      " 43  Primary_Language_3             9732 non-null   int32\n",
      " 44  Primary_Language_4             9732 non-null   int32\n",
      " 45  Primary_Language_5             9732 non-null   int32\n",
      " 46  Primary_Language_6             9732 non-null   int32\n",
      " 47  Living_Situation_1             9732 non-null   int32\n",
      " 48  Living_Situation_2             9732 non-null   int32\n",
      " 49  Living_Situation_3             9732 non-null   int32\n",
      " 50  Living_Situation_4             9732 non-null   int32\n",
      " 51  Living_Situation_5             9732 non-null   int32\n",
      " 52  Living_Situation_6             9732 non-null   int32\n",
      " 53  Religious_Affiliation_1        9732 non-null   int32\n",
      " 54  Religious_Affiliation_2        9732 non-null   int32\n",
      " 55  Religious_Affiliation_3        9732 non-null   int32\n",
      " 56  Religious_Affiliation_4        9732 non-null   int32\n",
      " 57  Religious_Affiliation_5        9732 non-null   int32\n",
      " 58  Religious_Affiliation_6        9732 non-null   int32\n",
      " 59  Age_1                          9732 non-null   int32\n",
      " 60  Age_2                          9732 non-null   int32\n",
      " 61  Age_3                          9732 non-null   int32\n",
      " 62  Age_4                          9732 non-null   int32\n",
      " 63  Age_5                          9732 non-null   int32\n",
      " 64  Age_6                          9732 non-null   int32\n",
      " 65  Age_7                          9732 non-null   int32\n",
      " 66  Age_8                          9732 non-null   int32\n",
      " 67  Health insurance_1             9732 non-null   int32\n",
      " 68  Health insurance_2             9732 non-null   int32\n",
      " 69  Health insurance_3             9732 non-null   int32\n",
      " 70  Health insurance_4             9732 non-null   int32\n",
      " 71  Health insurance_5             9732 non-null   int32\n",
      " 72  Ownership_1                    9732 non-null   int32\n",
      " 73  Ownership_2                    9732 non-null   int32\n",
      " 74  Ownership_3                    9732 non-null   int32\n",
      " 75  Ownership_5                    9732 non-null   int32\n",
      "dtypes: int32(76)\n",
      "memory usage: 2.9 MB\n",
      "None\n",
      "Size_hospital         0\n",
      "Is_electiv            0\n",
      "Choice                0\n",
      "Is_corridor           0\n",
      "Gender                0\n",
      "                     ..\n",
      "Health insurance_5    0\n",
      "Ownership_1           0\n",
      "Ownership_2           0\n",
      "Ownership_3           0\n",
      "Ownership_5           0\n",
      "Length: 76, dtype: int64\n"
     ]
    }
   ],
   "source": [
    "print(df.info())\n",
    "print(df.isnull().sum())"
   ]
  },
  {
   "cell_type": "markdown",
   "id": "d8d86fec-23d4-43a3-9ca5-5032969d2397",
   "metadata": {
    "id": "d8d86fec-23d4-43a3-9ca5-5032969d2397"
   },
   "source": [
    "#### Place the column you want to predict at the end of the data."
   ]
  },
  {
   "cell_type": "code",
   "execution_count": 42,
   "id": "5adb6f3c-34d3-4687-b948-db38d8159e77",
   "metadata": {
    "executionInfo": {
     "elapsed": 32,
     "status": "aborted",
     "timestamp": 1736767607919,
     "user": {
      "displayName": "יואב כהן",
      "userId": "11310514616825726202"
     },
     "user_tz": -120
    },
    "id": "5adb6f3c-34d3-4687-b948-db38d8159e77"
   },
   "outputs": [
    {
     "data": {
      "text/html": [
       "<div>\n",
       "<style scoped>\n",
       "    .dataframe tbody tr th:only-of-type {\n",
       "        vertical-align: middle;\n",
       "    }\n",
       "\n",
       "    .dataframe tbody tr th {\n",
       "        vertical-align: top;\n",
       "    }\n",
       "\n",
       "    .dataframe thead th {\n",
       "        text-align: right;\n",
       "    }\n",
       "</style>\n",
       "<table border=\"1\" class=\"dataframe\">\n",
       "  <thead>\n",
       "    <tr style=\"text-align: right;\">\n",
       "      <th></th>\n",
       "      <th>Size_hospital</th>\n",
       "      <th>Is_electiv</th>\n",
       "      <th>Choice</th>\n",
       "      <th>Is_corridor</th>\n",
       "      <th>Gender</th>\n",
       "      <th>Education</th>\n",
       "      <th>Chronic</th>\n",
       "      <th>Health_status</th>\n",
       "      <th>Recommendation</th>\n",
       "      <th>ER_Treatment_Satisfaction</th>\n",
       "      <th>...</th>\n",
       "      <th>Health insurance_1</th>\n",
       "      <th>Health insurance_2</th>\n",
       "      <th>Health insurance_3</th>\n",
       "      <th>Health insurance_4</th>\n",
       "      <th>Health insurance_5</th>\n",
       "      <th>Ownership_1</th>\n",
       "      <th>Ownership_2</th>\n",
       "      <th>Ownership_3</th>\n",
       "      <th>Ownership_5</th>\n",
       "      <th>Satisfaction</th>\n",
       "    </tr>\n",
       "  </thead>\n",
       "  <tbody>\n",
       "    <tr>\n",
       "      <th>2</th>\n",
       "      <td>3</td>\n",
       "      <td>1</td>\n",
       "      <td>0</td>\n",
       "      <td>0</td>\n",
       "      <td>1</td>\n",
       "      <td>0</td>\n",
       "      <td>1</td>\n",
       "      <td>1</td>\n",
       "      <td>1</td>\n",
       "      <td>5</td>\n",
       "      <td>...</td>\n",
       "      <td>1</td>\n",
       "      <td>0</td>\n",
       "      <td>0</td>\n",
       "      <td>0</td>\n",
       "      <td>0</td>\n",
       "      <td>1</td>\n",
       "      <td>0</td>\n",
       "      <td>0</td>\n",
       "      <td>0</td>\n",
       "      <td>3</td>\n",
       "    </tr>\n",
       "    <tr>\n",
       "      <th>3</th>\n",
       "      <td>3</td>\n",
       "      <td>0</td>\n",
       "      <td>1</td>\n",
       "      <td>1</td>\n",
       "      <td>0</td>\n",
       "      <td>0</td>\n",
       "      <td>1</td>\n",
       "      <td>0</td>\n",
       "      <td>10</td>\n",
       "      <td>1</td>\n",
       "      <td>...</td>\n",
       "      <td>0</td>\n",
       "      <td>1</td>\n",
       "      <td>0</td>\n",
       "      <td>0</td>\n",
       "      <td>0</td>\n",
       "      <td>1</td>\n",
       "      <td>0</td>\n",
       "      <td>0</td>\n",
       "      <td>0</td>\n",
       "      <td>1</td>\n",
       "    </tr>\n",
       "    <tr>\n",
       "      <th>4</th>\n",
       "      <td>3</td>\n",
       "      <td>0</td>\n",
       "      <td>1</td>\n",
       "      <td>1</td>\n",
       "      <td>1</td>\n",
       "      <td>0</td>\n",
       "      <td>0</td>\n",
       "      <td>1</td>\n",
       "      <td>8</td>\n",
       "      <td>5</td>\n",
       "      <td>...</td>\n",
       "      <td>0</td>\n",
       "      <td>0</td>\n",
       "      <td>0</td>\n",
       "      <td>1</td>\n",
       "      <td>0</td>\n",
       "      <td>1</td>\n",
       "      <td>0</td>\n",
       "      <td>0</td>\n",
       "      <td>0</td>\n",
       "      <td>1</td>\n",
       "    </tr>\n",
       "    <tr>\n",
       "      <th>7</th>\n",
       "      <td>3</td>\n",
       "      <td>1</td>\n",
       "      <td>1</td>\n",
       "      <td>1</td>\n",
       "      <td>0</td>\n",
       "      <td>0</td>\n",
       "      <td>1</td>\n",
       "      <td>1</td>\n",
       "      <td>8</td>\n",
       "      <td>5</td>\n",
       "      <td>...</td>\n",
       "      <td>1</td>\n",
       "      <td>0</td>\n",
       "      <td>0</td>\n",
       "      <td>0</td>\n",
       "      <td>0</td>\n",
       "      <td>1</td>\n",
       "      <td>0</td>\n",
       "      <td>0</td>\n",
       "      <td>0</td>\n",
       "      <td>1</td>\n",
       "    </tr>\n",
       "    <tr>\n",
       "      <th>8</th>\n",
       "      <td>3</td>\n",
       "      <td>1</td>\n",
       "      <td>1</td>\n",
       "      <td>1</td>\n",
       "      <td>0</td>\n",
       "      <td>1</td>\n",
       "      <td>0</td>\n",
       "      <td>1</td>\n",
       "      <td>10</td>\n",
       "      <td>1</td>\n",
       "      <td>...</td>\n",
       "      <td>0</td>\n",
       "      <td>0</td>\n",
       "      <td>0</td>\n",
       "      <td>1</td>\n",
       "      <td>0</td>\n",
       "      <td>1</td>\n",
       "      <td>0</td>\n",
       "      <td>0</td>\n",
       "      <td>0</td>\n",
       "      <td>1</td>\n",
       "    </tr>\n",
       "    <tr>\n",
       "      <th>...</th>\n",
       "      <td>...</td>\n",
       "      <td>...</td>\n",
       "      <td>...</td>\n",
       "      <td>...</td>\n",
       "      <td>...</td>\n",
       "      <td>...</td>\n",
       "      <td>...</td>\n",
       "      <td>...</td>\n",
       "      <td>...</td>\n",
       "      <td>...</td>\n",
       "      <td>...</td>\n",
       "      <td>...</td>\n",
       "      <td>...</td>\n",
       "      <td>...</td>\n",
       "      <td>...</td>\n",
       "      <td>...</td>\n",
       "      <td>...</td>\n",
       "      <td>...</td>\n",
       "      <td>...</td>\n",
       "      <td>...</td>\n",
       "      <td>...</td>\n",
       "    </tr>\n",
       "    <tr>\n",
       "      <th>11093</th>\n",
       "      <td>2</td>\n",
       "      <td>1</td>\n",
       "      <td>1</td>\n",
       "      <td>1</td>\n",
       "      <td>0</td>\n",
       "      <td>1</td>\n",
       "      <td>0</td>\n",
       "      <td>0</td>\n",
       "      <td>6</td>\n",
       "      <td>2</td>\n",
       "      <td>...</td>\n",
       "      <td>0</td>\n",
       "      <td>0</td>\n",
       "      <td>0</td>\n",
       "      <td>1</td>\n",
       "      <td>0</td>\n",
       "      <td>1</td>\n",
       "      <td>0</td>\n",
       "      <td>0</td>\n",
       "      <td>0</td>\n",
       "      <td>1</td>\n",
       "    </tr>\n",
       "    <tr>\n",
       "      <th>11094</th>\n",
       "      <td>2</td>\n",
       "      <td>1</td>\n",
       "      <td>1</td>\n",
       "      <td>1</td>\n",
       "      <td>1</td>\n",
       "      <td>1</td>\n",
       "      <td>1</td>\n",
       "      <td>0</td>\n",
       "      <td>9</td>\n",
       "      <td>4</td>\n",
       "      <td>...</td>\n",
       "      <td>1</td>\n",
       "      <td>0</td>\n",
       "      <td>0</td>\n",
       "      <td>0</td>\n",
       "      <td>0</td>\n",
       "      <td>1</td>\n",
       "      <td>0</td>\n",
       "      <td>0</td>\n",
       "      <td>0</td>\n",
       "      <td>1</td>\n",
       "    </tr>\n",
       "    <tr>\n",
       "      <th>11095</th>\n",
       "      <td>2</td>\n",
       "      <td>0</td>\n",
       "      <td>1</td>\n",
       "      <td>0</td>\n",
       "      <td>1</td>\n",
       "      <td>0</td>\n",
       "      <td>0</td>\n",
       "      <td>1</td>\n",
       "      <td>9</td>\n",
       "      <td>2</td>\n",
       "      <td>...</td>\n",
       "      <td>0</td>\n",
       "      <td>0</td>\n",
       "      <td>1</td>\n",
       "      <td>0</td>\n",
       "      <td>0</td>\n",
       "      <td>1</td>\n",
       "      <td>0</td>\n",
       "      <td>0</td>\n",
       "      <td>0</td>\n",
       "      <td>1</td>\n",
       "    </tr>\n",
       "    <tr>\n",
       "      <th>11096</th>\n",
       "      <td>2</td>\n",
       "      <td>1</td>\n",
       "      <td>0</td>\n",
       "      <td>1</td>\n",
       "      <td>0</td>\n",
       "      <td>0</td>\n",
       "      <td>0</td>\n",
       "      <td>0</td>\n",
       "      <td>7</td>\n",
       "      <td>3</td>\n",
       "      <td>...</td>\n",
       "      <td>0</td>\n",
       "      <td>0</td>\n",
       "      <td>1</td>\n",
       "      <td>0</td>\n",
       "      <td>0</td>\n",
       "      <td>1</td>\n",
       "      <td>0</td>\n",
       "      <td>0</td>\n",
       "      <td>0</td>\n",
       "      <td>2</td>\n",
       "    </tr>\n",
       "    <tr>\n",
       "      <th>11098</th>\n",
       "      <td>2</td>\n",
       "      <td>1</td>\n",
       "      <td>1</td>\n",
       "      <td>1</td>\n",
       "      <td>1</td>\n",
       "      <td>0</td>\n",
       "      <td>0</td>\n",
       "      <td>1</td>\n",
       "      <td>10</td>\n",
       "      <td>2</td>\n",
       "      <td>...</td>\n",
       "      <td>0</td>\n",
       "      <td>0</td>\n",
       "      <td>1</td>\n",
       "      <td>0</td>\n",
       "      <td>0</td>\n",
       "      <td>1</td>\n",
       "      <td>0</td>\n",
       "      <td>0</td>\n",
       "      <td>0</td>\n",
       "      <td>1</td>\n",
       "    </tr>\n",
       "  </tbody>\n",
       "</table>\n",
       "<p>9732 rows × 76 columns</p>\n",
       "</div>"
      ],
      "text/plain": [
       "       Size_hospital  Is_electiv  Choice  Is_corridor  Gender  Education  \\\n",
       "2                  3           1       0            0       1          0   \n",
       "3                  3           0       1            1       0          0   \n",
       "4                  3           0       1            1       1          0   \n",
       "7                  3           1       1            1       0          0   \n",
       "8                  3           1       1            1       0          1   \n",
       "...              ...         ...     ...          ...     ...        ...   \n",
       "11093              2           1       1            1       0          1   \n",
       "11094              2           1       1            1       1          1   \n",
       "11095              2           0       1            0       1          0   \n",
       "11096              2           1       0            1       0          0   \n",
       "11098              2           1       1            1       1          0   \n",
       "\n",
       "       Chronic  Health_status  Recommendation  ER_Treatment_Satisfaction  ...  \\\n",
       "2            1              1               1                          5  ...   \n",
       "3            1              0              10                          1  ...   \n",
       "4            0              1               8                          5  ...   \n",
       "7            1              1               8                          5  ...   \n",
       "8            0              1              10                          1  ...   \n",
       "...        ...            ...             ...                        ...  ...   \n",
       "11093        0              0               6                          2  ...   \n",
       "11094        1              0               9                          4  ...   \n",
       "11095        0              1               9                          2  ...   \n",
       "11096        0              0               7                          3  ...   \n",
       "11098        0              1              10                          2  ...   \n",
       "\n",
       "       Health insurance_1  Health insurance_2  Health insurance_3  \\\n",
       "2                       1                   0                   0   \n",
       "3                       0                   1                   0   \n",
       "4                       0                   0                   0   \n",
       "7                       1                   0                   0   \n",
       "8                       0                   0                   0   \n",
       "...                   ...                 ...                 ...   \n",
       "11093                   0                   0                   0   \n",
       "11094                   1                   0                   0   \n",
       "11095                   0                   0                   1   \n",
       "11096                   0                   0                   1   \n",
       "11098                   0                   0                   1   \n",
       "\n",
       "       Health insurance_4  Health insurance_5  Ownership_1  Ownership_2  \\\n",
       "2                       0                   0            1            0   \n",
       "3                       0                   0            1            0   \n",
       "4                       1                   0            1            0   \n",
       "7                       0                   0            1            0   \n",
       "8                       1                   0            1            0   \n",
       "...                   ...                 ...          ...          ...   \n",
       "11093                   1                   0            1            0   \n",
       "11094                   0                   0            1            0   \n",
       "11095                   0                   0            1            0   \n",
       "11096                   0                   0            1            0   \n",
       "11098                   0                   0            1            0   \n",
       "\n",
       "       Ownership_3  Ownership_5  Satisfaction  \n",
       "2                0            0             3  \n",
       "3                0            0             1  \n",
       "4                0            0             1  \n",
       "7                0            0             1  \n",
       "8                0            0             1  \n",
       "...            ...          ...           ...  \n",
       "11093            0            0             1  \n",
       "11094            0            0             1  \n",
       "11095            0            0             1  \n",
       "11096            0            0             2  \n",
       "11098            0            0             1  \n",
       "\n",
       "[9732 rows x 76 columns]"
      ]
     },
     "execution_count": 42,
     "metadata": {},
     "output_type": "execute_result"
    }
   ],
   "source": [
    "target_column = 'Satisfaction'\n",
    "columns = [col for col in df.columns if col != target_column] + [target_column]\n",
    "df = df[columns]\n",
    "df"
   ]
  },
  {
   "cell_type": "markdown",
   "id": "b4ac77f0-f24c-41f3-9e94-1fef2dd8eff0",
   "metadata": {
    "id": "b4ac77f0-f24c-41f3-9e94-1fef2dd8eff0"
   },
   "source": [
    "#### Convert the data to a row vector, and the prediction column separately as a value of ."
   ]
  },
  {
   "cell_type": "code",
   "execution_count": 43,
   "id": "88089e66-7cb3-43a7-bb3a-b539e5cefb58",
   "metadata": {
    "executionInfo": {
     "elapsed": 32,
     "status": "aborted",
     "timestamp": 1736767607919,
     "user": {
      "displayName": "יואב כהן",
      "userId": "11310514616825726202"
     },
     "user_tz": -120
    },
    "id": "88089e66-7cb3-43a7-bb3a-b539e5cefb58"
   },
   "outputs": [],
   "source": [
    "X = df.iloc[:, :-1].values\n",
    "y = df.iloc[:, -1].values"
   ]
  },
  {
   "cell_type": "markdown",
   "id": "88d26df2-049f-420b-844b-8fa550a41391",
   "metadata": {
    "id": "88d26df2-049f-420b-844b-8fa550a41391"
   },
   "source": [
    "### Splitting the dataset into the Training set and Test set"
   ]
  },
  {
   "cell_type": "code",
   "execution_count": 44,
   "id": "dc4924d4-ab3e-4c06-acb6-3d5da7bae6b5",
   "metadata": {
    "executionInfo": {
     "elapsed": 32,
     "status": "aborted",
     "timestamp": 1736767607919,
     "user": {
      "displayName": "יואב כהן",
      "userId": "11310514616825726202"
     },
     "user_tz": -120
    },
    "id": "dc4924d4-ab3e-4c06-acb6-3d5da7bae6b5"
   },
   "outputs": [],
   "source": [
    "from sklearn.model_selection import train_test_split\n",
    "X_train, X_test, y_train, y_test = train_test_split(X, y, test_size = 0.2, random_state = 0)"
   ]
  },
  {
   "cell_type": "markdown",
   "id": "a0f47e1e-0db3-41e3-943b-3eaf64d81207",
   "metadata": {
    "id": "a0f47e1e-0db3-41e3-943b-3eaf64d81207"
   },
   "source": [
    "## 1-Training the K-NN model on the Training set"
   ]
  },
  {
   "cell_type": "code",
   "execution_count": 45,
   "id": "ce5a2402-b1ec-4266-8266-f9a6662e628a",
   "metadata": {
    "executionInfo": {
     "elapsed": 33,
     "status": "aborted",
     "timestamp": 1736767607920,
     "user": {
      "displayName": "יואב כהן",
      "userId": "11310514616825726202"
     },
     "user_tz": -120
    },
    "id": "ce5a2402-b1ec-4266-8266-f9a6662e628a"
   },
   "outputs": [
    {
     "data": {
      "text/html": [
       "<style>#sk-container-id-1 {\n",
       "  /* Definition of color scheme common for light and dark mode */\n",
       "  --sklearn-color-text: black;\n",
       "  --sklearn-color-line: gray;\n",
       "  /* Definition of color scheme for unfitted estimators */\n",
       "  --sklearn-color-unfitted-level-0: #fff5e6;\n",
       "  --sklearn-color-unfitted-level-1: #f6e4d2;\n",
       "  --sklearn-color-unfitted-level-2: #ffe0b3;\n",
       "  --sklearn-color-unfitted-level-3: chocolate;\n",
       "  /* Definition of color scheme for fitted estimators */\n",
       "  --sklearn-color-fitted-level-0: #f0f8ff;\n",
       "  --sklearn-color-fitted-level-1: #d4ebff;\n",
       "  --sklearn-color-fitted-level-2: #b3dbfd;\n",
       "  --sklearn-color-fitted-level-3: cornflowerblue;\n",
       "\n",
       "  /* Specific color for light theme */\n",
       "  --sklearn-color-text-on-default-background: var(--sg-text-color, var(--theme-code-foreground, var(--jp-content-font-color1, black)));\n",
       "  --sklearn-color-background: var(--sg-background-color, var(--theme-background, var(--jp-layout-color0, white)));\n",
       "  --sklearn-color-border-box: var(--sg-text-color, var(--theme-code-foreground, var(--jp-content-font-color1, black)));\n",
       "  --sklearn-color-icon: #696969;\n",
       "\n",
       "  @media (prefers-color-scheme: dark) {\n",
       "    /* Redefinition of color scheme for dark theme */\n",
       "    --sklearn-color-text-on-default-background: var(--sg-text-color, var(--theme-code-foreground, var(--jp-content-font-color1, white)));\n",
       "    --sklearn-color-background: var(--sg-background-color, var(--theme-background, var(--jp-layout-color0, #111)));\n",
       "    --sklearn-color-border-box: var(--sg-text-color, var(--theme-code-foreground, var(--jp-content-font-color1, white)));\n",
       "    --sklearn-color-icon: #878787;\n",
       "  }\n",
       "}\n",
       "\n",
       "#sk-container-id-1 {\n",
       "  color: var(--sklearn-color-text);\n",
       "}\n",
       "\n",
       "#sk-container-id-1 pre {\n",
       "  padding: 0;\n",
       "}\n",
       "\n",
       "#sk-container-id-1 input.sk-hidden--visually {\n",
       "  border: 0;\n",
       "  clip: rect(1px 1px 1px 1px);\n",
       "  clip: rect(1px, 1px, 1px, 1px);\n",
       "  height: 1px;\n",
       "  margin: -1px;\n",
       "  overflow: hidden;\n",
       "  padding: 0;\n",
       "  position: absolute;\n",
       "  width: 1px;\n",
       "}\n",
       "\n",
       "#sk-container-id-1 div.sk-dashed-wrapped {\n",
       "  border: 1px dashed var(--sklearn-color-line);\n",
       "  margin: 0 0.4em 0.5em 0.4em;\n",
       "  box-sizing: border-box;\n",
       "  padding-bottom: 0.4em;\n",
       "  background-color: var(--sklearn-color-background);\n",
       "}\n",
       "\n",
       "#sk-container-id-1 div.sk-container {\n",
       "  /* jupyter's `normalize.less` sets `[hidden] { display: none; }`\n",
       "     but bootstrap.min.css set `[hidden] { display: none !important; }`\n",
       "     so we also need the `!important` here to be able to override the\n",
       "     default hidden behavior on the sphinx rendered scikit-learn.org.\n",
       "     See: https://github.com/scikit-learn/scikit-learn/issues/21755 */\n",
       "  display: inline-block !important;\n",
       "  position: relative;\n",
       "}\n",
       "\n",
       "#sk-container-id-1 div.sk-text-repr-fallback {\n",
       "  display: none;\n",
       "}\n",
       "\n",
       "div.sk-parallel-item,\n",
       "div.sk-serial,\n",
       "div.sk-item {\n",
       "  /* draw centered vertical line to link estimators */\n",
       "  background-image: linear-gradient(var(--sklearn-color-text-on-default-background), var(--sklearn-color-text-on-default-background));\n",
       "  background-size: 2px 100%;\n",
       "  background-repeat: no-repeat;\n",
       "  background-position: center center;\n",
       "}\n",
       "\n",
       "/* Parallel-specific style estimator block */\n",
       "\n",
       "#sk-container-id-1 div.sk-parallel-item::after {\n",
       "  content: \"\";\n",
       "  width: 100%;\n",
       "  border-bottom: 2px solid var(--sklearn-color-text-on-default-background);\n",
       "  flex-grow: 1;\n",
       "}\n",
       "\n",
       "#sk-container-id-1 div.sk-parallel {\n",
       "  display: flex;\n",
       "  align-items: stretch;\n",
       "  justify-content: center;\n",
       "  background-color: var(--sklearn-color-background);\n",
       "  position: relative;\n",
       "}\n",
       "\n",
       "#sk-container-id-1 div.sk-parallel-item {\n",
       "  display: flex;\n",
       "  flex-direction: column;\n",
       "}\n",
       "\n",
       "#sk-container-id-1 div.sk-parallel-item:first-child::after {\n",
       "  align-self: flex-end;\n",
       "  width: 50%;\n",
       "}\n",
       "\n",
       "#sk-container-id-1 div.sk-parallel-item:last-child::after {\n",
       "  align-self: flex-start;\n",
       "  width: 50%;\n",
       "}\n",
       "\n",
       "#sk-container-id-1 div.sk-parallel-item:only-child::after {\n",
       "  width: 0;\n",
       "}\n",
       "\n",
       "/* Serial-specific style estimator block */\n",
       "\n",
       "#sk-container-id-1 div.sk-serial {\n",
       "  display: flex;\n",
       "  flex-direction: column;\n",
       "  align-items: center;\n",
       "  background-color: var(--sklearn-color-background);\n",
       "  padding-right: 1em;\n",
       "  padding-left: 1em;\n",
       "}\n",
       "\n",
       "\n",
       "/* Toggleable style: style used for estimator/Pipeline/ColumnTransformer box that is\n",
       "clickable and can be expanded/collapsed.\n",
       "- Pipeline and ColumnTransformer use this feature and define the default style\n",
       "- Estimators will overwrite some part of the style using the `sk-estimator` class\n",
       "*/\n",
       "\n",
       "/* Pipeline and ColumnTransformer style (default) */\n",
       "\n",
       "#sk-container-id-1 div.sk-toggleable {\n",
       "  /* Default theme specific background. It is overwritten whether we have a\n",
       "  specific estimator or a Pipeline/ColumnTransformer */\n",
       "  background-color: var(--sklearn-color-background);\n",
       "}\n",
       "\n",
       "/* Toggleable label */\n",
       "#sk-container-id-1 label.sk-toggleable__label {\n",
       "  cursor: pointer;\n",
       "  display: block;\n",
       "  width: 100%;\n",
       "  margin-bottom: 0;\n",
       "  padding: 0.5em;\n",
       "  box-sizing: border-box;\n",
       "  text-align: center;\n",
       "}\n",
       "\n",
       "#sk-container-id-1 label.sk-toggleable__label-arrow:before {\n",
       "  /* Arrow on the left of the label */\n",
       "  content: \"▸\";\n",
       "  float: left;\n",
       "  margin-right: 0.25em;\n",
       "  color: var(--sklearn-color-icon);\n",
       "}\n",
       "\n",
       "#sk-container-id-1 label.sk-toggleable__label-arrow:hover:before {\n",
       "  color: var(--sklearn-color-text);\n",
       "}\n",
       "\n",
       "/* Toggleable content - dropdown */\n",
       "\n",
       "#sk-container-id-1 div.sk-toggleable__content {\n",
       "  max-height: 0;\n",
       "  max-width: 0;\n",
       "  overflow: hidden;\n",
       "  text-align: left;\n",
       "  /* unfitted */\n",
       "  background-color: var(--sklearn-color-unfitted-level-0);\n",
       "}\n",
       "\n",
       "#sk-container-id-1 div.sk-toggleable__content.fitted {\n",
       "  /* fitted */\n",
       "  background-color: var(--sklearn-color-fitted-level-0);\n",
       "}\n",
       "\n",
       "#sk-container-id-1 div.sk-toggleable__content pre {\n",
       "  margin: 0.2em;\n",
       "  border-radius: 0.25em;\n",
       "  color: var(--sklearn-color-text);\n",
       "  /* unfitted */\n",
       "  background-color: var(--sklearn-color-unfitted-level-0);\n",
       "}\n",
       "\n",
       "#sk-container-id-1 div.sk-toggleable__content.fitted pre {\n",
       "  /* unfitted */\n",
       "  background-color: var(--sklearn-color-fitted-level-0);\n",
       "}\n",
       "\n",
       "#sk-container-id-1 input.sk-toggleable__control:checked~div.sk-toggleable__content {\n",
       "  /* Expand drop-down */\n",
       "  max-height: 200px;\n",
       "  max-width: 100%;\n",
       "  overflow: auto;\n",
       "}\n",
       "\n",
       "#sk-container-id-1 input.sk-toggleable__control:checked~label.sk-toggleable__label-arrow:before {\n",
       "  content: \"▾\";\n",
       "}\n",
       "\n",
       "/* Pipeline/ColumnTransformer-specific style */\n",
       "\n",
       "#sk-container-id-1 div.sk-label input.sk-toggleable__control:checked~label.sk-toggleable__label {\n",
       "  color: var(--sklearn-color-text);\n",
       "  background-color: var(--sklearn-color-unfitted-level-2);\n",
       "}\n",
       "\n",
       "#sk-container-id-1 div.sk-label.fitted input.sk-toggleable__control:checked~label.sk-toggleable__label {\n",
       "  background-color: var(--sklearn-color-fitted-level-2);\n",
       "}\n",
       "\n",
       "/* Estimator-specific style */\n",
       "\n",
       "/* Colorize estimator box */\n",
       "#sk-container-id-1 div.sk-estimator input.sk-toggleable__control:checked~label.sk-toggleable__label {\n",
       "  /* unfitted */\n",
       "  background-color: var(--sklearn-color-unfitted-level-2);\n",
       "}\n",
       "\n",
       "#sk-container-id-1 div.sk-estimator.fitted input.sk-toggleable__control:checked~label.sk-toggleable__label {\n",
       "  /* fitted */\n",
       "  background-color: var(--sklearn-color-fitted-level-2);\n",
       "}\n",
       "\n",
       "#sk-container-id-1 div.sk-label label.sk-toggleable__label,\n",
       "#sk-container-id-1 div.sk-label label {\n",
       "  /* The background is the default theme color */\n",
       "  color: var(--sklearn-color-text-on-default-background);\n",
       "}\n",
       "\n",
       "/* On hover, darken the color of the background */\n",
       "#sk-container-id-1 div.sk-label:hover label.sk-toggleable__label {\n",
       "  color: var(--sklearn-color-text);\n",
       "  background-color: var(--sklearn-color-unfitted-level-2);\n",
       "}\n",
       "\n",
       "/* Label box, darken color on hover, fitted */\n",
       "#sk-container-id-1 div.sk-label.fitted:hover label.sk-toggleable__label.fitted {\n",
       "  color: var(--sklearn-color-text);\n",
       "  background-color: var(--sklearn-color-fitted-level-2);\n",
       "}\n",
       "\n",
       "/* Estimator label */\n",
       "\n",
       "#sk-container-id-1 div.sk-label label {\n",
       "  font-family: monospace;\n",
       "  font-weight: bold;\n",
       "  display: inline-block;\n",
       "  line-height: 1.2em;\n",
       "}\n",
       "\n",
       "#sk-container-id-1 div.sk-label-container {\n",
       "  text-align: center;\n",
       "}\n",
       "\n",
       "/* Estimator-specific */\n",
       "#sk-container-id-1 div.sk-estimator {\n",
       "  font-family: monospace;\n",
       "  border: 1px dotted var(--sklearn-color-border-box);\n",
       "  border-radius: 0.25em;\n",
       "  box-sizing: border-box;\n",
       "  margin-bottom: 0.5em;\n",
       "  /* unfitted */\n",
       "  background-color: var(--sklearn-color-unfitted-level-0);\n",
       "}\n",
       "\n",
       "#sk-container-id-1 div.sk-estimator.fitted {\n",
       "  /* fitted */\n",
       "  background-color: var(--sklearn-color-fitted-level-0);\n",
       "}\n",
       "\n",
       "/* on hover */\n",
       "#sk-container-id-1 div.sk-estimator:hover {\n",
       "  /* unfitted */\n",
       "  background-color: var(--sklearn-color-unfitted-level-2);\n",
       "}\n",
       "\n",
       "#sk-container-id-1 div.sk-estimator.fitted:hover {\n",
       "  /* fitted */\n",
       "  background-color: var(--sklearn-color-fitted-level-2);\n",
       "}\n",
       "\n",
       "/* Specification for estimator info (e.g. \"i\" and \"?\") */\n",
       "\n",
       "/* Common style for \"i\" and \"?\" */\n",
       "\n",
       ".sk-estimator-doc-link,\n",
       "a:link.sk-estimator-doc-link,\n",
       "a:visited.sk-estimator-doc-link {\n",
       "  float: right;\n",
       "  font-size: smaller;\n",
       "  line-height: 1em;\n",
       "  font-family: monospace;\n",
       "  background-color: var(--sklearn-color-background);\n",
       "  border-radius: 1em;\n",
       "  height: 1em;\n",
       "  width: 1em;\n",
       "  text-decoration: none !important;\n",
       "  margin-left: 1ex;\n",
       "  /* unfitted */\n",
       "  border: var(--sklearn-color-unfitted-level-1) 1pt solid;\n",
       "  color: var(--sklearn-color-unfitted-level-1);\n",
       "}\n",
       "\n",
       ".sk-estimator-doc-link.fitted,\n",
       "a:link.sk-estimator-doc-link.fitted,\n",
       "a:visited.sk-estimator-doc-link.fitted {\n",
       "  /* fitted */\n",
       "  border: var(--sklearn-color-fitted-level-1) 1pt solid;\n",
       "  color: var(--sklearn-color-fitted-level-1);\n",
       "}\n",
       "\n",
       "/* On hover */\n",
       "div.sk-estimator:hover .sk-estimator-doc-link:hover,\n",
       ".sk-estimator-doc-link:hover,\n",
       "div.sk-label-container:hover .sk-estimator-doc-link:hover,\n",
       ".sk-estimator-doc-link:hover {\n",
       "  /* unfitted */\n",
       "  background-color: var(--sklearn-color-unfitted-level-3);\n",
       "  color: var(--sklearn-color-background);\n",
       "  text-decoration: none;\n",
       "}\n",
       "\n",
       "div.sk-estimator.fitted:hover .sk-estimator-doc-link.fitted:hover,\n",
       ".sk-estimator-doc-link.fitted:hover,\n",
       "div.sk-label-container:hover .sk-estimator-doc-link.fitted:hover,\n",
       ".sk-estimator-doc-link.fitted:hover {\n",
       "  /* fitted */\n",
       "  background-color: var(--sklearn-color-fitted-level-3);\n",
       "  color: var(--sklearn-color-background);\n",
       "  text-decoration: none;\n",
       "}\n",
       "\n",
       "/* Span, style for the box shown on hovering the info icon */\n",
       ".sk-estimator-doc-link span {\n",
       "  display: none;\n",
       "  z-index: 9999;\n",
       "  position: relative;\n",
       "  font-weight: normal;\n",
       "  right: .2ex;\n",
       "  padding: .5ex;\n",
       "  margin: .5ex;\n",
       "  width: min-content;\n",
       "  min-width: 20ex;\n",
       "  max-width: 50ex;\n",
       "  color: var(--sklearn-color-text);\n",
       "  box-shadow: 2pt 2pt 4pt #999;\n",
       "  /* unfitted */\n",
       "  background: var(--sklearn-color-unfitted-level-0);\n",
       "  border: .5pt solid var(--sklearn-color-unfitted-level-3);\n",
       "}\n",
       "\n",
       ".sk-estimator-doc-link.fitted span {\n",
       "  /* fitted */\n",
       "  background: var(--sklearn-color-fitted-level-0);\n",
       "  border: var(--sklearn-color-fitted-level-3);\n",
       "}\n",
       "\n",
       ".sk-estimator-doc-link:hover span {\n",
       "  display: block;\n",
       "}\n",
       "\n",
       "/* \"?\"-specific style due to the `<a>` HTML tag */\n",
       "\n",
       "#sk-container-id-1 a.estimator_doc_link {\n",
       "  float: right;\n",
       "  font-size: 1rem;\n",
       "  line-height: 1em;\n",
       "  font-family: monospace;\n",
       "  background-color: var(--sklearn-color-background);\n",
       "  border-radius: 1rem;\n",
       "  height: 1rem;\n",
       "  width: 1rem;\n",
       "  text-decoration: none;\n",
       "  /* unfitted */\n",
       "  color: var(--sklearn-color-unfitted-level-1);\n",
       "  border: var(--sklearn-color-unfitted-level-1) 1pt solid;\n",
       "}\n",
       "\n",
       "#sk-container-id-1 a.estimator_doc_link.fitted {\n",
       "  /* fitted */\n",
       "  border: var(--sklearn-color-fitted-level-1) 1pt solid;\n",
       "  color: var(--sklearn-color-fitted-level-1);\n",
       "}\n",
       "\n",
       "/* On hover */\n",
       "#sk-container-id-1 a.estimator_doc_link:hover {\n",
       "  /* unfitted */\n",
       "  background-color: var(--sklearn-color-unfitted-level-3);\n",
       "  color: var(--sklearn-color-background);\n",
       "  text-decoration: none;\n",
       "}\n",
       "\n",
       "#sk-container-id-1 a.estimator_doc_link.fitted:hover {\n",
       "  /* fitted */\n",
       "  background-color: var(--sklearn-color-fitted-level-3);\n",
       "}\n",
       "</style><div id=\"sk-container-id-1\" class=\"sk-top-container\"><div class=\"sk-text-repr-fallback\"><pre>KNeighborsClassifier()</pre><b>In a Jupyter environment, please rerun this cell to show the HTML representation or trust the notebook. <br />On GitHub, the HTML representation is unable to render, please try loading this page with nbviewer.org.</b></div><div class=\"sk-container\" hidden><div class=\"sk-item\"><div class=\"sk-estimator fitted sk-toggleable\"><input class=\"sk-toggleable__control sk-hidden--visually\" id=\"sk-estimator-id-1\" type=\"checkbox\" checked><label for=\"sk-estimator-id-1\" class=\"sk-toggleable__label fitted sk-toggleable__label-arrow fitted\">&nbsp;&nbsp;KNeighborsClassifier<a class=\"sk-estimator-doc-link fitted\" rel=\"noreferrer\" target=\"_blank\" href=\"https://scikit-learn.org/1.5/modules/generated/sklearn.neighbors.KNeighborsClassifier.html\">?<span>Documentation for KNeighborsClassifier</span></a><span class=\"sk-estimator-doc-link fitted\">i<span>Fitted</span></span></label><div class=\"sk-toggleable__content fitted\"><pre>KNeighborsClassifier()</pre></div> </div></div></div></div>"
      ],
      "text/plain": [
       "KNeighborsClassifier()"
      ]
     },
     "execution_count": 45,
     "metadata": {},
     "output_type": "execute_result"
    }
   ],
   "source": [
    "from sklearn.neighbors import KNeighborsClassifier\n",
    "classifier = KNeighborsClassifier(n_neighbors = 5, metric = 'minkowski', p = 2)\n",
    "classifier.fit(X_train, y_train)"
   ]
  },
  {
   "cell_type": "code",
   "execution_count": 46,
   "id": "4b06e0ff-b72b-4afb-ad49-bd06ff209e55",
   "metadata": {
    "executionInfo": {
     "elapsed": 32,
     "status": "aborted",
     "timestamp": 1736767607920,
     "user": {
      "displayName": "יואב כהן",
      "userId": "11310514616825726202"
     },
     "user_tz": -120
    },
    "id": "4b06e0ff-b72b-4afb-ad49-bd06ff209e55"
   },
   "outputs": [
    {
     "name": "stdout",
     "output_type": "stream",
     "text": [
      "[[1369   65    5]\n",
      " [ 224  159   12]\n",
      " [  21   45   47]]\n"
     ]
    },
    {
     "data": {
      "text/plain": [
       "0.8089368258859785"
      ]
     },
     "execution_count": 46,
     "metadata": {},
     "output_type": "execute_result"
    }
   ],
   "source": [
    "from sklearn.metrics import confusion_matrix, accuracy_score\n",
    "y_pred = classifier.predict(X_test)\n",
    "cm = confusion_matrix(y_test, y_pred, labels=[1, 2, 3]) #Unsatisfied- 3, Satisfied- 2, Very satisfied- 1\n",
    "print(cm)\n",
    "accuracy_score(y_test, y_pred)"
   ]
  },
  {
   "cell_type": "markdown",
   "id": "edf2528f-8740-41a0-92af-2d44e6ec7241",
   "metadata": {
    "id": "edf2528f-8740-41a0-92af-2d44e6ec7241"
   },
   "source": [
    "##### Accuracy- Grid Search & Cross Validation  "
   ]
  },
  {
   "cell_type": "code",
   "execution_count": 47,
   "id": "1d792ee3-e3b2-4e77-887b-491861414349",
   "metadata": {
    "executionInfo": {
     "elapsed": 33,
     "status": "aborted",
     "timestamp": 1736767607921,
     "user": {
      "displayName": "יואב כהן",
      "userId": "11310514616825726202"
     },
     "user_tz": -120
    },
    "id": "1d792ee3-e3b2-4e77-887b-491861414349"
   },
   "outputs": [
    {
     "name": "stdout",
     "output_type": "stream",
     "text": [
      "Best Parameters: {'metric': 'euclidean', 'n_neighbors': 9, 'weights': 'distance'}\n",
      "Best Cross-Validation Accuracy: 0.80\n"
     ]
    }
   ],
   "source": [
    "###GPT###\n",
    "# Defining the parameter grid for KNN\n",
    "param_grid = {\n",
    "    'n_neighbors': [3, 5, 7, 9],    \n",
    "    'metric': ['euclidean', 'manhattan'],  \n",
    "    'weights': ['uniform', 'distance']}\n",
    "\n",
    "grid = GridSearchCV(KNeighborsClassifier(), param_grid, cv=5, scoring='accuracy')\n",
    "grid.fit(X, y)\n",
    "print(f\"Best Parameters: {grid.best_params_}\")\n",
    "print(f\"Best Cross-Validation Accuracy: {grid.best_score_:.2f}\") \n",
    "####"
   ]
  },
  {
   "cell_type": "markdown",
   "id": "c768d89d-62b9-4674-a4d0-95ad37760a33",
   "metadata": {
    "id": "c768d89d-62b9-4674-a4d0-95ad37760a33"
   },
   "source": [
    "## 2-Training the Logistic Regression model on the Training set"
   ]
  },
  {
   "cell_type": "code",
   "execution_count": 48,
   "id": "d6f682b2-b594-4ffb-8688-8c4d71cdc4a0",
   "metadata": {
    "executionInfo": {
     "elapsed": 33,
     "status": "aborted",
     "timestamp": 1736767607921,
     "user": {
      "displayName": "יואב כהן",
      "userId": "11310514616825726202"
     },
     "user_tz": -120
    },
    "id": "d6f682b2-b594-4ffb-8688-8c4d71cdc4a0"
   },
   "outputs": [
    {
     "data": {
      "text/html": [
       "<style>#sk-container-id-2 {\n",
       "  /* Definition of color scheme common for light and dark mode */\n",
       "  --sklearn-color-text: black;\n",
       "  --sklearn-color-line: gray;\n",
       "  /* Definition of color scheme for unfitted estimators */\n",
       "  --sklearn-color-unfitted-level-0: #fff5e6;\n",
       "  --sklearn-color-unfitted-level-1: #f6e4d2;\n",
       "  --sklearn-color-unfitted-level-2: #ffe0b3;\n",
       "  --sklearn-color-unfitted-level-3: chocolate;\n",
       "  /* Definition of color scheme for fitted estimators */\n",
       "  --sklearn-color-fitted-level-0: #f0f8ff;\n",
       "  --sklearn-color-fitted-level-1: #d4ebff;\n",
       "  --sklearn-color-fitted-level-2: #b3dbfd;\n",
       "  --sklearn-color-fitted-level-3: cornflowerblue;\n",
       "\n",
       "  /* Specific color for light theme */\n",
       "  --sklearn-color-text-on-default-background: var(--sg-text-color, var(--theme-code-foreground, var(--jp-content-font-color1, black)));\n",
       "  --sklearn-color-background: var(--sg-background-color, var(--theme-background, var(--jp-layout-color0, white)));\n",
       "  --sklearn-color-border-box: var(--sg-text-color, var(--theme-code-foreground, var(--jp-content-font-color1, black)));\n",
       "  --sklearn-color-icon: #696969;\n",
       "\n",
       "  @media (prefers-color-scheme: dark) {\n",
       "    /* Redefinition of color scheme for dark theme */\n",
       "    --sklearn-color-text-on-default-background: var(--sg-text-color, var(--theme-code-foreground, var(--jp-content-font-color1, white)));\n",
       "    --sklearn-color-background: var(--sg-background-color, var(--theme-background, var(--jp-layout-color0, #111)));\n",
       "    --sklearn-color-border-box: var(--sg-text-color, var(--theme-code-foreground, var(--jp-content-font-color1, white)));\n",
       "    --sklearn-color-icon: #878787;\n",
       "  }\n",
       "}\n",
       "\n",
       "#sk-container-id-2 {\n",
       "  color: var(--sklearn-color-text);\n",
       "}\n",
       "\n",
       "#sk-container-id-2 pre {\n",
       "  padding: 0;\n",
       "}\n",
       "\n",
       "#sk-container-id-2 input.sk-hidden--visually {\n",
       "  border: 0;\n",
       "  clip: rect(1px 1px 1px 1px);\n",
       "  clip: rect(1px, 1px, 1px, 1px);\n",
       "  height: 1px;\n",
       "  margin: -1px;\n",
       "  overflow: hidden;\n",
       "  padding: 0;\n",
       "  position: absolute;\n",
       "  width: 1px;\n",
       "}\n",
       "\n",
       "#sk-container-id-2 div.sk-dashed-wrapped {\n",
       "  border: 1px dashed var(--sklearn-color-line);\n",
       "  margin: 0 0.4em 0.5em 0.4em;\n",
       "  box-sizing: border-box;\n",
       "  padding-bottom: 0.4em;\n",
       "  background-color: var(--sklearn-color-background);\n",
       "}\n",
       "\n",
       "#sk-container-id-2 div.sk-container {\n",
       "  /* jupyter's `normalize.less` sets `[hidden] { display: none; }`\n",
       "     but bootstrap.min.css set `[hidden] { display: none !important; }`\n",
       "     so we also need the `!important` here to be able to override the\n",
       "     default hidden behavior on the sphinx rendered scikit-learn.org.\n",
       "     See: https://github.com/scikit-learn/scikit-learn/issues/21755 */\n",
       "  display: inline-block !important;\n",
       "  position: relative;\n",
       "}\n",
       "\n",
       "#sk-container-id-2 div.sk-text-repr-fallback {\n",
       "  display: none;\n",
       "}\n",
       "\n",
       "div.sk-parallel-item,\n",
       "div.sk-serial,\n",
       "div.sk-item {\n",
       "  /* draw centered vertical line to link estimators */\n",
       "  background-image: linear-gradient(var(--sklearn-color-text-on-default-background), var(--sklearn-color-text-on-default-background));\n",
       "  background-size: 2px 100%;\n",
       "  background-repeat: no-repeat;\n",
       "  background-position: center center;\n",
       "}\n",
       "\n",
       "/* Parallel-specific style estimator block */\n",
       "\n",
       "#sk-container-id-2 div.sk-parallel-item::after {\n",
       "  content: \"\";\n",
       "  width: 100%;\n",
       "  border-bottom: 2px solid var(--sklearn-color-text-on-default-background);\n",
       "  flex-grow: 1;\n",
       "}\n",
       "\n",
       "#sk-container-id-2 div.sk-parallel {\n",
       "  display: flex;\n",
       "  align-items: stretch;\n",
       "  justify-content: center;\n",
       "  background-color: var(--sklearn-color-background);\n",
       "  position: relative;\n",
       "}\n",
       "\n",
       "#sk-container-id-2 div.sk-parallel-item {\n",
       "  display: flex;\n",
       "  flex-direction: column;\n",
       "}\n",
       "\n",
       "#sk-container-id-2 div.sk-parallel-item:first-child::after {\n",
       "  align-self: flex-end;\n",
       "  width: 50%;\n",
       "}\n",
       "\n",
       "#sk-container-id-2 div.sk-parallel-item:last-child::after {\n",
       "  align-self: flex-start;\n",
       "  width: 50%;\n",
       "}\n",
       "\n",
       "#sk-container-id-2 div.sk-parallel-item:only-child::after {\n",
       "  width: 0;\n",
       "}\n",
       "\n",
       "/* Serial-specific style estimator block */\n",
       "\n",
       "#sk-container-id-2 div.sk-serial {\n",
       "  display: flex;\n",
       "  flex-direction: column;\n",
       "  align-items: center;\n",
       "  background-color: var(--sklearn-color-background);\n",
       "  padding-right: 1em;\n",
       "  padding-left: 1em;\n",
       "}\n",
       "\n",
       "\n",
       "/* Toggleable style: style used for estimator/Pipeline/ColumnTransformer box that is\n",
       "clickable and can be expanded/collapsed.\n",
       "- Pipeline and ColumnTransformer use this feature and define the default style\n",
       "- Estimators will overwrite some part of the style using the `sk-estimator` class\n",
       "*/\n",
       "\n",
       "/* Pipeline and ColumnTransformer style (default) */\n",
       "\n",
       "#sk-container-id-2 div.sk-toggleable {\n",
       "  /* Default theme specific background. It is overwritten whether we have a\n",
       "  specific estimator or a Pipeline/ColumnTransformer */\n",
       "  background-color: var(--sklearn-color-background);\n",
       "}\n",
       "\n",
       "/* Toggleable label */\n",
       "#sk-container-id-2 label.sk-toggleable__label {\n",
       "  cursor: pointer;\n",
       "  display: block;\n",
       "  width: 100%;\n",
       "  margin-bottom: 0;\n",
       "  padding: 0.5em;\n",
       "  box-sizing: border-box;\n",
       "  text-align: center;\n",
       "}\n",
       "\n",
       "#sk-container-id-2 label.sk-toggleable__label-arrow:before {\n",
       "  /* Arrow on the left of the label */\n",
       "  content: \"▸\";\n",
       "  float: left;\n",
       "  margin-right: 0.25em;\n",
       "  color: var(--sklearn-color-icon);\n",
       "}\n",
       "\n",
       "#sk-container-id-2 label.sk-toggleable__label-arrow:hover:before {\n",
       "  color: var(--sklearn-color-text);\n",
       "}\n",
       "\n",
       "/* Toggleable content - dropdown */\n",
       "\n",
       "#sk-container-id-2 div.sk-toggleable__content {\n",
       "  max-height: 0;\n",
       "  max-width: 0;\n",
       "  overflow: hidden;\n",
       "  text-align: left;\n",
       "  /* unfitted */\n",
       "  background-color: var(--sklearn-color-unfitted-level-0);\n",
       "}\n",
       "\n",
       "#sk-container-id-2 div.sk-toggleable__content.fitted {\n",
       "  /* fitted */\n",
       "  background-color: var(--sklearn-color-fitted-level-0);\n",
       "}\n",
       "\n",
       "#sk-container-id-2 div.sk-toggleable__content pre {\n",
       "  margin: 0.2em;\n",
       "  border-radius: 0.25em;\n",
       "  color: var(--sklearn-color-text);\n",
       "  /* unfitted */\n",
       "  background-color: var(--sklearn-color-unfitted-level-0);\n",
       "}\n",
       "\n",
       "#sk-container-id-2 div.sk-toggleable__content.fitted pre {\n",
       "  /* unfitted */\n",
       "  background-color: var(--sklearn-color-fitted-level-0);\n",
       "}\n",
       "\n",
       "#sk-container-id-2 input.sk-toggleable__control:checked~div.sk-toggleable__content {\n",
       "  /* Expand drop-down */\n",
       "  max-height: 200px;\n",
       "  max-width: 100%;\n",
       "  overflow: auto;\n",
       "}\n",
       "\n",
       "#sk-container-id-2 input.sk-toggleable__control:checked~label.sk-toggleable__label-arrow:before {\n",
       "  content: \"▾\";\n",
       "}\n",
       "\n",
       "/* Pipeline/ColumnTransformer-specific style */\n",
       "\n",
       "#sk-container-id-2 div.sk-label input.sk-toggleable__control:checked~label.sk-toggleable__label {\n",
       "  color: var(--sklearn-color-text);\n",
       "  background-color: var(--sklearn-color-unfitted-level-2);\n",
       "}\n",
       "\n",
       "#sk-container-id-2 div.sk-label.fitted input.sk-toggleable__control:checked~label.sk-toggleable__label {\n",
       "  background-color: var(--sklearn-color-fitted-level-2);\n",
       "}\n",
       "\n",
       "/* Estimator-specific style */\n",
       "\n",
       "/* Colorize estimator box */\n",
       "#sk-container-id-2 div.sk-estimator input.sk-toggleable__control:checked~label.sk-toggleable__label {\n",
       "  /* unfitted */\n",
       "  background-color: var(--sklearn-color-unfitted-level-2);\n",
       "}\n",
       "\n",
       "#sk-container-id-2 div.sk-estimator.fitted input.sk-toggleable__control:checked~label.sk-toggleable__label {\n",
       "  /* fitted */\n",
       "  background-color: var(--sklearn-color-fitted-level-2);\n",
       "}\n",
       "\n",
       "#sk-container-id-2 div.sk-label label.sk-toggleable__label,\n",
       "#sk-container-id-2 div.sk-label label {\n",
       "  /* The background is the default theme color */\n",
       "  color: var(--sklearn-color-text-on-default-background);\n",
       "}\n",
       "\n",
       "/* On hover, darken the color of the background */\n",
       "#sk-container-id-2 div.sk-label:hover label.sk-toggleable__label {\n",
       "  color: var(--sklearn-color-text);\n",
       "  background-color: var(--sklearn-color-unfitted-level-2);\n",
       "}\n",
       "\n",
       "/* Label box, darken color on hover, fitted */\n",
       "#sk-container-id-2 div.sk-label.fitted:hover label.sk-toggleable__label.fitted {\n",
       "  color: var(--sklearn-color-text);\n",
       "  background-color: var(--sklearn-color-fitted-level-2);\n",
       "}\n",
       "\n",
       "/* Estimator label */\n",
       "\n",
       "#sk-container-id-2 div.sk-label label {\n",
       "  font-family: monospace;\n",
       "  font-weight: bold;\n",
       "  display: inline-block;\n",
       "  line-height: 1.2em;\n",
       "}\n",
       "\n",
       "#sk-container-id-2 div.sk-label-container {\n",
       "  text-align: center;\n",
       "}\n",
       "\n",
       "/* Estimator-specific */\n",
       "#sk-container-id-2 div.sk-estimator {\n",
       "  font-family: monospace;\n",
       "  border: 1px dotted var(--sklearn-color-border-box);\n",
       "  border-radius: 0.25em;\n",
       "  box-sizing: border-box;\n",
       "  margin-bottom: 0.5em;\n",
       "  /* unfitted */\n",
       "  background-color: var(--sklearn-color-unfitted-level-0);\n",
       "}\n",
       "\n",
       "#sk-container-id-2 div.sk-estimator.fitted {\n",
       "  /* fitted */\n",
       "  background-color: var(--sklearn-color-fitted-level-0);\n",
       "}\n",
       "\n",
       "/* on hover */\n",
       "#sk-container-id-2 div.sk-estimator:hover {\n",
       "  /* unfitted */\n",
       "  background-color: var(--sklearn-color-unfitted-level-2);\n",
       "}\n",
       "\n",
       "#sk-container-id-2 div.sk-estimator.fitted:hover {\n",
       "  /* fitted */\n",
       "  background-color: var(--sklearn-color-fitted-level-2);\n",
       "}\n",
       "\n",
       "/* Specification for estimator info (e.g. \"i\" and \"?\") */\n",
       "\n",
       "/* Common style for \"i\" and \"?\" */\n",
       "\n",
       ".sk-estimator-doc-link,\n",
       "a:link.sk-estimator-doc-link,\n",
       "a:visited.sk-estimator-doc-link {\n",
       "  float: right;\n",
       "  font-size: smaller;\n",
       "  line-height: 1em;\n",
       "  font-family: monospace;\n",
       "  background-color: var(--sklearn-color-background);\n",
       "  border-radius: 1em;\n",
       "  height: 1em;\n",
       "  width: 1em;\n",
       "  text-decoration: none !important;\n",
       "  margin-left: 1ex;\n",
       "  /* unfitted */\n",
       "  border: var(--sklearn-color-unfitted-level-1) 1pt solid;\n",
       "  color: var(--sklearn-color-unfitted-level-1);\n",
       "}\n",
       "\n",
       ".sk-estimator-doc-link.fitted,\n",
       "a:link.sk-estimator-doc-link.fitted,\n",
       "a:visited.sk-estimator-doc-link.fitted {\n",
       "  /* fitted */\n",
       "  border: var(--sklearn-color-fitted-level-1) 1pt solid;\n",
       "  color: var(--sklearn-color-fitted-level-1);\n",
       "}\n",
       "\n",
       "/* On hover */\n",
       "div.sk-estimator:hover .sk-estimator-doc-link:hover,\n",
       ".sk-estimator-doc-link:hover,\n",
       "div.sk-label-container:hover .sk-estimator-doc-link:hover,\n",
       ".sk-estimator-doc-link:hover {\n",
       "  /* unfitted */\n",
       "  background-color: var(--sklearn-color-unfitted-level-3);\n",
       "  color: var(--sklearn-color-background);\n",
       "  text-decoration: none;\n",
       "}\n",
       "\n",
       "div.sk-estimator.fitted:hover .sk-estimator-doc-link.fitted:hover,\n",
       ".sk-estimator-doc-link.fitted:hover,\n",
       "div.sk-label-container:hover .sk-estimator-doc-link.fitted:hover,\n",
       ".sk-estimator-doc-link.fitted:hover {\n",
       "  /* fitted */\n",
       "  background-color: var(--sklearn-color-fitted-level-3);\n",
       "  color: var(--sklearn-color-background);\n",
       "  text-decoration: none;\n",
       "}\n",
       "\n",
       "/* Span, style for the box shown on hovering the info icon */\n",
       ".sk-estimator-doc-link span {\n",
       "  display: none;\n",
       "  z-index: 9999;\n",
       "  position: relative;\n",
       "  font-weight: normal;\n",
       "  right: .2ex;\n",
       "  padding: .5ex;\n",
       "  margin: .5ex;\n",
       "  width: min-content;\n",
       "  min-width: 20ex;\n",
       "  max-width: 50ex;\n",
       "  color: var(--sklearn-color-text);\n",
       "  box-shadow: 2pt 2pt 4pt #999;\n",
       "  /* unfitted */\n",
       "  background: var(--sklearn-color-unfitted-level-0);\n",
       "  border: .5pt solid var(--sklearn-color-unfitted-level-3);\n",
       "}\n",
       "\n",
       ".sk-estimator-doc-link.fitted span {\n",
       "  /* fitted */\n",
       "  background: var(--sklearn-color-fitted-level-0);\n",
       "  border: var(--sklearn-color-fitted-level-3);\n",
       "}\n",
       "\n",
       ".sk-estimator-doc-link:hover span {\n",
       "  display: block;\n",
       "}\n",
       "\n",
       "/* \"?\"-specific style due to the `<a>` HTML tag */\n",
       "\n",
       "#sk-container-id-2 a.estimator_doc_link {\n",
       "  float: right;\n",
       "  font-size: 1rem;\n",
       "  line-height: 1em;\n",
       "  font-family: monospace;\n",
       "  background-color: var(--sklearn-color-background);\n",
       "  border-radius: 1rem;\n",
       "  height: 1rem;\n",
       "  width: 1rem;\n",
       "  text-decoration: none;\n",
       "  /* unfitted */\n",
       "  color: var(--sklearn-color-unfitted-level-1);\n",
       "  border: var(--sklearn-color-unfitted-level-1) 1pt solid;\n",
       "}\n",
       "\n",
       "#sk-container-id-2 a.estimator_doc_link.fitted {\n",
       "  /* fitted */\n",
       "  border: var(--sklearn-color-fitted-level-1) 1pt solid;\n",
       "  color: var(--sklearn-color-fitted-level-1);\n",
       "}\n",
       "\n",
       "/* On hover */\n",
       "#sk-container-id-2 a.estimator_doc_link:hover {\n",
       "  /* unfitted */\n",
       "  background-color: var(--sklearn-color-unfitted-level-3);\n",
       "  color: var(--sklearn-color-background);\n",
       "  text-decoration: none;\n",
       "}\n",
       "\n",
       "#sk-container-id-2 a.estimator_doc_link.fitted:hover {\n",
       "  /* fitted */\n",
       "  background-color: var(--sklearn-color-fitted-level-3);\n",
       "}\n",
       "</style><div id=\"sk-container-id-2\" class=\"sk-top-container\"><div class=\"sk-text-repr-fallback\"><pre>LogisticRegression(random_state=0)</pre><b>In a Jupyter environment, please rerun this cell to show the HTML representation or trust the notebook. <br />On GitHub, the HTML representation is unable to render, please try loading this page with nbviewer.org.</b></div><div class=\"sk-container\" hidden><div class=\"sk-item\"><div class=\"sk-estimator fitted sk-toggleable\"><input class=\"sk-toggleable__control sk-hidden--visually\" id=\"sk-estimator-id-2\" type=\"checkbox\" checked><label for=\"sk-estimator-id-2\" class=\"sk-toggleable__label fitted sk-toggleable__label-arrow fitted\">&nbsp;&nbsp;LogisticRegression<a class=\"sk-estimator-doc-link fitted\" rel=\"noreferrer\" target=\"_blank\" href=\"https://scikit-learn.org/1.5/modules/generated/sklearn.linear_model.LogisticRegression.html\">?<span>Documentation for LogisticRegression</span></a><span class=\"sk-estimator-doc-link fitted\">i<span>Fitted</span></span></label><div class=\"sk-toggleable__content fitted\"><pre>LogisticRegression(random_state=0)</pre></div> </div></div></div></div>"
      ],
      "text/plain": [
       "LogisticRegression(random_state=0)"
      ]
     },
     "execution_count": 48,
     "metadata": {},
     "output_type": "execute_result"
    }
   ],
   "source": [
    "from sklearn.linear_model import LogisticRegression\n",
    "classifier = LogisticRegression(random_state = 0)\n",
    "classifier.fit(X_train, y_train)"
   ]
  },
  {
   "cell_type": "code",
   "execution_count": 49,
   "id": "e585c838-2a39-41fe-b6e5-aa7381391dd3",
   "metadata": {
    "executionInfo": {
     "elapsed": 33,
     "status": "aborted",
     "timestamp": 1736767607921,
     "user": {
      "displayName": "יואב כהן",
      "userId": "11310514616825726202"
     },
     "user_tz": -120
    },
    "id": "e585c838-2a39-41fe-b6e5-aa7381391dd3"
   },
   "outputs": [
    {
     "name": "stdout",
     "output_type": "stream",
     "text": [
      "[[1373   61    5]\n",
      " [ 211  171   13]\n",
      " [  14   48   51]]\n"
     ]
    },
    {
     "data": {
      "text/plain": [
       "0.8192090395480226"
      ]
     },
     "execution_count": 49,
     "metadata": {},
     "output_type": "execute_result"
    }
   ],
   "source": [
    "from sklearn.metrics import confusion_matrix, accuracy_score\n",
    "y_pred = classifier.predict(X_test)\n",
    "cm = confusion_matrix(y_test, y_pred)\n",
    "print(cm)\n",
    "accuracy_score(y_test, y_pred)"
   ]
  },
  {
   "cell_type": "markdown",
   "id": "43f2d763-aa11-45af-9806-db775da05619",
   "metadata": {
    "id": "43f2d763-aa11-45af-9806-db775da05619"
   },
   "source": [
    "##### Accuracy- Grid Search & Cross Validation  "
   ]
  },
  {
   "cell_type": "code",
   "execution_count": 50,
   "id": "411abf65-86c4-478e-974e-0950ec8dc8aa",
   "metadata": {
    "executionInfo": {
     "elapsed": 34,
     "status": "aborted",
     "timestamp": 1736767607922,
     "user": {
      "displayName": "יואב כהן",
      "userId": "11310514616825726202"
     },
     "user_tz": -120
    },
    "id": "411abf65-86c4-478e-974e-0950ec8dc8aa"
   },
   "outputs": [
    {
     "name": "stdout",
     "output_type": "stream",
     "text": [
      "Best Parameters: {'C': 0.1, 'max_iter': 5000, 'penalty': 'l1', 'solver': 'saga'}\n",
      "Best Cross-Validation Accuracy: 0.81\n"
     ]
    }
   ],
   "source": [
    "###GPT###\n",
    "# Defining the parameter grid for Logistic Regression\n",
    "param_grid = {\n",
    "    'penalty': ['l1', 'l2', 'elasticnet', 'none'],  \n",
    "    'C': [0.01, 0.1, 1, 10, 100],                 \n",
    "    'solver': ['liblinear', 'saga'],               \n",
    "    'max_iter': [100, 5000, 1000]}\n",
    "\n",
    "grid = GridSearchCV(LogisticRegression(), param_grid, cv=5, scoring='accuracy')\n",
    "grid.fit(X, y)\n",
    "print(f\"Best Parameters: {grid.best_params_}\")\n",
    "print(f\"Best Cross-Validation Accuracy: {grid.best_score_:.2f}\") \n",
    "####"
   ]
  },
  {
   "cell_type": "markdown",
   "id": "e481c677-d37d-4960-b952-f273a9d62d38",
   "metadata": {
    "id": "e481c677-d37d-4960-b952-f273a9d62d38"
   },
   "source": [
    "## 3-Training the SVM model on the Training set"
   ]
  },
  {
   "cell_type": "code",
   "execution_count": 51,
   "id": "f7f316ed-2b38-4411-b103-ca43ddcde5ad",
   "metadata": {
    "executionInfo": {
     "elapsed": 34,
     "status": "aborted",
     "timestamp": 1736767607922,
     "user": {
      "displayName": "יואב כהן",
      "userId": "11310514616825726202"
     },
     "user_tz": -120
    },
    "id": "f7f316ed-2b38-4411-b103-ca43ddcde5ad"
   },
   "outputs": [
    {
     "data": {
      "text/html": [
       "<style>#sk-container-id-3 {\n",
       "  /* Definition of color scheme common for light and dark mode */\n",
       "  --sklearn-color-text: black;\n",
       "  --sklearn-color-line: gray;\n",
       "  /* Definition of color scheme for unfitted estimators */\n",
       "  --sklearn-color-unfitted-level-0: #fff5e6;\n",
       "  --sklearn-color-unfitted-level-1: #f6e4d2;\n",
       "  --sklearn-color-unfitted-level-2: #ffe0b3;\n",
       "  --sklearn-color-unfitted-level-3: chocolate;\n",
       "  /* Definition of color scheme for fitted estimators */\n",
       "  --sklearn-color-fitted-level-0: #f0f8ff;\n",
       "  --sklearn-color-fitted-level-1: #d4ebff;\n",
       "  --sklearn-color-fitted-level-2: #b3dbfd;\n",
       "  --sklearn-color-fitted-level-3: cornflowerblue;\n",
       "\n",
       "  /* Specific color for light theme */\n",
       "  --sklearn-color-text-on-default-background: var(--sg-text-color, var(--theme-code-foreground, var(--jp-content-font-color1, black)));\n",
       "  --sklearn-color-background: var(--sg-background-color, var(--theme-background, var(--jp-layout-color0, white)));\n",
       "  --sklearn-color-border-box: var(--sg-text-color, var(--theme-code-foreground, var(--jp-content-font-color1, black)));\n",
       "  --sklearn-color-icon: #696969;\n",
       "\n",
       "  @media (prefers-color-scheme: dark) {\n",
       "    /* Redefinition of color scheme for dark theme */\n",
       "    --sklearn-color-text-on-default-background: var(--sg-text-color, var(--theme-code-foreground, var(--jp-content-font-color1, white)));\n",
       "    --sklearn-color-background: var(--sg-background-color, var(--theme-background, var(--jp-layout-color0, #111)));\n",
       "    --sklearn-color-border-box: var(--sg-text-color, var(--theme-code-foreground, var(--jp-content-font-color1, white)));\n",
       "    --sklearn-color-icon: #878787;\n",
       "  }\n",
       "}\n",
       "\n",
       "#sk-container-id-3 {\n",
       "  color: var(--sklearn-color-text);\n",
       "}\n",
       "\n",
       "#sk-container-id-3 pre {\n",
       "  padding: 0;\n",
       "}\n",
       "\n",
       "#sk-container-id-3 input.sk-hidden--visually {\n",
       "  border: 0;\n",
       "  clip: rect(1px 1px 1px 1px);\n",
       "  clip: rect(1px, 1px, 1px, 1px);\n",
       "  height: 1px;\n",
       "  margin: -1px;\n",
       "  overflow: hidden;\n",
       "  padding: 0;\n",
       "  position: absolute;\n",
       "  width: 1px;\n",
       "}\n",
       "\n",
       "#sk-container-id-3 div.sk-dashed-wrapped {\n",
       "  border: 1px dashed var(--sklearn-color-line);\n",
       "  margin: 0 0.4em 0.5em 0.4em;\n",
       "  box-sizing: border-box;\n",
       "  padding-bottom: 0.4em;\n",
       "  background-color: var(--sklearn-color-background);\n",
       "}\n",
       "\n",
       "#sk-container-id-3 div.sk-container {\n",
       "  /* jupyter's `normalize.less` sets `[hidden] { display: none; }`\n",
       "     but bootstrap.min.css set `[hidden] { display: none !important; }`\n",
       "     so we also need the `!important` here to be able to override the\n",
       "     default hidden behavior on the sphinx rendered scikit-learn.org.\n",
       "     See: https://github.com/scikit-learn/scikit-learn/issues/21755 */\n",
       "  display: inline-block !important;\n",
       "  position: relative;\n",
       "}\n",
       "\n",
       "#sk-container-id-3 div.sk-text-repr-fallback {\n",
       "  display: none;\n",
       "}\n",
       "\n",
       "div.sk-parallel-item,\n",
       "div.sk-serial,\n",
       "div.sk-item {\n",
       "  /* draw centered vertical line to link estimators */\n",
       "  background-image: linear-gradient(var(--sklearn-color-text-on-default-background), var(--sklearn-color-text-on-default-background));\n",
       "  background-size: 2px 100%;\n",
       "  background-repeat: no-repeat;\n",
       "  background-position: center center;\n",
       "}\n",
       "\n",
       "/* Parallel-specific style estimator block */\n",
       "\n",
       "#sk-container-id-3 div.sk-parallel-item::after {\n",
       "  content: \"\";\n",
       "  width: 100%;\n",
       "  border-bottom: 2px solid var(--sklearn-color-text-on-default-background);\n",
       "  flex-grow: 1;\n",
       "}\n",
       "\n",
       "#sk-container-id-3 div.sk-parallel {\n",
       "  display: flex;\n",
       "  align-items: stretch;\n",
       "  justify-content: center;\n",
       "  background-color: var(--sklearn-color-background);\n",
       "  position: relative;\n",
       "}\n",
       "\n",
       "#sk-container-id-3 div.sk-parallel-item {\n",
       "  display: flex;\n",
       "  flex-direction: column;\n",
       "}\n",
       "\n",
       "#sk-container-id-3 div.sk-parallel-item:first-child::after {\n",
       "  align-self: flex-end;\n",
       "  width: 50%;\n",
       "}\n",
       "\n",
       "#sk-container-id-3 div.sk-parallel-item:last-child::after {\n",
       "  align-self: flex-start;\n",
       "  width: 50%;\n",
       "}\n",
       "\n",
       "#sk-container-id-3 div.sk-parallel-item:only-child::after {\n",
       "  width: 0;\n",
       "}\n",
       "\n",
       "/* Serial-specific style estimator block */\n",
       "\n",
       "#sk-container-id-3 div.sk-serial {\n",
       "  display: flex;\n",
       "  flex-direction: column;\n",
       "  align-items: center;\n",
       "  background-color: var(--sklearn-color-background);\n",
       "  padding-right: 1em;\n",
       "  padding-left: 1em;\n",
       "}\n",
       "\n",
       "\n",
       "/* Toggleable style: style used for estimator/Pipeline/ColumnTransformer box that is\n",
       "clickable and can be expanded/collapsed.\n",
       "- Pipeline and ColumnTransformer use this feature and define the default style\n",
       "- Estimators will overwrite some part of the style using the `sk-estimator` class\n",
       "*/\n",
       "\n",
       "/* Pipeline and ColumnTransformer style (default) */\n",
       "\n",
       "#sk-container-id-3 div.sk-toggleable {\n",
       "  /* Default theme specific background. It is overwritten whether we have a\n",
       "  specific estimator or a Pipeline/ColumnTransformer */\n",
       "  background-color: var(--sklearn-color-background);\n",
       "}\n",
       "\n",
       "/* Toggleable label */\n",
       "#sk-container-id-3 label.sk-toggleable__label {\n",
       "  cursor: pointer;\n",
       "  display: block;\n",
       "  width: 100%;\n",
       "  margin-bottom: 0;\n",
       "  padding: 0.5em;\n",
       "  box-sizing: border-box;\n",
       "  text-align: center;\n",
       "}\n",
       "\n",
       "#sk-container-id-3 label.sk-toggleable__label-arrow:before {\n",
       "  /* Arrow on the left of the label */\n",
       "  content: \"▸\";\n",
       "  float: left;\n",
       "  margin-right: 0.25em;\n",
       "  color: var(--sklearn-color-icon);\n",
       "}\n",
       "\n",
       "#sk-container-id-3 label.sk-toggleable__label-arrow:hover:before {\n",
       "  color: var(--sklearn-color-text);\n",
       "}\n",
       "\n",
       "/* Toggleable content - dropdown */\n",
       "\n",
       "#sk-container-id-3 div.sk-toggleable__content {\n",
       "  max-height: 0;\n",
       "  max-width: 0;\n",
       "  overflow: hidden;\n",
       "  text-align: left;\n",
       "  /* unfitted */\n",
       "  background-color: var(--sklearn-color-unfitted-level-0);\n",
       "}\n",
       "\n",
       "#sk-container-id-3 div.sk-toggleable__content.fitted {\n",
       "  /* fitted */\n",
       "  background-color: var(--sklearn-color-fitted-level-0);\n",
       "}\n",
       "\n",
       "#sk-container-id-3 div.sk-toggleable__content pre {\n",
       "  margin: 0.2em;\n",
       "  border-radius: 0.25em;\n",
       "  color: var(--sklearn-color-text);\n",
       "  /* unfitted */\n",
       "  background-color: var(--sklearn-color-unfitted-level-0);\n",
       "}\n",
       "\n",
       "#sk-container-id-3 div.sk-toggleable__content.fitted pre {\n",
       "  /* unfitted */\n",
       "  background-color: var(--sklearn-color-fitted-level-0);\n",
       "}\n",
       "\n",
       "#sk-container-id-3 input.sk-toggleable__control:checked~div.sk-toggleable__content {\n",
       "  /* Expand drop-down */\n",
       "  max-height: 200px;\n",
       "  max-width: 100%;\n",
       "  overflow: auto;\n",
       "}\n",
       "\n",
       "#sk-container-id-3 input.sk-toggleable__control:checked~label.sk-toggleable__label-arrow:before {\n",
       "  content: \"▾\";\n",
       "}\n",
       "\n",
       "/* Pipeline/ColumnTransformer-specific style */\n",
       "\n",
       "#sk-container-id-3 div.sk-label input.sk-toggleable__control:checked~label.sk-toggleable__label {\n",
       "  color: var(--sklearn-color-text);\n",
       "  background-color: var(--sklearn-color-unfitted-level-2);\n",
       "}\n",
       "\n",
       "#sk-container-id-3 div.sk-label.fitted input.sk-toggleable__control:checked~label.sk-toggleable__label {\n",
       "  background-color: var(--sklearn-color-fitted-level-2);\n",
       "}\n",
       "\n",
       "/* Estimator-specific style */\n",
       "\n",
       "/* Colorize estimator box */\n",
       "#sk-container-id-3 div.sk-estimator input.sk-toggleable__control:checked~label.sk-toggleable__label {\n",
       "  /* unfitted */\n",
       "  background-color: var(--sklearn-color-unfitted-level-2);\n",
       "}\n",
       "\n",
       "#sk-container-id-3 div.sk-estimator.fitted input.sk-toggleable__control:checked~label.sk-toggleable__label {\n",
       "  /* fitted */\n",
       "  background-color: var(--sklearn-color-fitted-level-2);\n",
       "}\n",
       "\n",
       "#sk-container-id-3 div.sk-label label.sk-toggleable__label,\n",
       "#sk-container-id-3 div.sk-label label {\n",
       "  /* The background is the default theme color */\n",
       "  color: var(--sklearn-color-text-on-default-background);\n",
       "}\n",
       "\n",
       "/* On hover, darken the color of the background */\n",
       "#sk-container-id-3 div.sk-label:hover label.sk-toggleable__label {\n",
       "  color: var(--sklearn-color-text);\n",
       "  background-color: var(--sklearn-color-unfitted-level-2);\n",
       "}\n",
       "\n",
       "/* Label box, darken color on hover, fitted */\n",
       "#sk-container-id-3 div.sk-label.fitted:hover label.sk-toggleable__label.fitted {\n",
       "  color: var(--sklearn-color-text);\n",
       "  background-color: var(--sklearn-color-fitted-level-2);\n",
       "}\n",
       "\n",
       "/* Estimator label */\n",
       "\n",
       "#sk-container-id-3 div.sk-label label {\n",
       "  font-family: monospace;\n",
       "  font-weight: bold;\n",
       "  display: inline-block;\n",
       "  line-height: 1.2em;\n",
       "}\n",
       "\n",
       "#sk-container-id-3 div.sk-label-container {\n",
       "  text-align: center;\n",
       "}\n",
       "\n",
       "/* Estimator-specific */\n",
       "#sk-container-id-3 div.sk-estimator {\n",
       "  font-family: monospace;\n",
       "  border: 1px dotted var(--sklearn-color-border-box);\n",
       "  border-radius: 0.25em;\n",
       "  box-sizing: border-box;\n",
       "  margin-bottom: 0.5em;\n",
       "  /* unfitted */\n",
       "  background-color: var(--sklearn-color-unfitted-level-0);\n",
       "}\n",
       "\n",
       "#sk-container-id-3 div.sk-estimator.fitted {\n",
       "  /* fitted */\n",
       "  background-color: var(--sklearn-color-fitted-level-0);\n",
       "}\n",
       "\n",
       "/* on hover */\n",
       "#sk-container-id-3 div.sk-estimator:hover {\n",
       "  /* unfitted */\n",
       "  background-color: var(--sklearn-color-unfitted-level-2);\n",
       "}\n",
       "\n",
       "#sk-container-id-3 div.sk-estimator.fitted:hover {\n",
       "  /* fitted */\n",
       "  background-color: var(--sklearn-color-fitted-level-2);\n",
       "}\n",
       "\n",
       "/* Specification for estimator info (e.g. \"i\" and \"?\") */\n",
       "\n",
       "/* Common style for \"i\" and \"?\" */\n",
       "\n",
       ".sk-estimator-doc-link,\n",
       "a:link.sk-estimator-doc-link,\n",
       "a:visited.sk-estimator-doc-link {\n",
       "  float: right;\n",
       "  font-size: smaller;\n",
       "  line-height: 1em;\n",
       "  font-family: monospace;\n",
       "  background-color: var(--sklearn-color-background);\n",
       "  border-radius: 1em;\n",
       "  height: 1em;\n",
       "  width: 1em;\n",
       "  text-decoration: none !important;\n",
       "  margin-left: 1ex;\n",
       "  /* unfitted */\n",
       "  border: var(--sklearn-color-unfitted-level-1) 1pt solid;\n",
       "  color: var(--sklearn-color-unfitted-level-1);\n",
       "}\n",
       "\n",
       ".sk-estimator-doc-link.fitted,\n",
       "a:link.sk-estimator-doc-link.fitted,\n",
       "a:visited.sk-estimator-doc-link.fitted {\n",
       "  /* fitted */\n",
       "  border: var(--sklearn-color-fitted-level-1) 1pt solid;\n",
       "  color: var(--sklearn-color-fitted-level-1);\n",
       "}\n",
       "\n",
       "/* On hover */\n",
       "div.sk-estimator:hover .sk-estimator-doc-link:hover,\n",
       ".sk-estimator-doc-link:hover,\n",
       "div.sk-label-container:hover .sk-estimator-doc-link:hover,\n",
       ".sk-estimator-doc-link:hover {\n",
       "  /* unfitted */\n",
       "  background-color: var(--sklearn-color-unfitted-level-3);\n",
       "  color: var(--sklearn-color-background);\n",
       "  text-decoration: none;\n",
       "}\n",
       "\n",
       "div.sk-estimator.fitted:hover .sk-estimator-doc-link.fitted:hover,\n",
       ".sk-estimator-doc-link.fitted:hover,\n",
       "div.sk-label-container:hover .sk-estimator-doc-link.fitted:hover,\n",
       ".sk-estimator-doc-link.fitted:hover {\n",
       "  /* fitted */\n",
       "  background-color: var(--sklearn-color-fitted-level-3);\n",
       "  color: var(--sklearn-color-background);\n",
       "  text-decoration: none;\n",
       "}\n",
       "\n",
       "/* Span, style for the box shown on hovering the info icon */\n",
       ".sk-estimator-doc-link span {\n",
       "  display: none;\n",
       "  z-index: 9999;\n",
       "  position: relative;\n",
       "  font-weight: normal;\n",
       "  right: .2ex;\n",
       "  padding: .5ex;\n",
       "  margin: .5ex;\n",
       "  width: min-content;\n",
       "  min-width: 20ex;\n",
       "  max-width: 50ex;\n",
       "  color: var(--sklearn-color-text);\n",
       "  box-shadow: 2pt 2pt 4pt #999;\n",
       "  /* unfitted */\n",
       "  background: var(--sklearn-color-unfitted-level-0);\n",
       "  border: .5pt solid var(--sklearn-color-unfitted-level-3);\n",
       "}\n",
       "\n",
       ".sk-estimator-doc-link.fitted span {\n",
       "  /* fitted */\n",
       "  background: var(--sklearn-color-fitted-level-0);\n",
       "  border: var(--sklearn-color-fitted-level-3);\n",
       "}\n",
       "\n",
       ".sk-estimator-doc-link:hover span {\n",
       "  display: block;\n",
       "}\n",
       "\n",
       "/* \"?\"-specific style due to the `<a>` HTML tag */\n",
       "\n",
       "#sk-container-id-3 a.estimator_doc_link {\n",
       "  float: right;\n",
       "  font-size: 1rem;\n",
       "  line-height: 1em;\n",
       "  font-family: monospace;\n",
       "  background-color: var(--sklearn-color-background);\n",
       "  border-radius: 1rem;\n",
       "  height: 1rem;\n",
       "  width: 1rem;\n",
       "  text-decoration: none;\n",
       "  /* unfitted */\n",
       "  color: var(--sklearn-color-unfitted-level-1);\n",
       "  border: var(--sklearn-color-unfitted-level-1) 1pt solid;\n",
       "}\n",
       "\n",
       "#sk-container-id-3 a.estimator_doc_link.fitted {\n",
       "  /* fitted */\n",
       "  border: var(--sklearn-color-fitted-level-1) 1pt solid;\n",
       "  color: var(--sklearn-color-fitted-level-1);\n",
       "}\n",
       "\n",
       "/* On hover */\n",
       "#sk-container-id-3 a.estimator_doc_link:hover {\n",
       "  /* unfitted */\n",
       "  background-color: var(--sklearn-color-unfitted-level-3);\n",
       "  color: var(--sklearn-color-background);\n",
       "  text-decoration: none;\n",
       "}\n",
       "\n",
       "#sk-container-id-3 a.estimator_doc_link.fitted:hover {\n",
       "  /* fitted */\n",
       "  background-color: var(--sklearn-color-fitted-level-3);\n",
       "}\n",
       "</style><div id=\"sk-container-id-3\" class=\"sk-top-container\"><div class=\"sk-text-repr-fallback\"><pre>SVC(kernel=&#x27;linear&#x27;, random_state=0)</pre><b>In a Jupyter environment, please rerun this cell to show the HTML representation or trust the notebook. <br />On GitHub, the HTML representation is unable to render, please try loading this page with nbviewer.org.</b></div><div class=\"sk-container\" hidden><div class=\"sk-item\"><div class=\"sk-estimator fitted sk-toggleable\"><input class=\"sk-toggleable__control sk-hidden--visually\" id=\"sk-estimator-id-3\" type=\"checkbox\" checked><label for=\"sk-estimator-id-3\" class=\"sk-toggleable__label fitted sk-toggleable__label-arrow fitted\">&nbsp;&nbsp;SVC<a class=\"sk-estimator-doc-link fitted\" rel=\"noreferrer\" target=\"_blank\" href=\"https://scikit-learn.org/1.5/modules/generated/sklearn.svm.SVC.html\">?<span>Documentation for SVC</span></a><span class=\"sk-estimator-doc-link fitted\">i<span>Fitted</span></span></label><div class=\"sk-toggleable__content fitted\"><pre>SVC(kernel=&#x27;linear&#x27;, random_state=0)</pre></div> </div></div></div></div>"
      ],
      "text/plain": [
       "SVC(kernel='linear', random_state=0)"
      ]
     },
     "execution_count": 51,
     "metadata": {},
     "output_type": "execute_result"
    }
   ],
   "source": [
    "from sklearn.svm import SVC\n",
    "classifier = SVC(kernel = 'linear', random_state = 0)\n",
    "classifier.fit(X_train, y_train)"
   ]
  },
  {
   "cell_type": "code",
   "execution_count": 52,
   "id": "8409f900-cf22-430f-b0b5-b8cfe046cd82",
   "metadata": {
    "executionInfo": {
     "elapsed": 34,
     "status": "aborted",
     "timestamp": 1736767607922,
     "user": {
      "displayName": "יואב כהן",
      "userId": "11310514616825726202"
     },
     "user_tz": -120
    },
    "id": "8409f900-cf22-430f-b0b5-b8cfe046cd82"
   },
   "outputs": [
    {
     "name": "stdout",
     "output_type": "stream",
     "text": [
      "[[1376   57    6]\n",
      " [ 226  153   16]\n",
      " [  15   44   54]]\n"
     ]
    },
    {
     "data": {
      "text/plain": [
       "0.8130457113507961"
      ]
     },
     "execution_count": 52,
     "metadata": {},
     "output_type": "execute_result"
    }
   ],
   "source": [
    "from sklearn.metrics import confusion_matrix, accuracy_score\n",
    "y_pred = classifier.predict(X_test)\n",
    "cm = confusion_matrix(y_test, y_pred)\n",
    "print(cm)\n",
    "accuracy_score(y_test, y_pred)"
   ]
  },
  {
   "cell_type": "markdown",
   "id": "b1992600-e988-48b2-9594-adbbfb0c9017",
   "metadata": {
    "id": "b1992600-e988-48b2-9594-adbbfb0c9017"
   },
   "source": [
    "##### Accuracy- Grid Search & Cross Validation  "
   ]
  },
  {
   "cell_type": "code",
   "execution_count": 53,
   "id": "ff0fbaf0-5516-410c-ad8e-6cd23700d099",
   "metadata": {
    "executionInfo": {
     "elapsed": 35,
     "status": "aborted",
     "timestamp": 1736767607923,
     "user": {
      "displayName": "יואב כהן",
      "userId": "11310514616825726202"
     },
     "user_tz": -120
    },
    "id": "ff0fbaf0-5516-410c-ad8e-6cd23700d099",
    "tags": []
   },
   "outputs": [
    {
     "ename": "KeyboardInterrupt",
     "evalue": "",
     "output_type": "error",
     "traceback": [
      "\u001b[1;31m---------------------------------------------------------------------------\u001b[0m",
      "\u001b[1;31mKeyboardInterrupt\u001b[0m                         Traceback (most recent call last)",
      "Input \u001b[1;32mIn [53]\u001b[0m, in \u001b[0;36m<cell line: 9>\u001b[1;34m()\u001b[0m\n\u001b[0;32m      3\u001b[0m param_grid \u001b[38;5;241m=\u001b[39m {\n\u001b[0;32m      4\u001b[0m     \u001b[38;5;124m'\u001b[39m\u001b[38;5;124mC\u001b[39m\u001b[38;5;124m'\u001b[39m: [\u001b[38;5;241m0.1\u001b[39m, \u001b[38;5;241m1\u001b[39m, \u001b[38;5;241m10\u001b[39m, \u001b[38;5;241m100\u001b[39m],           \n\u001b[0;32m      5\u001b[0m     \u001b[38;5;124m'\u001b[39m\u001b[38;5;124mkernel\u001b[39m\u001b[38;5;124m'\u001b[39m: [\u001b[38;5;124m'\u001b[39m\u001b[38;5;124mlinear\u001b[39m\u001b[38;5;124m'\u001b[39m, \u001b[38;5;124m'\u001b[39m\u001b[38;5;124mpoly\u001b[39m\u001b[38;5;124m'\u001b[39m, \u001b[38;5;124m'\u001b[39m\u001b[38;5;124mrbf\u001b[39m\u001b[38;5;124m'\u001b[39m, \u001b[38;5;124m'\u001b[39m\u001b[38;5;124msigmoid\u001b[39m\u001b[38;5;124m'\u001b[39m], \n\u001b[0;32m      6\u001b[0m     \u001b[38;5;124m'\u001b[39m\u001b[38;5;124mgamma\u001b[39m\u001b[38;5;124m'\u001b[39m: [\u001b[38;5;124m'\u001b[39m\u001b[38;5;124mscale\u001b[39m\u001b[38;5;124m'\u001b[39m, \u001b[38;5;124m'\u001b[39m\u001b[38;5;124mauto\u001b[39m\u001b[38;5;124m'\u001b[39m] }\n\u001b[0;32m      8\u001b[0m grid \u001b[38;5;241m=\u001b[39m GridSearchCV(SVC(), param_grid, cv\u001b[38;5;241m=\u001b[39m\u001b[38;5;241m5\u001b[39m, scoring\u001b[38;5;241m=\u001b[39m\u001b[38;5;124m'\u001b[39m\u001b[38;5;124maccuracy\u001b[39m\u001b[38;5;124m'\u001b[39m)\n\u001b[1;32m----> 9\u001b[0m \u001b[43mgrid\u001b[49m\u001b[38;5;241;43m.\u001b[39;49m\u001b[43mfit\u001b[49m\u001b[43m(\u001b[49m\u001b[43mX\u001b[49m\u001b[43m,\u001b[49m\u001b[43m \u001b[49m\u001b[43my\u001b[49m\u001b[43m)\u001b[49m\n\u001b[0;32m     10\u001b[0m \u001b[38;5;28mprint\u001b[39m(\u001b[38;5;124mf\u001b[39m\u001b[38;5;124m\"\u001b[39m\u001b[38;5;124mBest Parameters: \u001b[39m\u001b[38;5;132;01m{\u001b[39;00mgrid\u001b[38;5;241m.\u001b[39mbest_params_\u001b[38;5;132;01m}\u001b[39;00m\u001b[38;5;124m\"\u001b[39m)\n\u001b[0;32m     11\u001b[0m \u001b[38;5;28mprint\u001b[39m(\u001b[38;5;124mf\u001b[39m\u001b[38;5;124m\"\u001b[39m\u001b[38;5;124mBest Cross-Validation Accuracy: \u001b[39m\u001b[38;5;132;01m{\u001b[39;00mgrid\u001b[38;5;241m.\u001b[39mbest_score_\u001b[38;5;132;01m:\u001b[39;00m\u001b[38;5;124m.2f\u001b[39m\u001b[38;5;132;01m}\u001b[39;00m\u001b[38;5;124m\"\u001b[39m)\n",
      "File \u001b[1;32m~\\AppData\\Local\\Programs\\Python\\Python310\\lib\\site-packages\\sklearn\\base.py:1473\u001b[0m, in \u001b[0;36m_fit_context.<locals>.decorator.<locals>.wrapper\u001b[1;34m(estimator, *args, **kwargs)\u001b[0m\n\u001b[0;32m   1466\u001b[0m     estimator\u001b[38;5;241m.\u001b[39m_validate_params()\n\u001b[0;32m   1468\u001b[0m \u001b[38;5;28;01mwith\u001b[39;00m config_context(\n\u001b[0;32m   1469\u001b[0m     skip_parameter_validation\u001b[38;5;241m=\u001b[39m(\n\u001b[0;32m   1470\u001b[0m         prefer_skip_nested_validation \u001b[38;5;129;01mor\u001b[39;00m global_skip_validation\n\u001b[0;32m   1471\u001b[0m     )\n\u001b[0;32m   1472\u001b[0m ):\n\u001b[1;32m-> 1473\u001b[0m     \u001b[38;5;28;01mreturn\u001b[39;00m fit_method(estimator, \u001b[38;5;241m*\u001b[39margs, \u001b[38;5;241m*\u001b[39m\u001b[38;5;241m*\u001b[39mkwargs)\n",
      "File \u001b[1;32m~\\AppData\\Local\\Programs\\Python\\Python310\\lib\\site-packages\\sklearn\\model_selection\\_search.py:1018\u001b[0m, in \u001b[0;36mBaseSearchCV.fit\u001b[1;34m(self, X, y, **params)\u001b[0m\n\u001b[0;32m   1012\u001b[0m     results \u001b[38;5;241m=\u001b[39m \u001b[38;5;28mself\u001b[39m\u001b[38;5;241m.\u001b[39m_format_results(\n\u001b[0;32m   1013\u001b[0m         all_candidate_params, n_splits, all_out, all_more_results\n\u001b[0;32m   1014\u001b[0m     )\n\u001b[0;32m   1016\u001b[0m     \u001b[38;5;28;01mreturn\u001b[39;00m results\n\u001b[1;32m-> 1018\u001b[0m \u001b[38;5;28;43mself\u001b[39;49m\u001b[38;5;241;43m.\u001b[39;49m\u001b[43m_run_search\u001b[49m\u001b[43m(\u001b[49m\u001b[43mevaluate_candidates\u001b[49m\u001b[43m)\u001b[49m\n\u001b[0;32m   1020\u001b[0m \u001b[38;5;66;03m# multimetric is determined here because in the case of a callable\u001b[39;00m\n\u001b[0;32m   1021\u001b[0m \u001b[38;5;66;03m# self.scoring the return type is only known after calling\u001b[39;00m\n\u001b[0;32m   1022\u001b[0m first_test_score \u001b[38;5;241m=\u001b[39m all_out[\u001b[38;5;241m0\u001b[39m][\u001b[38;5;124m\"\u001b[39m\u001b[38;5;124mtest_scores\u001b[39m\u001b[38;5;124m\"\u001b[39m]\n",
      "File \u001b[1;32m~\\AppData\\Local\\Programs\\Python\\Python310\\lib\\site-packages\\sklearn\\model_selection\\_search.py:1572\u001b[0m, in \u001b[0;36mGridSearchCV._run_search\u001b[1;34m(self, evaluate_candidates)\u001b[0m\n\u001b[0;32m   1570\u001b[0m \u001b[38;5;28;01mdef\u001b[39;00m \u001b[38;5;21m_run_search\u001b[39m(\u001b[38;5;28mself\u001b[39m, evaluate_candidates):\n\u001b[0;32m   1571\u001b[0m \u001b[38;5;250m    \u001b[39m\u001b[38;5;124;03m\"\"\"Search all candidates in param_grid\"\"\"\u001b[39;00m\n\u001b[1;32m-> 1572\u001b[0m     \u001b[43mevaluate_candidates\u001b[49m\u001b[43m(\u001b[49m\u001b[43mParameterGrid\u001b[49m\u001b[43m(\u001b[49m\u001b[38;5;28;43mself\u001b[39;49m\u001b[38;5;241;43m.\u001b[39;49m\u001b[43mparam_grid\u001b[49m\u001b[43m)\u001b[49m\u001b[43m)\u001b[49m\n",
      "File \u001b[1;32m~\\AppData\\Local\\Programs\\Python\\Python310\\lib\\site-packages\\sklearn\\model_selection\\_search.py:964\u001b[0m, in \u001b[0;36mBaseSearchCV.fit.<locals>.evaluate_candidates\u001b[1;34m(candidate_params, cv, more_results)\u001b[0m\n\u001b[0;32m    956\u001b[0m \u001b[38;5;28;01mif\u001b[39;00m \u001b[38;5;28mself\u001b[39m\u001b[38;5;241m.\u001b[39mverbose \u001b[38;5;241m>\u001b[39m \u001b[38;5;241m0\u001b[39m:\n\u001b[0;32m    957\u001b[0m     \u001b[38;5;28mprint\u001b[39m(\n\u001b[0;32m    958\u001b[0m         \u001b[38;5;124m\"\u001b[39m\u001b[38;5;124mFitting \u001b[39m\u001b[38;5;132;01m{0}\u001b[39;00m\u001b[38;5;124m folds for each of \u001b[39m\u001b[38;5;132;01m{1}\u001b[39;00m\u001b[38;5;124m candidates,\u001b[39m\u001b[38;5;124m\"\u001b[39m\n\u001b[0;32m    959\u001b[0m         \u001b[38;5;124m\"\u001b[39m\u001b[38;5;124m totalling \u001b[39m\u001b[38;5;132;01m{2}\u001b[39;00m\u001b[38;5;124m fits\u001b[39m\u001b[38;5;124m\"\u001b[39m\u001b[38;5;241m.\u001b[39mformat(\n\u001b[0;32m    960\u001b[0m             n_splits, n_candidates, n_candidates \u001b[38;5;241m*\u001b[39m n_splits\n\u001b[0;32m    961\u001b[0m         )\n\u001b[0;32m    962\u001b[0m     )\n\u001b[1;32m--> 964\u001b[0m out \u001b[38;5;241m=\u001b[39m \u001b[43mparallel\u001b[49m\u001b[43m(\u001b[49m\n\u001b[0;32m    965\u001b[0m \u001b[43m    \u001b[49m\u001b[43mdelayed\u001b[49m\u001b[43m(\u001b[49m\u001b[43m_fit_and_score\u001b[49m\u001b[43m)\u001b[49m\u001b[43m(\u001b[49m\n\u001b[0;32m    966\u001b[0m \u001b[43m        \u001b[49m\u001b[43mclone\u001b[49m\u001b[43m(\u001b[49m\u001b[43mbase_estimator\u001b[49m\u001b[43m)\u001b[49m\u001b[43m,\u001b[49m\n\u001b[0;32m    967\u001b[0m \u001b[43m        \u001b[49m\u001b[43mX\u001b[49m\u001b[43m,\u001b[49m\n\u001b[0;32m    968\u001b[0m \u001b[43m        \u001b[49m\u001b[43my\u001b[49m\u001b[43m,\u001b[49m\n\u001b[0;32m    969\u001b[0m \u001b[43m        \u001b[49m\u001b[43mtrain\u001b[49m\u001b[38;5;241;43m=\u001b[39;49m\u001b[43mtrain\u001b[49m\u001b[43m,\u001b[49m\n\u001b[0;32m    970\u001b[0m \u001b[43m        \u001b[49m\u001b[43mtest\u001b[49m\u001b[38;5;241;43m=\u001b[39;49m\u001b[43mtest\u001b[49m\u001b[43m,\u001b[49m\n\u001b[0;32m    971\u001b[0m \u001b[43m        \u001b[49m\u001b[43mparameters\u001b[49m\u001b[38;5;241;43m=\u001b[39;49m\u001b[43mparameters\u001b[49m\u001b[43m,\u001b[49m\n\u001b[0;32m    972\u001b[0m \u001b[43m        \u001b[49m\u001b[43msplit_progress\u001b[49m\u001b[38;5;241;43m=\u001b[39;49m\u001b[43m(\u001b[49m\u001b[43msplit_idx\u001b[49m\u001b[43m,\u001b[49m\u001b[43m \u001b[49m\u001b[43mn_splits\u001b[49m\u001b[43m)\u001b[49m\u001b[43m,\u001b[49m\n\u001b[0;32m    973\u001b[0m \u001b[43m        \u001b[49m\u001b[43mcandidate_progress\u001b[49m\u001b[38;5;241;43m=\u001b[39;49m\u001b[43m(\u001b[49m\u001b[43mcand_idx\u001b[49m\u001b[43m,\u001b[49m\u001b[43m \u001b[49m\u001b[43mn_candidates\u001b[49m\u001b[43m)\u001b[49m\u001b[43m,\u001b[49m\n\u001b[0;32m    974\u001b[0m \u001b[43m        \u001b[49m\u001b[38;5;241;43m*\u001b[39;49m\u001b[38;5;241;43m*\u001b[39;49m\u001b[43mfit_and_score_kwargs\u001b[49m\u001b[43m,\u001b[49m\n\u001b[0;32m    975\u001b[0m \u001b[43m    \u001b[49m\u001b[43m)\u001b[49m\n\u001b[0;32m    976\u001b[0m \u001b[43m    \u001b[49m\u001b[38;5;28;43;01mfor\u001b[39;49;00m\u001b[43m \u001b[49m\u001b[43m(\u001b[49m\u001b[43mcand_idx\u001b[49m\u001b[43m,\u001b[49m\u001b[43m \u001b[49m\u001b[43mparameters\u001b[49m\u001b[43m)\u001b[49m\u001b[43m,\u001b[49m\u001b[43m \u001b[49m\u001b[43m(\u001b[49m\u001b[43msplit_idx\u001b[49m\u001b[43m,\u001b[49m\u001b[43m \u001b[49m\u001b[43m(\u001b[49m\u001b[43mtrain\u001b[49m\u001b[43m,\u001b[49m\u001b[43m \u001b[49m\u001b[43mtest\u001b[49m\u001b[43m)\u001b[49m\u001b[43m)\u001b[49m\u001b[43m \u001b[49m\u001b[38;5;129;43;01min\u001b[39;49;00m\u001b[43m \u001b[49m\u001b[43mproduct\u001b[49m\u001b[43m(\u001b[49m\n\u001b[0;32m    977\u001b[0m \u001b[43m        \u001b[49m\u001b[38;5;28;43menumerate\u001b[39;49m\u001b[43m(\u001b[49m\u001b[43mcandidate_params\u001b[49m\u001b[43m)\u001b[49m\u001b[43m,\u001b[49m\n\u001b[0;32m    978\u001b[0m \u001b[43m        \u001b[49m\u001b[38;5;28;43menumerate\u001b[39;49m\u001b[43m(\u001b[49m\u001b[43mcv\u001b[49m\u001b[38;5;241;43m.\u001b[39;49m\u001b[43msplit\u001b[49m\u001b[43m(\u001b[49m\u001b[43mX\u001b[49m\u001b[43m,\u001b[49m\u001b[43m \u001b[49m\u001b[43my\u001b[49m\u001b[43m,\u001b[49m\u001b[43m \u001b[49m\u001b[38;5;241;43m*\u001b[39;49m\u001b[38;5;241;43m*\u001b[39;49m\u001b[43mrouted_params\u001b[49m\u001b[38;5;241;43m.\u001b[39;49m\u001b[43msplitter\u001b[49m\u001b[38;5;241;43m.\u001b[39;49m\u001b[43msplit\u001b[49m\u001b[43m)\u001b[49m\u001b[43m)\u001b[49m\u001b[43m,\u001b[49m\n\u001b[0;32m    979\u001b[0m \u001b[43m    \u001b[49m\u001b[43m)\u001b[49m\n\u001b[0;32m    980\u001b[0m \u001b[43m\u001b[49m\u001b[43m)\u001b[49m\n\u001b[0;32m    982\u001b[0m \u001b[38;5;28;01mif\u001b[39;00m \u001b[38;5;28mlen\u001b[39m(out) \u001b[38;5;241m<\u001b[39m \u001b[38;5;241m1\u001b[39m:\n\u001b[0;32m    983\u001b[0m     \u001b[38;5;28;01mraise\u001b[39;00m \u001b[38;5;167;01mValueError\u001b[39;00m(\n\u001b[0;32m    984\u001b[0m         \u001b[38;5;124m\"\u001b[39m\u001b[38;5;124mNo fits were performed. \u001b[39m\u001b[38;5;124m\"\u001b[39m\n\u001b[0;32m    985\u001b[0m         \u001b[38;5;124m\"\u001b[39m\u001b[38;5;124mWas the CV iterator empty? \u001b[39m\u001b[38;5;124m\"\u001b[39m\n\u001b[0;32m    986\u001b[0m         \u001b[38;5;124m\"\u001b[39m\u001b[38;5;124mWere there no candidates?\u001b[39m\u001b[38;5;124m\"\u001b[39m\n\u001b[0;32m    987\u001b[0m     )\n",
      "File \u001b[1;32m~\\AppData\\Local\\Programs\\Python\\Python310\\lib\\site-packages\\sklearn\\utils\\parallel.py:74\u001b[0m, in \u001b[0;36mParallel.__call__\u001b[1;34m(self, iterable)\u001b[0m\n\u001b[0;32m     69\u001b[0m config \u001b[38;5;241m=\u001b[39m get_config()\n\u001b[0;32m     70\u001b[0m iterable_with_config \u001b[38;5;241m=\u001b[39m (\n\u001b[0;32m     71\u001b[0m     (_with_config(delayed_func, config), args, kwargs)\n\u001b[0;32m     72\u001b[0m     \u001b[38;5;28;01mfor\u001b[39;00m delayed_func, args, kwargs \u001b[38;5;129;01min\u001b[39;00m iterable\n\u001b[0;32m     73\u001b[0m )\n\u001b[1;32m---> 74\u001b[0m \u001b[38;5;28;01mreturn\u001b[39;00m \u001b[38;5;28;43msuper\u001b[39;49m\u001b[43m(\u001b[49m\u001b[43m)\u001b[49m\u001b[38;5;241;43m.\u001b[39;49m\u001b[38;5;21;43m__call__\u001b[39;49m\u001b[43m(\u001b[49m\u001b[43miterable_with_config\u001b[49m\u001b[43m)\u001b[49m\n",
      "File \u001b[1;32m~\\AppData\\Local\\Programs\\Python\\Python310\\lib\\site-packages\\joblib\\parallel.py:1918\u001b[0m, in \u001b[0;36mParallel.__call__\u001b[1;34m(self, iterable)\u001b[0m\n\u001b[0;32m   1916\u001b[0m     output \u001b[38;5;241m=\u001b[39m \u001b[38;5;28mself\u001b[39m\u001b[38;5;241m.\u001b[39m_get_sequential_output(iterable)\n\u001b[0;32m   1917\u001b[0m     \u001b[38;5;28mnext\u001b[39m(output)\n\u001b[1;32m-> 1918\u001b[0m     \u001b[38;5;28;01mreturn\u001b[39;00m output \u001b[38;5;28;01mif\u001b[39;00m \u001b[38;5;28mself\u001b[39m\u001b[38;5;241m.\u001b[39mreturn_generator \u001b[38;5;28;01melse\u001b[39;00m \u001b[38;5;28;43mlist\u001b[39;49m\u001b[43m(\u001b[49m\u001b[43moutput\u001b[49m\u001b[43m)\u001b[49m\n\u001b[0;32m   1920\u001b[0m \u001b[38;5;66;03m# Let's create an ID that uniquely identifies the current call. If the\u001b[39;00m\n\u001b[0;32m   1921\u001b[0m \u001b[38;5;66;03m# call is interrupted early and that the same instance is immediately\u001b[39;00m\n\u001b[0;32m   1922\u001b[0m \u001b[38;5;66;03m# re-used, this id will be used to prevent workers that were\u001b[39;00m\n\u001b[0;32m   1923\u001b[0m \u001b[38;5;66;03m# concurrently finalizing a task from the previous call to run the\u001b[39;00m\n\u001b[0;32m   1924\u001b[0m \u001b[38;5;66;03m# callback.\u001b[39;00m\n\u001b[0;32m   1925\u001b[0m \u001b[38;5;28;01mwith\u001b[39;00m \u001b[38;5;28mself\u001b[39m\u001b[38;5;241m.\u001b[39m_lock:\n",
      "File \u001b[1;32m~\\AppData\\Local\\Programs\\Python\\Python310\\lib\\site-packages\\joblib\\parallel.py:1847\u001b[0m, in \u001b[0;36mParallel._get_sequential_output\u001b[1;34m(self, iterable)\u001b[0m\n\u001b[0;32m   1845\u001b[0m \u001b[38;5;28mself\u001b[39m\u001b[38;5;241m.\u001b[39mn_dispatched_batches \u001b[38;5;241m+\u001b[39m\u001b[38;5;241m=\u001b[39m \u001b[38;5;241m1\u001b[39m\n\u001b[0;32m   1846\u001b[0m \u001b[38;5;28mself\u001b[39m\u001b[38;5;241m.\u001b[39mn_dispatched_tasks \u001b[38;5;241m+\u001b[39m\u001b[38;5;241m=\u001b[39m \u001b[38;5;241m1\u001b[39m\n\u001b[1;32m-> 1847\u001b[0m res \u001b[38;5;241m=\u001b[39m func(\u001b[38;5;241m*\u001b[39margs, \u001b[38;5;241m*\u001b[39m\u001b[38;5;241m*\u001b[39mkwargs)\n\u001b[0;32m   1848\u001b[0m \u001b[38;5;28mself\u001b[39m\u001b[38;5;241m.\u001b[39mn_completed_tasks \u001b[38;5;241m+\u001b[39m\u001b[38;5;241m=\u001b[39m \u001b[38;5;241m1\u001b[39m\n\u001b[0;32m   1849\u001b[0m \u001b[38;5;28mself\u001b[39m\u001b[38;5;241m.\u001b[39mprint_progress()\n",
      "File \u001b[1;32m~\\AppData\\Local\\Programs\\Python\\Python310\\lib\\site-packages\\sklearn\\utils\\parallel.py:136\u001b[0m, in \u001b[0;36m_FuncWrapper.__call__\u001b[1;34m(self, *args, **kwargs)\u001b[0m\n\u001b[0;32m    134\u001b[0m     config \u001b[38;5;241m=\u001b[39m {}\n\u001b[0;32m    135\u001b[0m \u001b[38;5;28;01mwith\u001b[39;00m config_context(\u001b[38;5;241m*\u001b[39m\u001b[38;5;241m*\u001b[39mconfig):\n\u001b[1;32m--> 136\u001b[0m     \u001b[38;5;28;01mreturn\u001b[39;00m \u001b[38;5;28mself\u001b[39m\u001b[38;5;241m.\u001b[39mfunction(\u001b[38;5;241m*\u001b[39margs, \u001b[38;5;241m*\u001b[39m\u001b[38;5;241m*\u001b[39mkwargs)\n",
      "File \u001b[1;32m~\\AppData\\Local\\Programs\\Python\\Python310\\lib\\site-packages\\sklearn\\model_selection\\_validation.py:888\u001b[0m, in \u001b[0;36m_fit_and_score\u001b[1;34m(estimator, X, y, scorer, train, test, verbose, parameters, fit_params, score_params, return_train_score, return_parameters, return_n_test_samples, return_times, return_estimator, split_progress, candidate_progress, error_score)\u001b[0m\n\u001b[0;32m    886\u001b[0m         estimator\u001b[38;5;241m.\u001b[39mfit(X_train, \u001b[38;5;241m*\u001b[39m\u001b[38;5;241m*\u001b[39mfit_params)\n\u001b[0;32m    887\u001b[0m     \u001b[38;5;28;01melse\u001b[39;00m:\n\u001b[1;32m--> 888\u001b[0m         estimator\u001b[38;5;241m.\u001b[39mfit(X_train, y_train, \u001b[38;5;241m*\u001b[39m\u001b[38;5;241m*\u001b[39mfit_params)\n\u001b[0;32m    890\u001b[0m \u001b[38;5;28;01mexcept\u001b[39;00m \u001b[38;5;167;01mException\u001b[39;00m:\n\u001b[0;32m    891\u001b[0m     \u001b[38;5;66;03m# Note fit time as time until error\u001b[39;00m\n\u001b[0;32m    892\u001b[0m     fit_time \u001b[38;5;241m=\u001b[39m time\u001b[38;5;241m.\u001b[39mtime() \u001b[38;5;241m-\u001b[39m start_time\n",
      "File \u001b[1;32m~\\AppData\\Local\\Programs\\Python\\Python310\\lib\\site-packages\\sklearn\\base.py:1473\u001b[0m, in \u001b[0;36m_fit_context.<locals>.decorator.<locals>.wrapper\u001b[1;34m(estimator, *args, **kwargs)\u001b[0m\n\u001b[0;32m   1466\u001b[0m     estimator\u001b[38;5;241m.\u001b[39m_validate_params()\n\u001b[0;32m   1468\u001b[0m \u001b[38;5;28;01mwith\u001b[39;00m config_context(\n\u001b[0;32m   1469\u001b[0m     skip_parameter_validation\u001b[38;5;241m=\u001b[39m(\n\u001b[0;32m   1470\u001b[0m         prefer_skip_nested_validation \u001b[38;5;129;01mor\u001b[39;00m global_skip_validation\n\u001b[0;32m   1471\u001b[0m     )\n\u001b[0;32m   1472\u001b[0m ):\n\u001b[1;32m-> 1473\u001b[0m     \u001b[38;5;28;01mreturn\u001b[39;00m fit_method(estimator, \u001b[38;5;241m*\u001b[39margs, \u001b[38;5;241m*\u001b[39m\u001b[38;5;241m*\u001b[39mkwargs)\n",
      "File \u001b[1;32m~\\AppData\\Local\\Programs\\Python\\Python310\\lib\\site-packages\\sklearn\\svm\\_base.py:250\u001b[0m, in \u001b[0;36mBaseLibSVM.fit\u001b[1;34m(self, X, y, sample_weight)\u001b[0m\n\u001b[0;32m    247\u001b[0m     \u001b[38;5;28mprint\u001b[39m(\u001b[38;5;124m\"\u001b[39m\u001b[38;5;124m[LibSVM]\u001b[39m\u001b[38;5;124m\"\u001b[39m, end\u001b[38;5;241m=\u001b[39m\u001b[38;5;124m\"\u001b[39m\u001b[38;5;124m\"\u001b[39m)\n\u001b[0;32m    249\u001b[0m seed \u001b[38;5;241m=\u001b[39m rnd\u001b[38;5;241m.\u001b[39mrandint(np\u001b[38;5;241m.\u001b[39miinfo(\u001b[38;5;124m\"\u001b[39m\u001b[38;5;124mi\u001b[39m\u001b[38;5;124m\"\u001b[39m)\u001b[38;5;241m.\u001b[39mmax)\n\u001b[1;32m--> 250\u001b[0m \u001b[43mfit\u001b[49m\u001b[43m(\u001b[49m\u001b[43mX\u001b[49m\u001b[43m,\u001b[49m\u001b[43m \u001b[49m\u001b[43my\u001b[49m\u001b[43m,\u001b[49m\u001b[43m \u001b[49m\u001b[43msample_weight\u001b[49m\u001b[43m,\u001b[49m\u001b[43m \u001b[49m\u001b[43msolver_type\u001b[49m\u001b[43m,\u001b[49m\u001b[43m \u001b[49m\u001b[43mkernel\u001b[49m\u001b[43m,\u001b[49m\u001b[43m \u001b[49m\u001b[43mrandom_seed\u001b[49m\u001b[38;5;241;43m=\u001b[39;49m\u001b[43mseed\u001b[49m\u001b[43m)\u001b[49m\n\u001b[0;32m    251\u001b[0m \u001b[38;5;66;03m# see comment on the other call to np.iinfo in this file\u001b[39;00m\n\u001b[0;32m    253\u001b[0m \u001b[38;5;28mself\u001b[39m\u001b[38;5;241m.\u001b[39mshape_fit_ \u001b[38;5;241m=\u001b[39m X\u001b[38;5;241m.\u001b[39mshape \u001b[38;5;28;01mif\u001b[39;00m \u001b[38;5;28mhasattr\u001b[39m(X, \u001b[38;5;124m\"\u001b[39m\u001b[38;5;124mshape\u001b[39m\u001b[38;5;124m\"\u001b[39m) \u001b[38;5;28;01melse\u001b[39;00m (n_samples,)\n",
      "File \u001b[1;32m~\\AppData\\Local\\Programs\\Python\\Python310\\lib\\site-packages\\sklearn\\svm\\_base.py:328\u001b[0m, in \u001b[0;36mBaseLibSVM._dense_fit\u001b[1;34m(self, X, y, sample_weight, solver_type, kernel, random_seed)\u001b[0m\n\u001b[0;32m    314\u001b[0m libsvm\u001b[38;5;241m.\u001b[39mset_verbosity_wrap(\u001b[38;5;28mself\u001b[39m\u001b[38;5;241m.\u001b[39mverbose)\n\u001b[0;32m    316\u001b[0m \u001b[38;5;66;03m# we don't pass **self.get_params() to allow subclasses to\u001b[39;00m\n\u001b[0;32m    317\u001b[0m \u001b[38;5;66;03m# add other parameters to __init__\u001b[39;00m\n\u001b[0;32m    318\u001b[0m (\n\u001b[0;32m    319\u001b[0m     \u001b[38;5;28mself\u001b[39m\u001b[38;5;241m.\u001b[39msupport_,\n\u001b[0;32m    320\u001b[0m     \u001b[38;5;28mself\u001b[39m\u001b[38;5;241m.\u001b[39msupport_vectors_,\n\u001b[0;32m    321\u001b[0m     \u001b[38;5;28mself\u001b[39m\u001b[38;5;241m.\u001b[39m_n_support,\n\u001b[0;32m    322\u001b[0m     \u001b[38;5;28mself\u001b[39m\u001b[38;5;241m.\u001b[39mdual_coef_,\n\u001b[0;32m    323\u001b[0m     \u001b[38;5;28mself\u001b[39m\u001b[38;5;241m.\u001b[39mintercept_,\n\u001b[0;32m    324\u001b[0m     \u001b[38;5;28mself\u001b[39m\u001b[38;5;241m.\u001b[39m_probA,\n\u001b[0;32m    325\u001b[0m     \u001b[38;5;28mself\u001b[39m\u001b[38;5;241m.\u001b[39m_probB,\n\u001b[0;32m    326\u001b[0m     \u001b[38;5;28mself\u001b[39m\u001b[38;5;241m.\u001b[39mfit_status_,\n\u001b[0;32m    327\u001b[0m     \u001b[38;5;28mself\u001b[39m\u001b[38;5;241m.\u001b[39m_num_iter,\n\u001b[1;32m--> 328\u001b[0m ) \u001b[38;5;241m=\u001b[39m \u001b[43mlibsvm\u001b[49m\u001b[38;5;241;43m.\u001b[39;49m\u001b[43mfit\u001b[49m\u001b[43m(\u001b[49m\n\u001b[0;32m    329\u001b[0m \u001b[43m    \u001b[49m\u001b[43mX\u001b[49m\u001b[43m,\u001b[49m\n\u001b[0;32m    330\u001b[0m \u001b[43m    \u001b[49m\u001b[43my\u001b[49m\u001b[43m,\u001b[49m\n\u001b[0;32m    331\u001b[0m \u001b[43m    \u001b[49m\u001b[43msvm_type\u001b[49m\u001b[38;5;241;43m=\u001b[39;49m\u001b[43msolver_type\u001b[49m\u001b[43m,\u001b[49m\n\u001b[0;32m    332\u001b[0m \u001b[43m    \u001b[49m\u001b[43msample_weight\u001b[49m\u001b[38;5;241;43m=\u001b[39;49m\u001b[43msample_weight\u001b[49m\u001b[43m,\u001b[49m\n\u001b[0;32m    333\u001b[0m \u001b[43m    \u001b[49m\u001b[43mclass_weight\u001b[49m\u001b[38;5;241;43m=\u001b[39;49m\u001b[38;5;28;43mgetattr\u001b[39;49m\u001b[43m(\u001b[49m\u001b[38;5;28;43mself\u001b[39;49m\u001b[43m,\u001b[49m\u001b[43m \u001b[49m\u001b[38;5;124;43m\"\u001b[39;49m\u001b[38;5;124;43mclass_weight_\u001b[39;49m\u001b[38;5;124;43m\"\u001b[39;49m\u001b[43m,\u001b[49m\u001b[43m \u001b[49m\u001b[43mnp\u001b[49m\u001b[38;5;241;43m.\u001b[39;49m\u001b[43mempty\u001b[49m\u001b[43m(\u001b[49m\u001b[38;5;241;43m0\u001b[39;49m\u001b[43m)\u001b[49m\u001b[43m)\u001b[49m\u001b[43m,\u001b[49m\n\u001b[0;32m    334\u001b[0m \u001b[43m    \u001b[49m\u001b[43mkernel\u001b[49m\u001b[38;5;241;43m=\u001b[39;49m\u001b[43mkernel\u001b[49m\u001b[43m,\u001b[49m\n\u001b[0;32m    335\u001b[0m \u001b[43m    \u001b[49m\u001b[43mC\u001b[49m\u001b[38;5;241;43m=\u001b[39;49m\u001b[38;5;28;43mself\u001b[39;49m\u001b[38;5;241;43m.\u001b[39;49m\u001b[43mC\u001b[49m\u001b[43m,\u001b[49m\n\u001b[0;32m    336\u001b[0m \u001b[43m    \u001b[49m\u001b[43mnu\u001b[49m\u001b[38;5;241;43m=\u001b[39;49m\u001b[38;5;28;43mself\u001b[39;49m\u001b[38;5;241;43m.\u001b[39;49m\u001b[43mnu\u001b[49m\u001b[43m,\u001b[49m\n\u001b[0;32m    337\u001b[0m \u001b[43m    \u001b[49m\u001b[43mprobability\u001b[49m\u001b[38;5;241;43m=\u001b[39;49m\u001b[38;5;28;43mself\u001b[39;49m\u001b[38;5;241;43m.\u001b[39;49m\u001b[43mprobability\u001b[49m\u001b[43m,\u001b[49m\n\u001b[0;32m    338\u001b[0m \u001b[43m    \u001b[49m\u001b[43mdegree\u001b[49m\u001b[38;5;241;43m=\u001b[39;49m\u001b[38;5;28;43mself\u001b[39;49m\u001b[38;5;241;43m.\u001b[39;49m\u001b[43mdegree\u001b[49m\u001b[43m,\u001b[49m\n\u001b[0;32m    339\u001b[0m \u001b[43m    \u001b[49m\u001b[43mshrinking\u001b[49m\u001b[38;5;241;43m=\u001b[39;49m\u001b[38;5;28;43mself\u001b[39;49m\u001b[38;5;241;43m.\u001b[39;49m\u001b[43mshrinking\u001b[49m\u001b[43m,\u001b[49m\n\u001b[0;32m    340\u001b[0m \u001b[43m    \u001b[49m\u001b[43mtol\u001b[49m\u001b[38;5;241;43m=\u001b[39;49m\u001b[38;5;28;43mself\u001b[39;49m\u001b[38;5;241;43m.\u001b[39;49m\u001b[43mtol\u001b[49m\u001b[43m,\u001b[49m\n\u001b[0;32m    341\u001b[0m \u001b[43m    \u001b[49m\u001b[43mcache_size\u001b[49m\u001b[38;5;241;43m=\u001b[39;49m\u001b[38;5;28;43mself\u001b[39;49m\u001b[38;5;241;43m.\u001b[39;49m\u001b[43mcache_size\u001b[49m\u001b[43m,\u001b[49m\n\u001b[0;32m    342\u001b[0m \u001b[43m    \u001b[49m\u001b[43mcoef0\u001b[49m\u001b[38;5;241;43m=\u001b[39;49m\u001b[38;5;28;43mself\u001b[39;49m\u001b[38;5;241;43m.\u001b[39;49m\u001b[43mcoef0\u001b[49m\u001b[43m,\u001b[49m\n\u001b[0;32m    343\u001b[0m \u001b[43m    \u001b[49m\u001b[43mgamma\u001b[49m\u001b[38;5;241;43m=\u001b[39;49m\u001b[38;5;28;43mself\u001b[39;49m\u001b[38;5;241;43m.\u001b[39;49m\u001b[43m_gamma\u001b[49m\u001b[43m,\u001b[49m\n\u001b[0;32m    344\u001b[0m \u001b[43m    \u001b[49m\u001b[43mepsilon\u001b[49m\u001b[38;5;241;43m=\u001b[39;49m\u001b[38;5;28;43mself\u001b[39;49m\u001b[38;5;241;43m.\u001b[39;49m\u001b[43mepsilon\u001b[49m\u001b[43m,\u001b[49m\n\u001b[0;32m    345\u001b[0m \u001b[43m    \u001b[49m\u001b[43mmax_iter\u001b[49m\u001b[38;5;241;43m=\u001b[39;49m\u001b[38;5;28;43mself\u001b[39;49m\u001b[38;5;241;43m.\u001b[39;49m\u001b[43mmax_iter\u001b[49m\u001b[43m,\u001b[49m\n\u001b[0;32m    346\u001b[0m \u001b[43m    \u001b[49m\u001b[43mrandom_seed\u001b[49m\u001b[38;5;241;43m=\u001b[39;49m\u001b[43mrandom_seed\u001b[49m\u001b[43m,\u001b[49m\n\u001b[0;32m    347\u001b[0m \u001b[43m\u001b[49m\u001b[43m)\u001b[49m\n\u001b[0;32m    349\u001b[0m \u001b[38;5;28mself\u001b[39m\u001b[38;5;241m.\u001b[39m_warn_from_fit_status()\n",
      "\u001b[1;31mKeyboardInterrupt\u001b[0m: "
     ]
    }
   ],
   "source": [
    "###GPT###\n",
    "# Defining the parameter grid for SVM\n",
    "param_grid = {\n",
    "    'C': [0.1, 1, 10, 100],           \n",
    "    'kernel': ['linear', 'poly', 'rbf', 'sigmoid'], \n",
    "    'gamma': ['scale', 'auto'] }\n",
    "\n",
    "grid = GridSearchCV(SVC(), param_grid, cv=5, scoring='accuracy')\n",
    "grid.fit(X, y)\n",
    "print(f\"Best Parameters: {grid.best_params_}\")\n",
    "print(f\"Best Cross-Validation Accuracy: {grid.best_score_:.2f}\") \n",
    "####"
   ]
  },
  {
   "cell_type": "markdown",
   "id": "d206f73d-a575-4b76-a0d0-0dc63d77f37e",
   "metadata": {
    "id": "d206f73d-a575-4b76-a0d0-0dc63d77f37e"
   },
   "source": [
    "## 4-Training the kernel SVM model on the Training set"
   ]
  },
  {
   "cell_type": "code",
   "execution_count": null,
   "id": "4e6a63fa-7927-4819-9803-90a5273aecc1",
   "metadata": {
    "executionInfo": {
     "elapsed": 35,
     "status": "aborted",
     "timestamp": 1736767607923,
     "user": {
      "displayName": "יואב כהן",
      "userId": "11310514616825726202"
     },
     "user_tz": -120
    },
    "id": "4e6a63fa-7927-4819-9803-90a5273aecc1"
   },
   "outputs": [],
   "source": [
    "from sklearn.svm import SVC\n",
    "classifier = SVC(kernel = 'rbf', random_state = 0)\n",
    "classifier.fit(X_train, y_train)"
   ]
  },
  {
   "cell_type": "code",
   "execution_count": null,
   "id": "d807c175-595e-4214-ab2e-a0d2b02cb41e",
   "metadata": {
    "executionInfo": {
     "elapsed": 35,
     "status": "aborted",
     "timestamp": 1736767607923,
     "user": {
      "displayName": "יואב כהן",
      "userId": "11310514616825726202"
     },
     "user_tz": -120
    },
    "id": "d807c175-595e-4214-ab2e-a0d2b02cb41e"
   },
   "outputs": [],
   "source": [
    "from sklearn.metrics import confusion_matrix, accuracy_score\n",
    "y_pred = classifier.predict(X_test)\n",
    "cm = confusion_matrix(y_test, y_pred)\n",
    "print(cm)\n",
    "accuracy_score(y_test, y_pred)"
   ]
  },
  {
   "cell_type": "markdown",
   "id": "2ec70d41-e992-4fa6-8ea0-1d91c50eb8e9",
   "metadata": {
    "id": "2ec70d41-e992-4fa6-8ea0-1d91c50eb8e9"
   },
   "source": [
    "##### Accuracy- Grid Search & Cross Validation  "
   ]
  },
  {
   "cell_type": "code",
   "execution_count": null,
   "id": "6a0ea46f-7ee8-4068-9f40-c1af49b6266a",
   "metadata": {
    "executionInfo": {
     "elapsed": 35,
     "status": "aborted",
     "timestamp": 1736767607923,
     "user": {
      "displayName": "יואב כהן",
      "userId": "11310514616825726202"
     },
     "user_tz": -120
    },
    "id": "6a0ea46f-7ee8-4068-9f40-c1af49b6266a"
   },
   "outputs": [],
   "source": [
    "###GPT###\n",
    "from sklearn.svm import SVC\n",
    "from sklearn.model_selection import GridSearchCV\n",
    "from sklearn.metrics import confusion_matrix, accuracy_score\n",
    "from sklearn.inspection import permutation_importance\n",
    "import matplotlib.pyplot as plt\n",
    "import numpy as np\n",
    "\n",
    "# Step 1: Define the SVC classifier\n",
    "classifier = SVC(random_state=0)\n",
    "\n",
    "# Step 2: Set up the parameter grid for Grid Search\n",
    "param_grid = {\n",
    "    'C': [0.1, 1, 10, 100],      # Regularization parameter\n",
    "    'gamma': ['scale', 'auto', 0.01, 0.001],  # Kernel coefficient\n",
    "    'kernel': ['rbf']            # We are using only the RBF kernel\n",
    "}\n",
    "\n",
    "# Step 3: Perform Grid Search\n",
    "grid_search = GridSearchCV(estimator=classifier,\n",
    "                           param_grid=param_grid,\n",
    "                           scoring='accuracy',\n",
    "                           cv=5,          # 5-fold cross-validation\n",
    "                           n_jobs=-1)     # Use all available cores\n",
    "grid_search.fit(X_train, y_train)\n",
    "\n",
    "# Step 4: Get the best parameters and best model\n",
    "best_params = grid_search.best_params_\n",
    "best_classifier = grid_search.best_estimator_\n",
    "\n",
    "print(f\"Best Parameters: {best_params}\")\n",
    "\n",
    "# Step 5: Evaluate the best model on the test set\n",
    "y_pred = best_classifier.predict(X_test)\n",
    "cm = confusion_matrix(y_test, y_pred)\n",
    "accuracy = accuracy_score(y_test, y_pred)\n",
    "\n",
    "print(\"Confusion Matrix:\")\n",
    "print(cm)\n",
    "print(f\"Accuracy on Test Data: {accuracy}\")\n",
    "\n",
    "# Step 6: Compute Permutation Importance\n",
    "perm_importance = permutation_importance(best_classifier, X_test, y_test, scoring='accuracy')\n",
    "\n",
    "# Sort features by importance\n",
    "sorted_idx = perm_importance.importances_mean.argsort()[::-1]\n",
    "\n",
    "# Print feature importance\n",
    "print(\"\\nFeature Importance (Permutation):\")\n",
    "for idx in sorted_idx:\n",
    "    print(f\"Feature {idx + 1}: {perm_importance.importances_mean[idx]:.4f}\")\n",
    "\n",
    "# Plot feature importance\n",
    "plt.figure(figsize=(10, 6))\n",
    "plt.bar(range(len(sorted_idx)), perm_importance.importances_mean[sorted_idx])\n",
    "plt.xticks(range(len(sorted_idx)), [f\"Feature {i+1}\" for i in sorted_idx], rotation=90)\n",
    "plt.ylabel(\"Permutation Importance\")\n",
    "plt.xlabel(\"Feature\")\n",
    "plt.title(\"Feature Importance with RBF Kernel (after Grid Search)\")\n",
    "plt.tight_layout()\n",
    "plt.show()\n",
    "####"
   ]
  },
  {
   "cell_type": "markdown",
   "id": "a9416327-2988-487d-9e9c-fa23f2c53b5b",
   "metadata": {
    "id": "a9416327-2988-487d-9e9c-fa23f2c53b5b"
   },
   "source": [
    "## 5-Training the Decision Trees model on the Training set"
   ]
  },
  {
   "cell_type": "code",
   "execution_count": null,
   "id": "8826b898-d238-4486-a1e7-841573a4ac0b",
   "metadata": {
    "executionInfo": {
     "elapsed": 35,
     "status": "aborted",
     "timestamp": 1736767607923,
     "user": {
      "displayName": "יואב כהן",
      "userId": "11310514616825726202"
     },
     "user_tz": -120
    },
    "id": "8826b898-d238-4486-a1e7-841573a4ac0b"
   },
   "outputs": [],
   "source": [
    "from sklearn.tree import DecisionTreeClassifier\n",
    "classifier = DecisionTreeClassifier(criterion = 'entropy', random_state = 0)\n",
    "classifier.fit(X_train, y_train)"
   ]
  },
  {
   "cell_type": "code",
   "execution_count": null,
   "id": "44d524bd-6867-49cd-bd39-a785bbe671d8",
   "metadata": {
    "executionInfo": {
     "elapsed": 35,
     "status": "aborted",
     "timestamp": 1736767607924,
     "user": {
      "displayName": "יואב כהן",
      "userId": "11310514616825726202"
     },
     "user_tz": -120
    },
    "id": "44d524bd-6867-49cd-bd39-a785bbe671d8"
   },
   "outputs": [],
   "source": [
    "from sklearn.metrics import confusion_matrix, accuracy_score\n",
    "y_pred = classifier.predict(X_test)\n",
    "cm = confusion_matrix(y_test, y_pred)\n",
    "print(cm)\n",
    "accuracy_score(y_test, y_pred)"
   ]
  },
  {
   "cell_type": "markdown",
   "id": "951643e3-1655-4f8d-a05c-9620ebb41bc8",
   "metadata": {
    "id": "951643e3-1655-4f8d-a05c-9620ebb41bc8"
   },
   "source": [
    "##### Accuracy- Grid Search & Cross Validation  "
   ]
  },
  {
   "cell_type": "code",
   "execution_count": null,
   "id": "deb13b68-2b93-4ecf-bc6f-6b66903e6644",
   "metadata": {
    "executionInfo": {
     "elapsed": 35,
     "status": "aborted",
     "timestamp": 1736767607924,
     "user": {
      "displayName": "יואב כהן",
      "userId": "11310514616825726202"
     },
     "user_tz": -120
    },
    "id": "deb13b68-2b93-4ecf-bc6f-6b66903e6644"
   },
   "outputs": [],
   "source": [
    "###GPT###\n",
    "# Defining the parameter grid for Decision Trees\n",
    "param_grid = {\n",
    "    'criterion': ['gini', 'entropy', 'log_loss'],  \n",
    "    'splitter': ['best', 'random'],              \n",
    "    'max_depth': [None, 5, 10, 20],            \n",
    "    'min_samples_split': [2, 5, 10],             \n",
    "    'min_samples_leaf': [1, 2, 4]}\n",
    "\n",
    "grid = GridSearchCV(DecisionTreeClassifier(), param_grid, cv=5, scoring='accuracy', n_jobs=-1)\n",
    "grid.fit(X, y)\n",
    "print(f\"Best Parameters: {grid.best_params_}\") \n",
    "print(f\"Best Cross-Validation Accuracy: {grid.best_score_:.2f}\") \n",
    "####"
   ]
  },
  {
   "cell_type": "markdown",
   "id": "33f026b7-376a-4886-8e72-829417fc1c3b",
   "metadata": {
    "id": "33f026b7-376a-4886-8e72-829417fc1c3b"
   },
   "source": [
    "## 6-Training the Random Forest model on the Training set"
   ]
  },
  {
   "cell_type": "code",
   "execution_count": null,
   "id": "7c4e591a-8335-43c6-b26f-8e1a20a32dda",
   "metadata": {
    "executionInfo": {
     "elapsed": 35,
     "status": "aborted",
     "timestamp": 1736767607924,
     "user": {
      "displayName": "יואב כהן",
      "userId": "11310514616825726202"
     },
     "user_tz": -120
    },
    "id": "7c4e591a-8335-43c6-b26f-8e1a20a32dda"
   },
   "outputs": [],
   "source": [
    "from sklearn.ensemble import RandomForestClassifier\n",
    "classifier = RandomForestClassifier(n_estimators = 10, criterion = 'entropy', random_state = 0)\n",
    "classifier.fit(X_train, y_train)"
   ]
  },
  {
   "cell_type": "code",
   "execution_count": null,
   "id": "e3d20bc3-b76c-4169-8726-1c63a472155e",
   "metadata": {
    "executionInfo": {
     "elapsed": 35,
     "status": "aborted",
     "timestamp": 1736767607924,
     "user": {
      "displayName": "יואב כהן",
      "userId": "11310514616825726202"
     },
     "user_tz": -120
    },
    "id": "e3d20bc3-b76c-4169-8726-1c63a472155e"
   },
   "outputs": [],
   "source": [
    "from sklearn.metrics import confusion_matrix, accuracy_score\n",
    "y_pred = classifier.predict(X_test)\n",
    "cm = confusion_matrix(y_test, y_pred)\n",
    "print(cm)\n",
    "accuracy_score(y_test, y_pred)"
   ]
  },
  {
   "cell_type": "markdown",
   "id": "ab5710be-db8b-456d-a170-4b488fd56684",
   "metadata": {
    "id": "ab5710be-db8b-456d-a170-4b488fd56684"
   },
   "source": [
    "##### Accuracy- Grid Search & Cross Validation  "
   ]
  },
  {
   "cell_type": "code",
   "execution_count": null,
   "id": "aee580d8-93f7-424e-a635-f8855583d480",
   "metadata": {
    "executionInfo": {
     "elapsed": 35,
     "status": "aborted",
     "timestamp": 1736767607924,
     "user": {
      "displayName": "יואב כהן",
      "userId": "11310514616825726202"
     },
     "user_tz": -120
    },
    "id": "aee580d8-93f7-424e-a635-f8855583d480"
   },
   "outputs": [],
   "source": [
    "###GPT###\n",
    "# Defining the parameter grid for  Random Forest\n",
    "param_grid = {\n",
    "    'n_estimators': [50, 100, 200],            \n",
    "    'criterion': ['gini', 'entropy', 'log_loss'],  \n",
    "    'max_depth': [None, 10, 20, 30],            \n",
    "    'min_samples_split': [2, 5, 10],             \n",
    "    'min_samples_leaf': [1, 2, 4],               \n",
    "    'max_features': ['sqrt', 'log2', None],      \n",
    "    'bootstrap': [True, False]}\n",
    "\n",
    "grid = GridSearchCV(RandomForestClassifier(), param_grid, cv=5, scoring='accuracy', n_jobs=-1)\n",
    "grid.fit(X, y)\n",
    "print(f\"Best Parameters: {grid.best_params_}\")\n",
    "print(f\"Best Cross-Validation Accuracy: {grid.best_score_:.2f}\")\n",
    "####"
   ]
  },
  {
   "cell_type": "markdown",
   "id": "50052202-eb4b-49b3-b76f-7e94e4e8cc25",
   "metadata": {
    "id": "50052202-eb4b-49b3-b76f-7e94e4e8cc25"
   },
   "source": [
    "## 7-Training the Neural Network model on the Training set"
   ]
  },
  {
   "cell_type": "code",
   "execution_count": null,
   "id": "LuhhLyKlAL2d",
   "metadata": {
    "executionInfo": {
     "elapsed": 36,
     "status": "aborted",
     "timestamp": 1736767607925,
     "user": {
      "displayName": "יואב כהן",
      "userId": "11310514616825726202"
     },
     "user_tz": -120
    },
    "id": "LuhhLyKlAL2d"
   },
   "outputs": [],
   "source": [
    "###GPT###\n",
    "from sklearn.neural_network import MLPClassifier\n",
    "from sklearn.model_selection import cross_val_score, StratifiedKFold\n",
    "\n",
    "classifier = MLPClassifier(\n",
    "    hidden_layer_sizes=(128, 64), \n",
    "    activation='relu',            \n",
    "    solver='adam',            \n",
    "    alpha=0.00062,               \n",
    "    learning_rate_init=0.00062,   \n",
    "    max_iter=300,                 \n",
    "    early_stopping=True,         \n",
    "    n_iter_no_change=35,          \n",
    "    random_state=42)\n",
    "classifier.fit(X_train, y_train)\n",
    "####"
   ]
  },
  {
   "cell_type": "code",
   "execution_count": null,
   "id": "g95QURxJCpnp",
   "metadata": {
    "executionInfo": {
     "elapsed": 36,
     "status": "aborted",
     "timestamp": 1736767607925,
     "user": {
      "displayName": "יואב כהן",
      "userId": "11310514616825726202"
     },
     "user_tz": -120
    },
    "id": "g95QURxJCpnp"
   },
   "outputs": [],
   "source": [
    "from sklearn.metrics import accuracy_score, classification_report, confusion_matrix\n",
    "y_pred = classifier.predict(X_test) \n",
    "cm = confusion_matrix(y_test, y_pred)\n",
    "print(cm)\n",
    "accuracy_score(y_test, y_pred)"
   ]
  },
  {
   "cell_type": "markdown",
   "id": "2ba31fe7-19f2-41a4-afdb-20171cc9640a",
   "metadata": {
    "id": "2ba31fe7-19f2-41a4-afdb-20171cc9640a"
   },
   "source": [
    "##### Accuracy- Grid Search & Cross Validation  עם פיצ'רים שמשפיעים"
   ]
  },
  {
   "cell_type": "code",
   "execution_count": null,
   "id": "05b6d083-92f7-49bf-a46e-405346e25f0e",
   "metadata": {
    "executionInfo": {
     "elapsed": 36,
     "status": "aborted",
     "timestamp": 1736767607925,
     "user": {
      "displayName": "יואב כהן",
      "userId": "11310514616825726202"
     },
     "user_tz": -120
    },
    "id": "05b6d083-92f7-49bf-a46e-405346e25f0e"
   },
   "outputs": [],
   "source": [
    "###GPT###\n",
    "from sklearn.neural_network import MLPClassifier\n",
    "from sklearn.model_selection import GridSearchCV\n",
    "from sklearn.metrics import confusion_matrix, accuracy_score\n",
    "from sklearn.inspection import permutation_importance\n",
    "import matplotlib.pyplot as plt\n",
    "import numpy as np\n",
    "\n",
    "# Step 1: Define the MLPClassifier\n",
    "classifier = MLPClassifier(\n",
    "    random_state=42,\n",
    "    early_stopping=True)\n",
    "\n",
    "# Step 2: Set up the parameter grid for Grid Search\n",
    "param_grid = {\n",
    "    'hidden_layer_sizes': [(128, 64), (100, 50), (64, 32)], \n",
    "    'activation': ['relu', 'tanh'],                         \n",
    "    'solver': ['adam', 'sgd'],                              \n",
    "    'alpha': [0.0001, 0.00062, 0.001],                      \n",
    "    'learning_rate_init': [0.001, 0.00062, 0.01]}\n",
    "\n",
    "# Step 3: Perform Grid Search\n",
    "grid_search = GridSearchCV(estimator=classifier,\n",
    "                           param_grid=param_grid,\n",
    "                           scoring='accuracy',\n",
    "                           cv=5,          \n",
    "                           n_jobs=-1)     \n",
    "grid_search.fit(X_train, y_train)\n",
    "\n",
    "# Step 4: Get the best parameters and best model\n",
    "best_params = grid_search.best_params_\n",
    "best_classifier = grid_search.best_estimator_\n",
    "\n",
    "print(f\"Best Parameters: {best_params}\")\n",
    "\n",
    "# Step 5: Evaluate the best model on the test set\n",
    "y_pred = best_classifier.predict(X_test)\n",
    "cm = confusion_matrix(y_test, y_pred)\n",
    "accuracy = accuracy_score(y_test, y_pred)\n",
    "\n",
    "print(\"Confusion Matrix:\")\n",
    "print(cm)\n",
    "print(f\"Accuracy on Test Data: {accuracy}\")\n",
    "\n",
    "# Step 6: Compute Permutation Importance\n",
    "perm_importance = permutation_importance(best_classifier, X_test, y_test, scoring='accuracy', n_repeats=10, random_state=42)\n",
    "\n",
    "# Sort features by importance\n",
    "sorted_idx = perm_importance.importances_mean.argsort()[::-1]\n",
    "\n",
    "# Print feature importance\n",
    "print(\"\\nFeature Importance (Permutation):\")\n",
    "for idx in sorted_idx:\n",
    "    print(f\"Feature {idx + 1}: {perm_importance.importances_mean[idx]:.4f}\")\n",
    "\n",
    "# Plot feature importance\n",
    "plt.figure(figsize=(10, 6))\n",
    "plt.bar(range(len(sorted_idx)), perm_importance.importances_mean[sorted_idx])\n",
    "plt.xticks(range(len(sorted_idx)), [f\"Feature {i+1}\" for i in sorted_idx], rotation=90)\n",
    "plt.ylabel(\"Permutation Importance\")\n",
    "plt.xlabel(\"Feature\")\n",
    "plt.title(\"Feature Importance with MLPClassifier (after Grid Search)\")\n",
    "plt.tight_layout()\n",
    "plt.show()\n",
    "####"
   ]
  },
  {
   "cell_type": "markdown",
   "id": "bf72200c-3e5b-4876-b7c3-c10633389311",
   "metadata": {
    "id": "bf72200c-3e5b-4876-b7c3-c10633389311"
   },
   "source": [
    "# Unsupervised Analysis"
   ]
  },
  {
   "cell_type": "markdown",
   "id": "d1d37ee4-56d3-4378-a49f-dc2f76c29abd",
   "metadata": {},
   "source": [
    "### Unify a group of columns with the same meaning\n",
    "* Unify the columns related to the staff metrics - doctors, nurses, and staff in general - and a weighted score\n",
    "* Unify the columns related to the hospital discharge experience - and a weighted score"
   ]
  },
  {
   "cell_type": "code",
   "execution_count": 54,
   "id": "8298c6de-fb66-424e-9205-c24b4eaf97b7",
   "metadata": {},
   "outputs": [
    {
     "data": {
      "text/html": [
       "<div>\n",
       "<style scoped>\n",
       "    .dataframe tbody tr th:only-of-type {\n",
       "        vertical-align: middle;\n",
       "    }\n",
       "\n",
       "    .dataframe tbody tr th {\n",
       "        vertical-align: top;\n",
       "    }\n",
       "\n",
       "    .dataframe thead th {\n",
       "        text-align: right;\n",
       "    }\n",
       "</style>\n",
       "<table border=\"1\" class=\"dataframe\">\n",
       "  <thead>\n",
       "    <tr style=\"text-align: right;\">\n",
       "      <th></th>\n",
       "      <th>Size_hospital</th>\n",
       "      <th>Is_electiv</th>\n",
       "      <th>Choice</th>\n",
       "      <th>Is_corridor</th>\n",
       "      <th>Gender</th>\n",
       "      <th>Education</th>\n",
       "      <th>Chronic</th>\n",
       "      <th>Health_status</th>\n",
       "      <th>Recommendation</th>\n",
       "      <th>ER_Treatment_Satisfaction</th>\n",
       "      <th>...</th>\n",
       "      <th>Health insurance_3</th>\n",
       "      <th>Health insurance_4</th>\n",
       "      <th>Health insurance_5</th>\n",
       "      <th>Ownership_1</th>\n",
       "      <th>Ownership_2</th>\n",
       "      <th>Ownership_3</th>\n",
       "      <th>Ownership_5</th>\n",
       "      <th>Satisfaction</th>\n",
       "      <th>Team_Score</th>\n",
       "      <th>Discharge_Score</th>\n",
       "    </tr>\n",
       "  </thead>\n",
       "  <tbody>\n",
       "    <tr>\n",
       "      <th>2</th>\n",
       "      <td>3</td>\n",
       "      <td>1</td>\n",
       "      <td>0</td>\n",
       "      <td>0</td>\n",
       "      <td>1</td>\n",
       "      <td>0</td>\n",
       "      <td>1</td>\n",
       "      <td>1</td>\n",
       "      <td>1</td>\n",
       "      <td>5</td>\n",
       "      <td>...</td>\n",
       "      <td>0</td>\n",
       "      <td>0</td>\n",
       "      <td>0</td>\n",
       "      <td>1</td>\n",
       "      <td>0</td>\n",
       "      <td>0</td>\n",
       "      <td>0</td>\n",
       "      <td>3</td>\n",
       "      <td>71</td>\n",
       "      <td>18.0</td>\n",
       "    </tr>\n",
       "    <tr>\n",
       "      <th>3</th>\n",
       "      <td>3</td>\n",
       "      <td>0</td>\n",
       "      <td>1</td>\n",
       "      <td>1</td>\n",
       "      <td>0</td>\n",
       "      <td>0</td>\n",
       "      <td>1</td>\n",
       "      <td>0</td>\n",
       "      <td>10</td>\n",
       "      <td>1</td>\n",
       "      <td>...</td>\n",
       "      <td>0</td>\n",
       "      <td>0</td>\n",
       "      <td>0</td>\n",
       "      <td>1</td>\n",
       "      <td>0</td>\n",
       "      <td>0</td>\n",
       "      <td>0</td>\n",
       "      <td>1</td>\n",
       "      <td>21</td>\n",
       "      <td>6.0</td>\n",
       "    </tr>\n",
       "    <tr>\n",
       "      <th>4</th>\n",
       "      <td>3</td>\n",
       "      <td>0</td>\n",
       "      <td>1</td>\n",
       "      <td>1</td>\n",
       "      <td>1</td>\n",
       "      <td>0</td>\n",
       "      <td>0</td>\n",
       "      <td>1</td>\n",
       "      <td>8</td>\n",
       "      <td>5</td>\n",
       "      <td>...</td>\n",
       "      <td>0</td>\n",
       "      <td>1</td>\n",
       "      <td>0</td>\n",
       "      <td>1</td>\n",
       "      <td>0</td>\n",
       "      <td>0</td>\n",
       "      <td>0</td>\n",
       "      <td>1</td>\n",
       "      <td>44</td>\n",
       "      <td>15.0</td>\n",
       "    </tr>\n",
       "    <tr>\n",
       "      <th>7</th>\n",
       "      <td>3</td>\n",
       "      <td>1</td>\n",
       "      <td>1</td>\n",
       "      <td>1</td>\n",
       "      <td>0</td>\n",
       "      <td>0</td>\n",
       "      <td>1</td>\n",
       "      <td>1</td>\n",
       "      <td>8</td>\n",
       "      <td>5</td>\n",
       "      <td>...</td>\n",
       "      <td>0</td>\n",
       "      <td>0</td>\n",
       "      <td>0</td>\n",
       "      <td>1</td>\n",
       "      <td>0</td>\n",
       "      <td>0</td>\n",
       "      <td>0</td>\n",
       "      <td>1</td>\n",
       "      <td>47</td>\n",
       "      <td>15.0</td>\n",
       "    </tr>\n",
       "    <tr>\n",
       "      <th>8</th>\n",
       "      <td>3</td>\n",
       "      <td>1</td>\n",
       "      <td>1</td>\n",
       "      <td>1</td>\n",
       "      <td>0</td>\n",
       "      <td>1</td>\n",
       "      <td>0</td>\n",
       "      <td>1</td>\n",
       "      <td>10</td>\n",
       "      <td>1</td>\n",
       "      <td>...</td>\n",
       "      <td>0</td>\n",
       "      <td>1</td>\n",
       "      <td>0</td>\n",
       "      <td>1</td>\n",
       "      <td>0</td>\n",
       "      <td>0</td>\n",
       "      <td>0</td>\n",
       "      <td>1</td>\n",
       "      <td>21</td>\n",
       "      <td>6.0</td>\n",
       "    </tr>\n",
       "    <tr>\n",
       "      <th>...</th>\n",
       "      <td>...</td>\n",
       "      <td>...</td>\n",
       "      <td>...</td>\n",
       "      <td>...</td>\n",
       "      <td>...</td>\n",
       "      <td>...</td>\n",
       "      <td>...</td>\n",
       "      <td>...</td>\n",
       "      <td>...</td>\n",
       "      <td>...</td>\n",
       "      <td>...</td>\n",
       "      <td>...</td>\n",
       "      <td>...</td>\n",
       "      <td>...</td>\n",
       "      <td>...</td>\n",
       "      <td>...</td>\n",
       "      <td>...</td>\n",
       "      <td>...</td>\n",
       "      <td>...</td>\n",
       "      <td>...</td>\n",
       "      <td>...</td>\n",
       "    </tr>\n",
       "    <tr>\n",
       "      <th>11093</th>\n",
       "      <td>2</td>\n",
       "      <td>1</td>\n",
       "      <td>1</td>\n",
       "      <td>1</td>\n",
       "      <td>0</td>\n",
       "      <td>1</td>\n",
       "      <td>0</td>\n",
       "      <td>0</td>\n",
       "      <td>6</td>\n",
       "      <td>2</td>\n",
       "      <td>...</td>\n",
       "      <td>0</td>\n",
       "      <td>1</td>\n",
       "      <td>0</td>\n",
       "      <td>1</td>\n",
       "      <td>0</td>\n",
       "      <td>0</td>\n",
       "      <td>0</td>\n",
       "      <td>1</td>\n",
       "      <td>33</td>\n",
       "      <td>18.0</td>\n",
       "    </tr>\n",
       "    <tr>\n",
       "      <th>11094</th>\n",
       "      <td>2</td>\n",
       "      <td>1</td>\n",
       "      <td>1</td>\n",
       "      <td>1</td>\n",
       "      <td>1</td>\n",
       "      <td>1</td>\n",
       "      <td>1</td>\n",
       "      <td>0</td>\n",
       "      <td>9</td>\n",
       "      <td>4</td>\n",
       "      <td>...</td>\n",
       "      <td>0</td>\n",
       "      <td>0</td>\n",
       "      <td>0</td>\n",
       "      <td>1</td>\n",
       "      <td>0</td>\n",
       "      <td>0</td>\n",
       "      <td>0</td>\n",
       "      <td>1</td>\n",
       "      <td>46</td>\n",
       "      <td>16.5</td>\n",
       "    </tr>\n",
       "    <tr>\n",
       "      <th>11095</th>\n",
       "      <td>2</td>\n",
       "      <td>0</td>\n",
       "      <td>1</td>\n",
       "      <td>0</td>\n",
       "      <td>1</td>\n",
       "      <td>0</td>\n",
       "      <td>0</td>\n",
       "      <td>1</td>\n",
       "      <td>9</td>\n",
       "      <td>2</td>\n",
       "      <td>...</td>\n",
       "      <td>1</td>\n",
       "      <td>0</td>\n",
       "      <td>0</td>\n",
       "      <td>1</td>\n",
       "      <td>0</td>\n",
       "      <td>0</td>\n",
       "      <td>0</td>\n",
       "      <td>1</td>\n",
       "      <td>27</td>\n",
       "      <td>13.5</td>\n",
       "    </tr>\n",
       "    <tr>\n",
       "      <th>11096</th>\n",
       "      <td>2</td>\n",
       "      <td>1</td>\n",
       "      <td>0</td>\n",
       "      <td>1</td>\n",
       "      <td>0</td>\n",
       "      <td>0</td>\n",
       "      <td>0</td>\n",
       "      <td>0</td>\n",
       "      <td>7</td>\n",
       "      <td>3</td>\n",
       "      <td>...</td>\n",
       "      <td>1</td>\n",
       "      <td>0</td>\n",
       "      <td>0</td>\n",
       "      <td>1</td>\n",
       "      <td>0</td>\n",
       "      <td>0</td>\n",
       "      <td>0</td>\n",
       "      <td>2</td>\n",
       "      <td>58</td>\n",
       "      <td>18.0</td>\n",
       "    </tr>\n",
       "    <tr>\n",
       "      <th>11098</th>\n",
       "      <td>2</td>\n",
       "      <td>1</td>\n",
       "      <td>1</td>\n",
       "      <td>1</td>\n",
       "      <td>1</td>\n",
       "      <td>0</td>\n",
       "      <td>0</td>\n",
       "      <td>1</td>\n",
       "      <td>10</td>\n",
       "      <td>2</td>\n",
       "      <td>...</td>\n",
       "      <td>1</td>\n",
       "      <td>0</td>\n",
       "      <td>0</td>\n",
       "      <td>1</td>\n",
       "      <td>0</td>\n",
       "      <td>0</td>\n",
       "      <td>0</td>\n",
       "      <td>1</td>\n",
       "      <td>36</td>\n",
       "      <td>12.0</td>\n",
       "    </tr>\n",
       "  </tbody>\n",
       "</table>\n",
       "<p>9732 rows × 60 columns</p>\n",
       "</div>"
      ],
      "text/plain": [
       "       Size_hospital  Is_electiv  Choice  Is_corridor  Gender  Education  \\\n",
       "2                  3           1       0            0       1          0   \n",
       "3                  3           0       1            1       0          0   \n",
       "4                  3           0       1            1       1          0   \n",
       "7                  3           1       1            1       0          0   \n",
       "8                  3           1       1            1       0          1   \n",
       "...              ...         ...     ...          ...     ...        ...   \n",
       "11093              2           1       1            1       0          1   \n",
       "11094              2           1       1            1       1          1   \n",
       "11095              2           0       1            0       1          0   \n",
       "11096              2           1       0            1       0          0   \n",
       "11098              2           1       1            1       1          0   \n",
       "\n",
       "       Chronic  Health_status  Recommendation  ER_Treatment_Satisfaction  ...  \\\n",
       "2            1              1               1                          5  ...   \n",
       "3            1              0              10                          1  ...   \n",
       "4            0              1               8                          5  ...   \n",
       "7            1              1               8                          5  ...   \n",
       "8            0              1              10                          1  ...   \n",
       "...        ...            ...             ...                        ...  ...   \n",
       "11093        0              0               6                          2  ...   \n",
       "11094        1              0               9                          4  ...   \n",
       "11095        0              1               9                          2  ...   \n",
       "11096        0              0               7                          3  ...   \n",
       "11098        0              1              10                          2  ...   \n",
       "\n",
       "       Health insurance_3  Health insurance_4  Health insurance_5  \\\n",
       "2                       0                   0                   0   \n",
       "3                       0                   0                   0   \n",
       "4                       0                   1                   0   \n",
       "7                       0                   0                   0   \n",
       "8                       0                   1                   0   \n",
       "...                   ...                 ...                 ...   \n",
       "11093                   0                   1                   0   \n",
       "11094                   0                   0                   0   \n",
       "11095                   1                   0                   0   \n",
       "11096                   1                   0                   0   \n",
       "11098                   1                   0                   0   \n",
       "\n",
       "       Ownership_1  Ownership_2  Ownership_3  Ownership_5  Satisfaction  \\\n",
       "2                1            0            0            0             3   \n",
       "3                1            0            0            0             1   \n",
       "4                1            0            0            0             1   \n",
       "7                1            0            0            0             1   \n",
       "8                1            0            0            0             1   \n",
       "...            ...          ...          ...          ...           ...   \n",
       "11093            1            0            0            0             1   \n",
       "11094            1            0            0            0             1   \n",
       "11095            1            0            0            0             1   \n",
       "11096            1            0            0            0             2   \n",
       "11098            1            0            0            0             1   \n",
       "\n",
       "       Team_Score  Discharge_Score  \n",
       "2              71             18.0  \n",
       "3              21              6.0  \n",
       "4              44             15.0  \n",
       "7              47             15.0  \n",
       "8              21              6.0  \n",
       "...           ...              ...  \n",
       "11093          33             18.0  \n",
       "11094          46             16.5  \n",
       "11095          27             13.5  \n",
       "11096          58             18.0  \n",
       "11098          36             12.0  \n",
       "\n",
       "[9732 rows x 60 columns]"
      ]
     },
     "execution_count": 54,
     "metadata": {},
     "output_type": "execute_result"
    }
   ],
   "source": [
    "nurse_columns = ['Nurse_Respect', 'Nurse_Listening', 'Nurse_Explanation_Clarity']\n",
    "doctor_columns = ['Doctor_Respect', 'Doctor_Personal_Care', 'Doctor_Listening', 'Doctor_Explanation_Clarity']\n",
    "team_columns = ['Staff_Knowledge', 'Proactive_Communication', 'Team_Coordination','Pain_Management', 'Safety_Measures', 'Patient_Involvement', 'Safe_Hands_Feeling']\n",
    "discharge_columns = ['Alternative_Treatments', 'Next_Steps_Clarity', 'Response_Ease','Discharge_Efficiency']\n",
    "\n",
    "###GPT###\n",
    "df['Team_Score'] = (\n",
    "    df[nurse_columns].sum(axis=1) * 2 +  \n",
    "    df[doctor_columns].sum(axis=1) * 2 +  \n",
    "    df[team_columns].sum(axis=1) * 1 )\n",
    "\n",
    "df['Discharge_Score'] = df[discharge_columns].sum(axis=1) * 1.5  \n",
    "\n",
    "columns_to_drop = nurse_columns + doctor_columns + team_columns + discharge_columns\n",
    "df = df.drop(columns=columns_to_drop)\n",
    "df\n",
    "####"
   ]
  },
  {
   "cell_type": "code",
   "execution_count": 55,
   "id": "191e0fdd-71bd-41ed-b28f-935c0d2089f9",
   "metadata": {
    "executionInfo": {
     "elapsed": 36,
     "status": "aborted",
     "timestamp": 1736767607925,
     "user": {
      "displayName": "יואב כהן",
      "userId": "11310514616825726202"
     },
     "user_tz": -120
    },
    "id": "191e0fdd-71bd-41ed-b28f-935c0d2089f9"
   },
   "outputs": [
    {
     "data": {
      "text/plain": [
       "array([[ 3. ,  1. ,  0. , ...,  3. , 71. , 18. ],\n",
       "       [ 3. ,  0. ,  1. , ...,  1. , 21. ,  6. ],\n",
       "       [ 3. ,  0. ,  1. , ...,  1. , 44. , 15. ],\n",
       "       ...,\n",
       "       [ 2. ,  0. ,  1. , ...,  1. , 27. , 13.5],\n",
       "       [ 2. ,  1. ,  0. , ...,  2. , 58. , 18. ],\n",
       "       [ 2. ,  1. ,  1. , ...,  1. , 36. , 12. ]])"
      ]
     },
     "execution_count": 55,
     "metadata": {},
     "output_type": "execute_result"
    }
   ],
   "source": [
    "X = df.iloc[:, :].values\n",
    "X"
   ]
  },
  {
   "cell_type": "markdown",
   "id": "5470e680-b0bc-4ca9-87e0-9b627ae0dfca",
   "metadata": {},
   "source": [
    "### Normalization"
   ]
  },
  {
   "cell_type": "code",
   "execution_count": 56,
   "id": "b35715e3-adf2-4ceb-af1d-5d869ae0a016",
   "metadata": {},
   "outputs": [],
   "source": [
    "from sklearn.preprocessing import StandardScaler\n",
    "scaler = StandardScaler()\n",
    "X_scaled = scaler.fit_transform(df)                  "
   ]
  },
  {
   "cell_type": "markdown",
   "id": "b4ec7666-d53b-4f2f-ac6d-681a986ddef0",
   "metadata": {
    "id": "b4ec7666-d53b-4f2f-ac6d-681a986ddef0"
   },
   "source": [
    "### PCA\n",
    "Elbow Method"
   ]
  },
  {
   "cell_type": "code",
   "execution_count": 57,
   "id": "f7c60088-03cf-4564-9090-5fc57a5047ee",
   "metadata": {
    "executionInfo": {
     "elapsed": 37,
     "status": "aborted",
     "timestamp": 1736767607926,
     "user": {
      "displayName": "יואב כהן",
      "userId": "11310514616825726202"
     },
     "user_tz": -120
    },
    "id": "f7c60088-03cf-4564-9090-5fc57a5047ee"
   },
   "outputs": [
    {
     "data": {
      "image/png": "[encoded data removed]",
      "text/plain": [
       "<Figure size 720x432 with 1 Axes>"
      ]
     },
     "metadata": {
      "needs_background": "light"
     },
     "output_type": "display_data"
    },
    {
     "name": "stdout",
     "output_type": "stream",
     "text": [
      "Optimal number of components for 50.0% variance: 16\n",
      "Shape of original data: (9732, 60)\n",
      "Shape of PCA-transformed data: (9732, 16)\n"
     ]
    }
   ],
   "source": [
    "###GPT###\n",
    "from sklearn.decomposition import PCA\n",
    "from sklearn.pipeline import make_pipeline\n",
    "\n",
    "explained_variances = []\n",
    "for n in range(1, 20):\n",
    "    pca = PCA(n_components=n)\n",
    "    pca.fit(X_scaled)\n",
    "    explained_variances.append(np.sum(pca.explained_variance_ratio_))\n",
    "\n",
    "plt.figure(figsize=(10, 6))\n",
    "plt.plot(range(1, 20), explained_variances, marker='o', linestyle='--', label='Cumulative Explained Variance')\n",
    "plt.axhline(y=0.50, color='r', linestyle='--', label='50% Explained Variance')  # שינוי הסף ל-85%\n",
    "plt.title('PCA: Cumulative Proportion of Variance (CPA)')\n",
    "plt.xlabel('Number of PCA Components')\n",
    "plt.ylabel('Cumulative Explained Variance')\n",
    "plt.legend()\n",
    "plt.grid()\n",
    "plt.show()\n",
    "\n",
    "threshold = 0.50\n",
    "\n",
    "optimal_components = next(i for i, var in enumerate(explained_variances, 1) if var >= threshold)\n",
    "print(f\"Optimal number of components for {threshold*100}% variance: {optimal_components}\")\n",
    "\n",
    "pca = PCA(n_components=optimal_components)\n",
    "pca_result = pca.fit_transform(X_scaled)\n",
    "\n",
    "print(f\"Shape of original data: {df.shape}\")\n",
    "print(f\"Shape of PCA-transformed data: {pca_result.shape}\")\n",
    "####"
   ]
  },
  {
   "cell_type": "code",
   "execution_count": 58,
   "id": "b05e7df6-baf9-442e-9a81-210a5cc3236e",
   "metadata": {
    "executionInfo": {
     "elapsed": 36,
     "status": "aborted",
     "timestamp": 1736767607926,
     "user": {
      "displayName": "יואב כהן",
      "userId": "11310514616825726202"
     },
     "user_tz": -120
    },
    "id": "b05e7df6-baf9-442e-9a81-210a5cc3236e"
   },
   "outputs": [
    {
     "data": {
      "text/plain": [
       "array([[ 33.30284985,  -2.65160742,  -4.45123583, ...,   0.65095025,\n",
       "          0.71683382,   0.07827103],\n",
       "       [-19.30122012,  -4.40589663,   1.29534762, ...,   0.54225186,\n",
       "          0.42682965,  -0.05406062],\n",
       "       [  5.4078115 ,  -0.07597654,  -0.68203148, ...,   0.62945693,\n",
       "         -0.19896412,   0.09487936],\n",
       "       ...,\n",
       "       [-11.70548966,   1.73725069,   0.8401484 , ...,  -0.03654952,\n",
       "         -0.15133566,  -0.07479476],\n",
       "       [ 19.7864814 ,  -0.21843722,   0.49479137, ...,  -0.16544323,\n",
       "          0.04333467,   0.04331438],\n",
       "       [ -3.26596386,  -1.61899705,   2.0903335 , ...,  -0.75745549,\n",
       "         -0.23299796,   0.04619205]])"
      ]
     },
     "execution_count": 58,
     "metadata": {},
     "output_type": "execute_result"
    }
   ],
   "source": [
    "###GPT###\n",
    "from sklearn.pipeline import make_pipeline\n",
    "final_pipeline_pca = make_pipeline(PCA(n_components=16)) #Equal to the intersection point of the graphs\n",
    "pca_result = final_pipeline_pca.fit_transform(X)\n",
    "pca_result\n",
    "####"
   ]
  },
  {
   "cell_type": "markdown",
   "id": "Rni0lwa0SIyF",
   "metadata": {
    "id": "Rni0lwa0SIyF"
   },
   "source": [
    "# K-Means Clustering"
   ]
  },
  {
   "cell_type": "markdown",
   "id": "0xA4qlS2R3mN",
   "metadata": {
    "id": "0xA4qlS2R3mN"
   },
   "source": [
    "### Using the elbow method to find the optimal number of clusters\n"
   ]
  },
  {
   "cell_type": "code",
   "execution_count": 59,
   "id": "7-ZWscCVSRfn",
   "metadata": {
    "executionInfo": {
     "elapsed": 36,
     "status": "aborted",
     "timestamp": 1736767607926,
     "user": {
      "displayName": "יואב כהן",
      "userId": "11310514616825726202"
     },
     "user_tz": -120
    },
    "id": "7-ZWscCVSRfn"
   },
   "outputs": [
    {
     "data": {
      "image/png": "[encoded data removed]",
      "text/plain": [
       "<Figure size 432x288 with 1 Axes>"
      ]
     },
     "metadata": {
      "needs_background": "light"
     },
     "output_type": "display_data"
    }
   ],
   "source": [
    "from sklearn.cluster import KMeans\n",
    "wcss = []\n",
    "for i in range(1, 11):\n",
    "    kmeans = KMeans(n_clusters = i, init = 'k-means++', random_state = 42)\n",
    "    kmeans.fit(pca_result)\n",
    "    wcss.append(kmeans.inertia_)\n",
    "plt.plot(range(1, 11), wcss)\n",
    "plt.title('The Elbow Method')\n",
    "plt.xlabel('Number of clusters')\n",
    "plt.ylabel('WCSS')\n",
    "plt.show()"
   ]
  },
  {
   "cell_type": "markdown",
   "id": "YVGwgQ8GTQWU",
   "metadata": {
    "id": "YVGwgQ8GTQWU"
   },
   "source": [
    "where the graph stops decreasing sharply, that is the optimal number of clusters. Therefore, the optimal number of clusters is 4"
   ]
  },
  {
   "cell_type": "markdown",
   "id": "UK8K_RH4T_9l",
   "metadata": {
    "id": "UK8K_RH4T_9l"
   },
   "source": [
    "## Training the K-Means model on the dataset"
   ]
  },
  {
   "cell_type": "code",
   "execution_count": 60,
   "id": "cb4968ab-df1f-4725-9a1e-8b8c326e31d5",
   "metadata": {
    "executionInfo": {
     "elapsed": 36,
     "status": "aborted",
     "timestamp": 1736767607926,
     "user": {
      "displayName": "יואב כהן",
      "userId": "11310514616825726202"
     },
     "user_tz": -120
    },
    "id": "cb4968ab-df1f-4725-9a1e-8b8c326e31d5"
   },
   "outputs": [],
   "source": [
    "from sklearn.cluster import KMeans\n",
    "kmeans = KMeans(n_clusters = 4, init = 'k-means++', random_state = 42)\n",
    "y_kmeans = kmeans.fit_predict(pca_result)"
   ]
  },
  {
   "cell_type": "code",
   "execution_count": 61,
   "id": "o3sMMP5ucAzc",
   "metadata": {
    "executionInfo": {
     "elapsed": 30939,
     "status": "aborted",
     "timestamp": 1736767607931,
     "user": {
      "displayName": "יואב כהן",
      "userId": "11310514616825726202"
     },
     "user_tz": -120
    },
    "id": "o3sMMP5ucAzc"
   },
   "outputs": [
    {
     "name": "stdout",
     "output_type": "stream",
     "text": [
      "Silhouette Score: 0.40665717751700753\n"
     ]
    }
   ],
   "source": [
    "from sklearn.metrics import silhouette_score\n",
    "silhouette_avg = silhouette_score(pca_result, y_kmeans) \n",
    "print(f\"Silhouette Score: {silhouette_avg}\")"
   ]
  },
  {
   "cell_type": "code",
   "execution_count": 62,
   "id": "SqTxHemBobAx",
   "metadata": {
    "executionInfo": {
     "elapsed": 30940,
     "status": "aborted",
     "timestamp": 1736767607932,
     "user": {
      "displayName": "יואב כהן",
      "userId": "11310514616825726202"
     },
     "user_tz": -120
    },
    "id": "SqTxHemBobAx"
   },
   "outputs": [
    {
     "data": {
      "image/png": "[encoded data removed]",
      "text/plain": [
       "<Figure size 720x432 with 1 Axes>"
      ]
     },
     "metadata": {
      "needs_background": "light"
     },
     "output_type": "display_data"
    }
   ],
   "source": [
    "###GPT###\n",
    "silhouette_scores = []\n",
    "for k in range(2, 10):\n",
    "    kmeans = KMeans(n_clusters=k, random_state=42).fit(pca_result)\n",
    "    score = silhouette_score(pca_result, kmeans.labels_)\n",
    "    silhouette_scores.append(score)\n",
    "\n",
    "plt.figure(figsize=(10, 6))\n",
    "plt.plot(range(2, 10), silhouette_scores, marker='o')\n",
    "plt.title('Silhouette Score for Optimal k')\n",
    "plt.xlabel('Number of clusters')\n",
    "plt.ylabel('Silhouette Score')\n",
    "plt.xticks(range(2, 10))\n",
    "plt.grid(True)\n",
    "plt.show()\n",
    "####"
   ]
  },
  {
   "cell_type": "markdown",
   "id": "Co8gaOtGUq-8",
   "metadata": {
    "id": "Co8gaOtGUq-8"
   },
   "source": [
    "### Visualising the clusters"
   ]
  },
  {
   "cell_type": "code",
   "execution_count": 65,
   "id": "80801c23-a944-40fe-83f0-95bfa9c2947b",
   "metadata": {
    "executionInfo": {
     "elapsed": 30939,
     "status": "aborted",
     "timestamp": 1736767607932,
     "user": {
      "displayName": "יואב כהן",
      "userId": "11310514616825726202"
     },
     "user_tz": -120
    },
    "id": "80801c23-a944-40fe-83f0-95bfa9c2947b"
   },
   "outputs": [
    {
     "data": {
      "image/png": "[encoded data removed]",
      "text/plain": [
       "<Figure size 432x288 with 1 Axes>"
      ]
     },
     "metadata": {
      "needs_background": "light"
     },
     "output_type": "display_data"
    }
   ],
   "source": [
    "plt.scatter(pca_result[y_kmeans == 0, 0], pca_result[y_kmeans == 0, 1], s=100, c='red', label='Cluster 1')\n",
    "plt.scatter(pca_result[y_kmeans == 1, 0], pca_result[y_kmeans == 1, 1], s=100, c='blue', label='Cluster 2')\n",
    "plt.title('Clusters of patients')\n",
    "plt.xlabel('Pca 1')\n",
    "plt.ylabel('Pca 2')\n",
    "plt.legend()\n",
    "plt.show()"
   ]
  },
  {
   "cell_type": "markdown",
   "id": "816da1b9-4373-47aa-9718-831f4cb90b78",
   "metadata": {},
   "source": [
    "# Improving K-Means"
   ]
  },
  {
   "cell_type": "code",
   "execution_count": 67,
   "id": "e4046cb9-7b13-404f-a843-88bca924275d",
   "metadata": {},
   "outputs": [
    {
     "name": "stdout",
     "output_type": "stream",
     "text": [
      "Silhouette Scores for each fold: [0.5001433890689548, 0.5075907724077813, 0.5062660337319104, 0.5025263327031323, 0.510034483496601]\n",
      "Average Silhouette Score: 0.505312202281676\n"
     ]
    }
   ],
   "source": [
    "###GPT##\n",
    "from sklearn.model_selection import KFold\n",
    "from sklearn.cluster import KMeans\n",
    "from sklearn.metrics import silhouette_score\n",
    "import numpy as np\n",
    "\n",
    "kmeans = KMeans(n_clusters=2, random_state=42) \n",
    "\n",
    "kf = KFold(n_splits=5, shuffle=True, random_state=42)\n",
    "\n",
    "silhouette_scores = []\n",
    "\n",
    "for train_index, test_index in kf.split(pca_result):  # pca_result הוא הדאטה שלך\n",
    "    X_train, X_test = pca_result[train_index], pca_result[test_index]\n",
    "    kmeans.fit(X_train)\n",
    "    \n",
    "    score = silhouette_score(X_train, kmeans.labels_)\n",
    "    silhouette_scores.append(score)\n",
    "\n",
    "print(\"Silhouette Scores for each fold:\", silhouette_scores)\n",
    "print(\"Average Silhouette Score:\", np.mean(silhouette_scores))\n",
    "####"
   ]
  },
  {
   "cell_type": "code",
   "execution_count": 68,
   "id": "489e7a0b-8deb-42c2-ad76-1a35735fdaa9",
   "metadata": {},
   "outputs": [
    {
     "data": {
      "text/plain": [
       "array([[-7.60550709e+00, -2.18721364e-02,  3.61035541e-02,\n",
       "         1.95190739e-02, -6.14257745e-03,  1.28163166e-02,\n",
       "        -1.01745556e-02, -2.81391973e-03,  1.69587021e-02,\n",
       "         7.95100931e-04, -4.39342754e-03, -7.10087083e-05,\n",
       "        -3.76356489e-03, -2.12793472e-05, -3.33463495e-03,\n",
       "        -1.60891019e-03],\n",
       "       [ 2.27664510e+01, -7.20114283e-02, -1.04223201e-01,\n",
       "        -4.76168096e-02,  4.27915374e-03, -1.99715501e-02,\n",
       "         4.57196204e-02, -1.20567607e-02, -3.61921223e-02,\n",
       "        -1.02413087e-02,  2.76772090e-02, -1.97054569e-03,\n",
       "         2.68311162e-03, -3.69700360e-03,  7.48984424e-03,\n",
       "        -5.03595748e-03]])"
      ]
     },
     "execution_count": 68,
     "metadata": {},
     "output_type": "execute_result"
    }
   ],
   "source": [
    "#Centers of mass of the model\n",
    "kmeans.cluster_centers_"
   ]
  },
  {
   "cell_type": "markdown",
   "id": "a623f1af-2ca0-44ff-af2b-ef208b84f8cf",
   "metadata": {},
   "source": [
    "# Feature weights"
   ]
  },
  {
   "cell_type": "code",
   "execution_count": 73,
   "id": "58eabd5f-fd45-439f-a760-6ab3011decc4",
   "metadata": {},
   "outputs": [
    {
     "name": "stdout",
     "output_type": "stream",
     "text": [
      "PCA Components (Weights for each feature):\n",
      "[[-3.97322748e-04  3.00658438e-03 -4.32501230e-03 -1.90999896e-03\n",
      "  -5.51836442e-04 -2.20667814e-04  8.51480507e-04  5.79760349e-05\n",
      "  -9.90291483e-02  1.43508259e-02  3.06608516e-02  4.17358217e-02\n",
      "   4.37777575e-02  1.50084100e-02  2.53907916e-02  2.31069387e-02\n",
      "   1.89036573e-02  2.48303685e-02 -4.47836167e-04  2.16165446e-03\n",
      "  -2.15020734e-04 -1.94663373e-03  5.63401599e-04  4.32971131e-05\n",
      "  -1.46028430e-03  9.58669793e-04  3.32926843e-05 -1.38376891e-04\n",
      "   3.54846359e-04 -9.40760980e-04  2.30333351e-04  2.00102908e-04\n",
      "   1.40595639e-04  1.48827222e-05  1.08505411e-03 -1.17642518e-03\n",
      "  -1.66096012e-04 -1.92523525e-04  3.76914904e-04  7.30756975e-05\n",
      "   1.33833022e-04  3.79110377e-05 -2.45459358e-04 -3.31583998e-04\n",
      "  -3.90819795e-04 -3.73018363e-04  6.88090081e-04  4.81047374e-04\n",
      "  -1.16756885e-03 -5.85301749e-07  5.18703874e-04  7.99723753e-04\n",
      "  -1.50273476e-04  4.71666464e-04 -6.36706315e-04 -7.20154010e-05\n",
      "   2.37055252e-04  2.08148818e-02  9.68860580e-01  2.09366111e-01]\n",
      " [ 4.59766160e-03  1.67625205e-03  2.06142401e-03  1.65972940e-03\n",
      "  -1.26338713e-03  2.83322649e-03  3.90038713e-03 -1.29116362e-03\n",
      "  -3.82609207e-02  4.00401509e-02  5.69022070e-03  3.95643754e-02\n",
      "   3.94943458e-02  1.81071558e-02  1.85211391e-02  2.24142934e-02\n",
      "   5.35350812e-02  2.16373499e-02 -5.80119059e-03 -5.88155575e-04\n",
      "   2.19082248e-03 -1.60266691e-03  1.73244532e-02  3.02072743e-04\n",
      "  -1.73237327e-02 -4.89434408e-04 -1.06416498e-04  2.93057601e-04\n",
      "  -2.60482593e-03  1.84790447e-03  1.88819822e-04  2.83298173e-04\n",
      "   3.82024396e-04 -9.72209342e-05  1.65299377e-02 -1.37496710e-02\n",
      "  -1.34685654e-03 -1.63577196e-03  7.59761299e-04 -5.57399533e-04\n",
      "   2.28101920e-04 -5.91768068e-04 -5.15151287e-04 -8.40464507e-04\n",
      "  -1.10970697e-03  1.44608365e-03  1.33564440e-03  4.72608588e-05\n",
      "  -2.37912171e-03 -1.28425728e-03 -2.95232971e-04  3.94263514e-03\n",
      "   1.59768154e-05 -2.10316132e-03  8.78273113e-04 -1.51320024e-03\n",
      "   2.73808845e-03  3.90363278e-03 -2.20668089e-01  9.69193579e-01]\n",
      " [ 2.56713493e-02  1.79940728e-02  2.15283566e-02  7.85625882e-03\n",
      "   1.32368039e-02 -2.97817210e-03  5.99935907e-03 -3.29163169e-03\n",
      "   8.42251998e-01 -2.61099414e-01 -8.23735187e-02 -3.66857592e-02\n",
      "  -3.95165514e-02 -1.08929003e-01 -1.54942869e-01 -1.03335129e-01\n",
      "  -3.59039267e-01 -8.90620991e-02 -5.80305967e-03  6.66760955e-03\n",
      "  -8.28788949e-03  1.62027994e-03 -7.26362322e-03  4.83395970e-06\n",
      "  -5.73377003e-03  1.14570901e-02  2.64033129e-04  1.27143610e-03\n",
      "   5.28152572e-03 -6.10702633e-03 -3.38250883e-04  1.40206516e-03\n",
      "  -1.53130518e-05 -2.23000612e-04 -1.16893367e-03 -5.34977845e-03\n",
      "   1.16462791e-03  1.48458744e-03  2.91911948e-03  9.50377286e-04\n",
      "  -6.26341605e-03 -6.82120999e-03 -6.30761140e-03 -7.28813460e-03\n",
      "   3.47715515e-03  6.69247136e-03  1.24928619e-02  4.01788358e-03\n",
      "  -2.59626877e-04 -1.08142354e-03  5.78978474e-04  2.26877760e-03\n",
      "  -1.50670566e-03 -1.13593194e-03 -1.84624399e-04 -1.57849968e-03\n",
      "   2.89905601e-03 -9.04139507e-02  9.41274240e-02  9.83503570e-02]\n",
      " [ 3.72191483e-02 -1.10942263e-01  1.42510314e-02  1.36667242e-02\n",
      "  -1.56686637e-02  9.60731014e-04 -9.48575850e-03 -2.19075605e-03\n",
      "   3.83614929e-01  8.56730642e-01  1.61413423e-02 -2.77389562e-02\n",
      "  -3.76926266e-02 -1.66489252e-02 -1.14027203e-02 -5.61092030e-03\n",
      "   2.96685335e-01  2.61605188e-04 -8.06771309e-03 -6.58722157e-02\n",
      "   4.45066237e-02  2.13655920e-02  2.55465978e-02  7.95397819e-05\n",
      "  -3.02130458e-02  4.88241236e-03 -2.17862398e-04 -7.76417397e-05\n",
      "  -8.06121647e-03  1.04648232e-02 -2.06286086e-03  2.59313196e-04\n",
      "  -5.81356327e-04 -1.87027077e-05  2.81494470e-02 -2.52000187e-02\n",
      "  -1.47425585e-03 -2.50766524e-03  9.93794664e-04  3.86981116e-05\n",
      "   1.33545630e-03  2.26160848e-03  3.19605189e-03  1.10606244e-03\n",
      "   5.39726494e-04  3.79721754e-03 -6.25516909e-03 -5.98095406e-03\n",
      "  -8.26180818e-03 -5.83954524e-04  4.37105117e-03  3.69713887e-03\n",
      "   7.77572669e-04 -7.51898862e-03  4.84310215e-03  5.80969605e-03\n",
      "  -3.13380958e-03 -3.69120215e-02  3.12322406e-02 -2.82416349e-02]\n",
      " [ 7.10287973e-03  4.24019735e-02  2.02559844e-03  3.54079050e-03\n",
      "  -2.38628709e-02  5.23993411e-03 -1.49637360e-02  1.29752497e-03\n",
      "   2.53885142e-01 -4.12742632e-01 -4.24728782e-02 -2.10345379e-03\n",
      "   3.99846885e-03  3.69163382e-02  2.95668377e-02  4.62534816e-02\n",
      "   8.66341389e-01  2.76225939e-02 -1.35528762e-02  3.56426203e-04\n",
      "   1.59963432e-02 -1.63527694e-02  2.76035368e-02  3.07687452e-05\n",
      "  -1.61725887e-02 -1.15265684e-02  3.08783558e-04 -2.43931945e-04\n",
      "  -8.91554516e-03  8.79807759e-03  8.21726078e-04  6.70517403e-04\n",
      "  -8.98730689e-04 -4.76045216e-04  2.32974566e-02 -1.49427332e-02\n",
      "  -1.97206986e-03 -1.28125829e-03 -3.73897336e-03 -1.36242187e-03\n",
      "   1.02749806e-02  5.41430927e-03  8.36231909e-03  2.93216988e-03\n",
      "  -7.60129415e-03 -1.27535454e-02 -7.80426687e-03  1.17532758e-03\n",
      "  -8.10679051e-03  6.19324761e-04  1.32086001e-03  2.15600196e-03\n",
      "   4.01060378e-03  4.98241529e-04 -9.17835674e-03  4.22116708e-03\n",
      "   4.45894813e-03 -2.64678516e-02  1.81329700e-02 -2.09955773e-02]\n",
      " [-1.47309636e-02  1.04240104e-02  1.81755916e-03 -1.23691120e-02\n",
      "  -1.02053226e-02 -2.42963694e-04  2.52529894e-02  6.22051572e-03\n",
      "   2.10935872e-01 -1.05140659e-02  1.05084899e-01  2.24908315e-01\n",
      "   2.55720114e-01  2.49167123e-01  4.15079489e-01  5.97061833e-01\n",
      "  -1.32740083e-01  4.59019439e-01  6.59923921e-03  4.32173565e-02\n",
      "  -2.87024380e-02 -1.45149185e-02 -4.04833380e-03  4.54495361e-04\n",
      "  -4.83542818e-03  1.11815914e-02 -3.22305427e-04 -2.43001937e-03\n",
      "   1.44867257e-02 -1.68747890e-02  1.44650310e-03  7.35896082e-04\n",
      "   1.25292567e-04  8.03715081e-05  8.48658802e-05 -7.34197726e-03\n",
      "   3.36887509e-03  7.60453770e-04  2.40628730e-03  7.21495230e-04\n",
      "  -1.18847223e-02 -5.37255543e-03 -1.05319441e-02  1.57097810e-03\n",
      "   2.27029874e-03  8.61957933e-03  1.03464856e-02  4.98188009e-03\n",
      "   1.47126672e-03 -7.19601470e-04  5.74313091e-03 -1.52742185e-03\n",
      "  -4.96737431e-03 -1.35377866e-02  1.33435593e-02 -4.99840804e-03\n",
      "   5.19263536e-03  4.86768762e-03 -3.10106773e-02 -4.78994961e-02]\n",
      " [ 2.26905809e-02  4.91200718e-03 -1.49158848e-02 -6.45915403e-04\n",
      "   1.69663908e-02  1.41095860e-02  6.90089067e-03  2.68730927e-03\n",
      "  -5.35173846e-03  3.28115982e-02 -2.44348359e-02  5.67175380e-01\n",
      "   7.27021414e-01 -1.78692591e-01 -2.17378422e-01 -2.35082637e-01\n",
      "   4.50555202e-02 -6.83684386e-02  5.51443321e-03  6.19280625e-03\n",
      "  -6.17743817e-03 -1.53680835e-05 -1.66653718e-02  4.77939762e-04\n",
      "   1.78984520e-02  3.65828097e-03 -2.65946226e-04 -5.10335472e-03\n",
      "   5.25097243e-03 -7.05401982e-03  1.45857222e-03 -2.12815354e-04\n",
      "   9.65333992e-04 -4.08043463e-04 -2.12522061e-02  1.43413024e-02\n",
      "   2.87068461e-03  1.80096398e-03  6.85739906e-04  1.55351521e-03\n",
      "   5.14324976e-03  2.90101602e-03  7.25044276e-04 -7.69777649e-03\n",
      "  -8.75222385e-04 -3.50364617e-03  4.58113706e-04  2.84922129e-03\n",
      "  -4.87457805e-03  7.77542673e-03 -1.88214045e-03 -3.26202723e-03\n",
      "   2.24331901e-03  1.71277841e-02 -1.19843648e-02  2.13981059e-03\n",
      "  -7.28322989e-03 -4.30331329e-03 -3.21053285e-02 -4.83021022e-02]\n",
      " [-1.58744776e-02  1.10918970e-03 -5.71300598e-04 -3.05942684e-03\n",
      "   5.22250593e-03  5.25745915e-04 -5.50019856e-03 -1.09475549e-02\n",
      "   2.47208788e-02 -1.46179070e-02  1.63834861e-01 -4.54302006e-02\n",
      "  -7.99779962e-02 -4.22927914e-02  5.56835169e-02 -5.91707955e-01\n",
      "   9.09100143e-03  7.64394936e-01  3.61604982e-02  6.79856329e-04\n",
      "  -1.57344295e-02  1.50545731e-02 -6.74243367e-02 -1.22143927e-03\n",
      "   6.93239502e-02  1.13446442e-04  3.59163807e-04 -1.15078454e-03\n",
      "   1.29115844e-02 -1.30278339e-02  9.31365018e-04 -4.36820338e-04\n",
      "  -3.22782463e-04 -5.55126809e-05 -7.56675999e-02  5.57242342e-02\n",
      "   3.07673219e-03  8.75930156e-03  2.65977327e-03  5.44755873e-03\n",
      "   7.56659843e-03  8.64253960e-03  3.02317755e-03  1.43635495e-02\n",
      "   2.16440193e-03 -2.16452385e-02 -1.06929727e-02 -3.42205583e-03\n",
      "   9.33425891e-03  3.05956681e-03  6.00830036e-03 -1.74470819e-02\n",
      "  -9.55044210e-04  3.62185455e-02 -2.33986604e-02  1.70447439e-03\n",
      "  -1.45243595e-02  1.01303359e-02 -4.49062195e-03  5.79773976e-03]\n",
      " [ 1.88557857e-02  5.10513842e-02 -3.62465070e-02 -3.99440975e-02\n",
      "   1.48483001e-02 -6.83745554e-04 -3.88542637e-03  2.48542647e-03\n",
      "   3.35256012e-02 -1.29751928e-02  7.59854252e-01 -1.64660541e-02\n",
      "  -6.17493797e-02 -2.31772542e-01 -2.87411853e-01  2.44074356e-01\n",
      "   5.04216450e-02 -6.34826360e-02  8.26503835e-02  4.08056238e-02\n",
      "  -1.75429413e-02 -2.32626824e-02 -2.26959241e-01 -3.14146527e-04\n",
      "   2.06613194e-01  1.96835867e-02 -6.65479998e-04  1.64208727e-03\n",
      "   1.24539848e-02 -1.24522573e-02 -9.12706506e-04  1.89156647e-03\n",
      "  -1.95909383e-04 -7.84678131e-04 -2.20449937e-01  1.70529545e-01\n",
      "   1.78083949e-02  2.05336470e-02  7.22992845e-03  4.34842172e-03\n",
      "   1.35230357e-02  5.07875281e-03  4.97886256e-03  9.45016113e-04\n",
      "  -1.82272916e-03 -2.53816492e-02  1.74897311e-03  9.29738125e-04\n",
      "  -1.73154229e-03  7.41886040e-03  4.32716369e-03 -7.89375674e-03\n",
      "  -2.12072505e-03  1.12467424e-01 -9.33249088e-02  7.73954549e-03\n",
      "  -2.68820611e-02  4.80473701e-02 -1.49665161e-02  1.48684801e-02]\n",
      " [ 1.49833922e-02  3.60603285e-02  6.43513780e-03 -2.41627516e-03\n",
      "  -3.22198288e-02  8.87835027e-03  2.56351382e-02 -7.97361241e-03\n",
      "   9.69363787e-02 -2.17688151e-02  4.62805097e-01  4.83818270e-02\n",
      "   7.33207098e-02  4.36337296e-01  4.91540703e-01 -3.98416744e-01\n",
      "  -2.20792549e-02 -3.95419209e-01 -5.35591197e-02  3.45183671e-02\n",
      "  -2.33198033e-02 -1.11985638e-02  4.22314466e-02  6.49443125e-04\n",
      "  -2.77889766e-02 -1.78868699e-02 -4.72240890e-04  3.26719768e-03\n",
      "  -1.00422774e-02  4.76506071e-03  3.23105994e-03  5.59255429e-04\n",
      "   1.29020535e-03  1.96695949e-04  3.53358649e-02 -1.68561433e-02\n",
      "  -7.09868814e-03 -4.62082280e-03 -3.59566030e-03 -3.16455044e-03\n",
      "  -3.39881249e-04  9.95081458e-03 -4.08709556e-04 -8.84407935e-03\n",
      "  -6.34197827e-03 -1.46617045e-03  3.91828302e-03  3.53172127e-03\n",
      "   2.05381372e-02 -4.84546080e-03 -3.21498373e-03 -1.12804271e-02\n",
      "  -1.19726560e-03 -4.80260170e-02  4.05217438e-02  5.34986789e-03\n",
      "   2.15440523e-03  5.39297804e-02 -9.43639711e-03 -6.41340523e-03]\n",
      " [ 2.78455887e-01  2.91060557e-02  4.64380592e-02  1.86701278e-02\n",
      "  -7.29463017e-04  1.52651310e-02  9.41130864e-02  2.94487337e-02\n",
      "  -4.06692486e-02 -4.03866635e-02  3.48437989e-01 -3.35764281e-02\n",
      "   5.51823844e-03 -5.07291020e-02 -2.80924719e-01  4.72477261e-02\n",
      "  -2.58632853e-02  1.45284183e-01 -1.92676239e-01  4.82681584e-02\n",
      "  -4.89310566e-02  6.62898212e-04  4.14193516e-01 -7.03374974e-04\n",
      "  -3.91155515e-01 -2.02270391e-02 -4.92101866e-04 -1.61548534e-03\n",
      "  -1.37453495e-02  8.03561758e-03  4.85665316e-03 -3.45019197e-03\n",
      "   3.38310794e-03  9.20162804e-04  4.13041055e-01 -3.11212213e-01\n",
      "  -3.36524962e-02 -4.77890080e-02 -1.04840019e-02 -9.90333541e-03\n",
      "  -1.55615582e-02 -2.36493950e-02 -3.30731396e-02 -4.23874866e-02\n",
      "   7.77326428e-03  5.82897085e-02  3.60541980e-02  1.25544087e-02\n",
      "  -2.05062484e-02 -1.48308614e-02 -2.24148653e-02  4.96398705e-02\n",
      "   8.11210454e-03 -1.07428888e-01  1.17788347e-01 -2.59488796e-02\n",
      "   1.55894205e-02 -1.26859094e-02 -4.81893039e-03 -2.83135518e-02]\n",
      " [ 3.11625262e-01 -9.46751058e-02  6.24043053e-02 -1.13961189e-02\n",
      "  -2.51312883e-02  7.55831242e-03 -1.54830983e-01 -1.54312887e-02\n",
      "  -1.58371807e-02 -4.47359135e-02 -2.62861957e-03  1.66247385e-02\n",
      "   9.34173168e-04 -3.16952171e-02  1.39281227e-01 -1.13098754e-02\n",
      "  -3.94915022e-02 -2.04046588e-02  6.16872043e-02 -2.39962906e-01\n",
      "   2.01735637e-01  3.82272691e-02  2.38851004e-02  2.39113442e-03\n",
      "  -8.16523606e-02  5.24395650e-02 -2.56568467e-04  3.19312931e-03\n",
      "  -3.16453063e-02  4.38065443e-02 -6.54135109e-03 -9.17208658e-04\n",
      "  -3.71508073e-03 -9.87597513e-04  6.11858967e-02 -9.13119851e-02\n",
      "   1.43217522e-02  8.02969670e-03  9.11945133e-03 -1.34481186e-03\n",
      "   2.60255223e-02  2.59956061e-02  3.40056114e-02  2.10735623e-02\n",
      "   4.50069624e-05 -4.31894393e-02 -4.77983173e-02 -1.61575524e-02\n",
      "  -4.22259571e-01  7.62938365e-02  7.38570944e-02  2.46481756e-01\n",
      "   2.56268837e-02  5.16534964e-01 -4.25800455e-01 -5.12137162e-02\n",
      "  -3.95207931e-02 -1.77971808e-02 -1.91014874e-03 -4.60298120e-03]\n",
      " [ 6.78397061e-01  1.25191323e-01 -6.43810165e-02 -3.02174022e-02\n",
      "   3.15670891e-02  1.49028688e-02  2.50572552e-01 -1.14106070e-02\n",
      "  -6.43729929e-03  4.95844796e-02 -1.56139602e-01 -5.03745499e-02\n",
      "  -1.27424270e-03 -9.66295460e-03  8.59470582e-02 -1.82981436e-02\n",
      "   3.52101557e-02 -2.78695853e-02  1.25466669e-01  3.66283181e-01\n",
      "  -4.06387521e-01  4.01043403e-02 -9.18071649e-02 -6.87368529e-03\n",
      "   8.79255327e-02  4.27919808e-03 -1.20257492e-03  7.67869428e-03\n",
      "   1.40414730e-02 -2.31260200e-02  7.43067485e-03 -5.59876488e-04\n",
      "   1.89361193e-03  3.20136664e-04 -9.82421360e-02  8.58575429e-02\n",
      "   1.00347380e-02 -3.29118068e-03  3.21198918e-03  2.42904661e-03\n",
      "  -2.90274977e-02 -2.77643166e-02 -1.84509563e-02 -2.78305309e-02\n",
      "   2.47253420e-02  4.58597056e-02  1.99085488e-02  1.25797050e-02\n",
      "   7.12903094e-02 -4.13488212e-03 -6.09871050e-02  2.20619410e-03\n",
      "  -8.37451643e-03  1.49824934e-01  6.29184171e-02 -1.02769939e-01\n",
      "  -1.09973411e-01  2.83335506e-02  1.92180822e-03  3.01404738e-03]\n",
      " [ 3.93900350e-01 -1.74343850e-01 -2.57809359e-02  3.14518039e-02\n",
      "   8.76800982e-02 -2.70419360e-02 -1.26268279e-01 -1.41284472e-02\n",
      "  -1.99022723e-02 -7.74332463e-02  5.04991055e-02  2.77251440e-02\n",
      "  -1.37311502e-02 -3.85524726e-01  3.01967169e-01  1.90424805e-02\n",
      "  -1.29230824e-02 -2.65796780e-02  8.13978846e-02 -3.91752186e-01\n",
      "   3.34406335e-01  5.73458511e-02 -1.21557415e-02 -6.51803427e-03\n",
      "   3.17232591e-02 -1.11611487e-03  9.33414405e-04 -1.28667829e-02\n",
      "  -3.84703145e-02  5.19677992e-02 -8.31553035e-03 -4.08967099e-03\n",
      "  -1.81855839e-03  7.26275052e-04 -3.56395125e-02  4.68966302e-02\n",
      "  -2.16423006e-03 -1.05853442e-02  2.28912891e-03 -7.96672383e-04\n",
      "   1.02766568e-02  2.63590607e-02  2.47706128e-02  1.51289937e-02\n",
      "  -2.24861993e-02  9.76210644e-03 -3.90515061e-02 -2.47597250e-02\n",
      "   2.27223877e-01 -5.45921025e-02 -6.85493215e-02 -1.04581577e-01\n",
      "   4.99123421e-04 -2.06137869e-01  3.51529189e-01 -4.76611490e-02\n",
      "  -9.77301711e-02 -1.73756851e-02 -2.17317480e-03  4.34508066e-03]\n",
      " [ 3.01702767e-01 -7.37675035e-02  5.50018834e-02 -2.46611406e-03\n",
      "  -6.86731430e-02  3.00279398e-02 -1.42164650e-01  9.43450386e-05\n",
      "  -5.79689857e-03 -2.25165111e-02 -3.93315185e-02  8.79183308e-02\n",
      "  -3.68067188e-02  6.82147219e-01 -4.71713161e-01  1.67543917e-02\n",
      "  -2.26451270e-02  6.79870593e-02  7.04518148e-02 -2.23764509e-01\n",
      "   1.91424404e-01  3.23401045e-02 -7.27669264e-02  2.50298796e-03\n",
      "   1.03389541e-01 -2.97193164e-02  9.76700113e-04 -4.38298626e-03\n",
      "   4.11117034e-03  6.25402007e-03 -4.13300931e-03 -8.80758529e-04\n",
      "  -4.83550701e-03 -5.15915545e-04 -9.66646123e-02  8.69664288e-02\n",
      "   8.18651685e-03  9.62635763e-03 -5.90491476e-03 -2.20977626e-03\n",
      "   1.12754630e-02  2.99185793e-02  3.48254879e-02  4.21631434e-02\n",
      "   9.52074850e-03 -5.36446562e-02 -4.89336589e-02 -2.51251070e-02\n",
      "   8.46423530e-02 -1.88229448e-02 -7.67013202e-03 -5.65012803e-02\n",
      "  -1.64799595e-03 -4.02703285e-02  1.29352772e-01 -3.54538927e-02\n",
      "  -5.36285504e-02  1.26404523e-02  7.70631785e-04  5.05271727e-05]\n",
      " [ 2.31040922e-02  6.11652379e-02  5.94299604e-03 -1.60613031e-02\n",
      "  -2.38666743e-02  2.13313046e-03 -4.89694863e-03  7.05579765e-03\n",
      "  -2.03635924e-03  7.29160352e-03 -1.96351539e-02  7.65476810e-01\n",
      "  -6.09747954e-01 -6.23311960e-02  3.70538862e-02 -1.27476737e-02\n",
      "   3.96038487e-03 -2.21514522e-02 -1.00645859e-01  4.92704933e-02\n",
      "  -5.21666049e-02  2.89611157e-03  2.54228648e-02 -7.70493968e-04\n",
      "   1.72454066e-03 -2.02122919e-02 -7.54899690e-04 -5.40971996e-03\n",
      "   2.73711087e-02 -4.26677223e-02  9.24277207e-03  4.61359834e-03\n",
      "   1.30664834e-03  1.33594808e-04  3.52078682e-03  5.65550344e-03\n",
      "  -7.68556088e-03 -9.72179213e-04  2.35903788e-04 -7.54453963e-04\n",
      "   8.37998597e-03  2.08309156e-03 -1.09309063e-04 -9.80948231e-03\n",
      "   4.21854194e-02 -3.27929905e-02 -9.35603153e-03 -5.80683605e-04\n",
      "  -6.05520652e-02  2.14684934e-02  1.14958545e-02  2.40773791e-02\n",
      "   3.51033810e-03 -4.62939080e-02  1.90707652e-03  2.75308548e-02\n",
      "   1.68559767e-02 -1.70785486e-02 -2.84244571e-03 -7.37166495e-03]]\n",
      "\n",
      "PCA Component 1 Weights (for each feature):\n",
      "Feature 1: -0.0004\n",
      "Feature 2: 0.0030\n",
      "Feature 3: -0.0043\n",
      "Feature 4: -0.0019\n",
      "Feature 5: -0.0006\n",
      "Feature 6: -0.0002\n",
      "Feature 7: 0.0009\n",
      "Feature 8: 0.0001\n",
      "Feature 9: -0.0990\n",
      "Feature 10: 0.0144\n",
      "Feature 11: 0.0307\n",
      "Feature 12: 0.0417\n",
      "Feature 13: 0.0438\n",
      "Feature 14: 0.0150\n",
      "Feature 15: 0.0254\n",
      "Feature 16: 0.0231\n",
      "Feature 17: 0.0189\n",
      "Feature 18: 0.0248\n",
      "Feature 19: -0.0004\n",
      "Feature 20: 0.0022\n",
      "Feature 21: -0.0002\n",
      "Feature 22: -0.0019\n",
      "Feature 23: 0.0006\n",
      "Feature 24: 0.0000\n",
      "Feature 25: -0.0015\n",
      "Feature 26: 0.0010\n",
      "Feature 27: 0.0000\n",
      "Feature 28: -0.0001\n",
      "Feature 29: 0.0004\n",
      "Feature 30: -0.0009\n",
      "Feature 31: 0.0002\n",
      "Feature 32: 0.0002\n",
      "Feature 33: 0.0001\n",
      "Feature 34: 0.0000\n",
      "Feature 35: 0.0011\n",
      "Feature 36: -0.0012\n",
      "Feature 37: -0.0002\n",
      "Feature 38: -0.0002\n",
      "Feature 39: 0.0004\n",
      "Feature 40: 0.0001\n",
      "Feature 41: 0.0001\n",
      "Feature 42: 0.0000\n",
      "Feature 43: -0.0002\n",
      "Feature 44: -0.0003\n",
      "Feature 45: -0.0004\n",
      "Feature 46: -0.0004\n",
      "Feature 47: 0.0007\n",
      "Feature 48: 0.0005\n",
      "Feature 49: -0.0012\n",
      "Feature 50: -0.0000\n",
      "Feature 51: 0.0005\n",
      "Feature 52: 0.0008\n",
      "Feature 53: -0.0002\n",
      "Feature 54: 0.0005\n",
      "Feature 55: -0.0006\n",
      "Feature 56: -0.0001\n",
      "Feature 57: 0.0002\n",
      "Feature 58: 0.0208\n",
      "Feature 59: 0.9689\n",
      "Feature 60: 0.2094\n"
     ]
    }
   ],
   "source": [
    "###GPT##\n",
    "from sklearn.decomposition import PCA\n",
    "import numpy as np\n",
    "\n",
    "pca = PCA(n_components=16)\n",
    "pca_result = pca.fit_transform(X)\n",
    "\n",
    "print(\"PCA Components (Weights for each feature):\")\n",
    "print(pca.components_)\n",
    "\n",
    "print(\"\\nPCA Component 1 Weights (for each feature):\")\n",
    "for i, feature in enumerate(pca.components_[0]):\n",
    "    print(f\"Feature {i+1}: {feature:.4f}\")\n",
    "####"
   ]
  },
  {
   "cell_type": "code",
   "execution_count": 74,
   "id": "61b1cf6e-709b-442f-99bf-40c02e86ddc5",
   "metadata": {},
   "outputs": [
    {
     "name": "stdout",
     "output_type": "stream",
     "text": [
      "<class 'pandas.core.frame.DataFrame'>\n",
      "Index: 9732 entries, 2 to 11098\n",
      "Data columns (total 60 columns):\n",
      " #   Column                         Non-Null Count  Dtype  \n",
      "---  ------                         --------------  -----  \n",
      " 0   Size_hospital                  9732 non-null   int32  \n",
      " 1   Is_electiv                     9732 non-null   int32  \n",
      " 2   Choice                         9732 non-null   int32  \n",
      " 3   Is_corridor                    9732 non-null   int32  \n",
      " 4   Gender                         9732 non-null   int32  \n",
      " 5   Education                      9732 non-null   int32  \n",
      " 6   Chronic                        9732 non-null   int32  \n",
      " 7   Health_status                  9732 non-null   int32  \n",
      " 8   Recommendation                 9732 non-null   int32  \n",
      " 9   ER_Treatment_Satisfaction      9732 non-null   int32  \n",
      " 10  Admission_Efficiency           9732 non-null   int32  \n",
      " 11  Discharge_Problem_Explanation  9732 non-null   int32  \n",
      " 12  Discharge_Followup_Clarity     9732 non-null   int32  \n",
      " 13  Room_Cleanliness               9732 non-null   int32  \n",
      " 14  Room_Conditions                9732 non-null   int32  \n",
      " 15  Night_Quietness                9732 non-null   int32  \n",
      " 16  Food_Satisfaction              9732 non-null   int32  \n",
      " 17  Visitor_Comfort                9732 non-null   int32  \n",
      " 18  Hospital_Periphery             9732 non-null   int32  \n",
      " 19  Ward_1                         9732 non-null   int32  \n",
      " 20  Ward_2                         9732 non-null   int32  \n",
      " 21  Ward_3                         9732 non-null   int32  \n",
      " 22  Primary_Language_1             9732 non-null   int32  \n",
      " 23  Primary_Language_2             9732 non-null   int32  \n",
      " 24  Primary_Language_3             9732 non-null   int32  \n",
      " 25  Primary_Language_4             9732 non-null   int32  \n",
      " 26  Primary_Language_5             9732 non-null   int32  \n",
      " 27  Primary_Language_6             9732 non-null   int32  \n",
      " 28  Living_Situation_1             9732 non-null   int32  \n",
      " 29  Living_Situation_2             9732 non-null   int32  \n",
      " 30  Living_Situation_3             9732 non-null   int32  \n",
      " 31  Living_Situation_4             9732 non-null   int32  \n",
      " 32  Living_Situation_5             9732 non-null   int32  \n",
      " 33  Living_Situation_6             9732 non-null   int32  \n",
      " 34  Religious_Affiliation_1        9732 non-null   int32  \n",
      " 35  Religious_Affiliation_2        9732 non-null   int32  \n",
      " 36  Religious_Affiliation_3        9732 non-null   int32  \n",
      " 37  Religious_Affiliation_4        9732 non-null   int32  \n",
      " 38  Religious_Affiliation_5        9732 non-null   int32  \n",
      " 39  Religious_Affiliation_6        9732 non-null   int32  \n",
      " 40  Age_1                          9732 non-null   int32  \n",
      " 41  Age_2                          9732 non-null   int32  \n",
      " 42  Age_3                          9732 non-null   int32  \n",
      " 43  Age_4                          9732 non-null   int32  \n",
      " 44  Age_5                          9732 non-null   int32  \n",
      " 45  Age_6                          9732 non-null   int32  \n",
      " 46  Age_7                          9732 non-null   int32  \n",
      " 47  Age_8                          9732 non-null   int32  \n",
      " 48  Health insurance_1             9732 non-null   int32  \n",
      " 49  Health insurance_2             9732 non-null   int32  \n",
      " 50  Health insurance_3             9732 non-null   int32  \n",
      " 51  Health insurance_4             9732 non-null   int32  \n",
      " 52  Health insurance_5             9732 non-null   int32  \n",
      " 53  Ownership_1                    9732 non-null   int32  \n",
      " 54  Ownership_2                    9732 non-null   int32  \n",
      " 55  Ownership_3                    9732 non-null   int32  \n",
      " 56  Ownership_5                    9732 non-null   int32  \n",
      " 57  Satisfaction                   9732 non-null   int32  \n",
      " 58  Team_Score                     9732 non-null   int64  \n",
      " 59  Discharge_Score                9732 non-null   float64\n",
      "dtypes: float64(1), int32(58), int64(1)\n",
      "memory usage: 2.4 MB\n"
     ]
    }
   ],
   "source": [
    "df.info()"
   ]
  },
  {
   "cell_type": "markdown",
   "id": "d8b6948a-b9d4-411f-9053-142e50b92154",
   "metadata": {},
   "source": [
    "# Hierarchical Clustering\n",
    "We used all the data because all the columns are numeric."
   ]
  },
  {
   "cell_type": "markdown",
   "id": "72ee865c-c149-4fba-bd19-0629cc08c70a",
   "metadata": {},
   "source": [
    "## Using the dendrogram to find the optimal number of clusters"
   ]
  },
  {
   "cell_type": "code",
   "execution_count": null,
   "id": "08a8e08b-9306-4354-8b3c-c5e62d2f5e4a",
   "metadata": {},
   "outputs": [],
   "source": [
    "import scipy.cluster.hierarchy as sch\n",
    "import matplotlib.pyplot as plt\n",
    "\n",
    "plt.figure(figsize=(12, 8))  \n",
    "dendrogram = sch.dendrogram(sch.linkage(pca_result, method = 'ward'))\n",
    "plt.title('Dendrogram')\n",
    "plt.xlabel('Customers')\n",
    "plt.ylabel('Euclidean distances')\n",
    "plt.show()"
   ]
  },
  {
   "cell_type": "markdown",
   "id": "119c658f-0d45-4d18-8f6f-7a71f767ddc3",
   "metadata": {},
   "source": [
    "## Training the Hierarchical Clustering model on the dataset"
   ]
  },
  {
   "cell_type": "code",
   "execution_count": null,
   "id": "1ccf599e-9c1e-4d76-a9d3-ab355319e77d",
   "metadata": {},
   "outputs": [],
   "source": [
    "from sklearn.cluster import AgglomerativeClustering\n",
    "hc = AgglomerativeClustering(n_clusters = 3, linkage = 'ward')\n",
    "y_hc = hc.fit_predict(pca_result)"
   ]
  },
  {
   "cell_type": "code",
   "execution_count": null,
   "id": "a56b7268-76b7-4bb8-9342-33389796147d",
   "metadata": {},
   "outputs": [],
   "source": [
    "silhouette_avg = silhouette_score(pca_result, y_hc)  \n",
    "print(f\"Silhouette Score: {silhouette_avg}\")"
   ]
  },
  {
   "cell_type": "markdown",
   "id": "5413a0aa-4447-4398-83a8-717f222c697e",
   "metadata": {},
   "source": [
    "## Visualising the clusters"
   ]
  },
  {
   "cell_type": "code",
   "execution_count": null,
   "id": "50aeaa32-d964-4176-8610-3c0894bc0003",
   "metadata": {},
   "outputs": [],
   "source": [
    "plt.scatter(pca_result[y_hc == 0, 0], pca_result[y_hc == 0, 1], s = 100, c = 'red', label = 'Cluster 1')\n",
    "plt.scatter(pca_result[y_hc == 1, 0], pca_result[y_hc == 1, 1], s = 100, c = 'blue', label = 'Cluster 2')\n",
    "plt.scatter(pca_result[y_hc == 2, 0], pca_result[y_hc == 2, 1], s = 100, c = 'green', label = 'Cluster 3')\n",
    "\n",
    "plt.title('Clusters of patients')\n",
    "plt.xlabel('Pca 1')\n",
    "plt.ylabel('Pca 2')\n",
    "plt.legend()\n",
    "plt.show()"
   ]
  },
  {
   "cell_type": "code",
   "execution_count": null,
   "id": "1c324683-23e2-4f7b-829f-c54dfdedad78",
   "metadata": {},
   "outputs": [],
   "source": []
  }
 ],
 "metadata": {
  "colab": {
   "provenance": []
  },
  "kernelspec": {
   "display_name": "Python 3 (ipykernel)",
   "language": "python",
   "name": "python3"
  },
  "language_info": {
   "codemirror_mode": {
    "name": "ipython",
    "version": 3
   },
   "file_extension": ".py",
   "mimetype": "text/x-python",
   "name": "python",
   "nbconvert_exporter": "python",
   "pygments_lexer": "ipython3",
   "version": "3.10.2"
  }
 },
 "nbformat": 4,
 "nbformat_minor": 5
}
